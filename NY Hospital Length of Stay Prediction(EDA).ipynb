{
  "cells": [
    {
      "cell_type": "markdown",
      "metadata": {
        "id": "waj417BPVRL2"
      },
      "source": [
        "# New York Hospital Inpatient Discharges in 2015"
      ]
    },
    {
      "cell_type": "markdown",
      "metadata": {
        "id": "xf71Pl3AWG1y"
      },
      "source": [
        "Hi! I'm Theresia Evelyn, A Health Data Enthusiast. This is my Final Project in order to complete Dibimbing Data Science Batch 13 Bootcamp. The dataset I use here is a public dataset provided by [New York State Department of Health](https://health.data.ny.gov/Health/Hospital-Inpatient-Discharges-SPARCS-De-Identified/82xm-y6g8).\n",
        "\n",
        "Length of Stay is a clinical metric that measures the length of time elapsed between a patient's hospital admittance and discharge. It's an important indicator of the efficiency of hospital management. Here I am trying to predict New York Hospital Inpatient Discharges Data in 2015.\n",
        "\n",
        "This is the continuation from **[previous colab](https://colab.research.google.com/drive/1N_fuOFMjsD6M951-FoW5kV5-YdXkeLlr?usp=sharing)**, after the features get filtered by the regression."
      ]
    },
    {
      "cell_type": "markdown",
      "metadata": {
        "id": "K7GTZMa2bvhr"
      },
      "source": [
        "# Import Libraries"
      ]
    },
    {
      "cell_type": "code",
      "execution_count": 1,
      "metadata": {
        "id": "FMbRKFBMQBgY"
      },
      "outputs": [],
      "source": [
        "# First we'll import the basic libraries that we'll use in this project\n",
        "import pandas as pd\n",
        "import numpy as np\n",
        "\n",
        "# For the visualization\n",
        "import seaborn as sns\n",
        "import matplotlib.pyplot as plt\n",
        "\n",
        "# For splitting train test\n",
        "from sklearn.model_selection import train_test_split\n",
        "\n",
        "# VIF scores\n",
        "from statsmodels.stats.outliers_influence import variance_inflation_factor as vif \n",
        "from statsmodels.tools.tools import add_constant\n",
        "\n",
        "# For Modelling\n",
        "from sklearn.linear_model import LinearRegression\n",
        "from sklearn.model_selection import GridSearchCV\n",
        "from sklearn.linear_model import Ridge\n",
        "from sklearn.linear_model import Lasso\n",
        "\n",
        "# For Evaluation\n",
        "from sklearn.metrics import r2_score\n",
        "from sklearn.metrics import mean_squared_error\n",
        "from sklearn.metrics import mean_absolute_error\n",
        "from sklearn.metrics import mean_absolute_percentage_error\n",
        "from numpy import math\n",
        "import warnings\n",
        "warnings.filterwarnings('ignore')"
      ]
    },
    {
      "cell_type": "markdown",
      "metadata": {
        "id": "iiiAiPghQmDd"
      },
      "source": [
        "# Load The Dataset"
      ]
    },
    {
      "cell_type": "code",
      "execution_count": 2,
      "metadata": {
        "colab": {
          "base_uri": "https://localhost:8080/"
        },
        "id": "947RavaXN_wI",
        "outputId": "461c7d93-99fd-48e1-a21b-b4a3d3031586"
      },
      "outputs": [
        {
          "output_type": "stream",
          "name": "stdout",
          "text": [
            "Mounted at /content/gdrive\n"
          ]
        }
      ],
      "source": [
        "from google.colab import drive\n",
        "drive.mount('/content/gdrive')"
      ]
    },
    {
      "cell_type": "code",
      "execution_count": 3,
      "metadata": {
        "colab": {
          "base_uri": "https://localhost:8080/",
          "height": 525
        },
        "id": "-dA4qkRUepw8",
        "outputId": "4ce39597-07e5-4985-9e8e-a9964acae17b"
      },
      "outputs": [
        {
          "output_type": "execute_result",
          "data": {
            "text/plain": [
              "  Health Service Area Hospital County  Operating Certificate Number  \\\n",
              "0          Western NY     Cattaraugus                      401001.0   \n",
              "1          Western NY     Cattaraugus                      401001.0   \n",
              "2          Western NY     Cattaraugus                      401001.0   \n",
              "3          Western NY     Cattaraugus                      401001.0   \n",
              "4          Western NY      Chautauqua                      602001.0   \n",
              "\n",
              "   Facility Id                  Facility Name Age Group Zip Code - 3 digits  \\\n",
              "0         66.0         Olean General Hospital  50 to 69                 147   \n",
              "1         66.0         Olean General Hospital  18 to 29                 147   \n",
              "2         66.0         Olean General Hospital  30 to 49                 147   \n",
              "3         66.0         Olean General Hospital  50 to 69                 147   \n",
              "4        103.0  Woman's Christian Association  50 to 69                 147   \n",
              "\n",
              "  Gender   Race          Ethnicity  ... Payment Typology 2 Payment Typology 3  \\\n",
              "0      F  White  Not Span/Hispanic  ...                NaN                NaN   \n",
              "1      F  White  Not Span/Hispanic  ...                NaN                NaN   \n",
              "2      M  White  Not Span/Hispanic  ...                NaN                NaN   \n",
              "3      F  White  Not Span/Hispanic  ...                NaN                NaN   \n",
              "4      M  White  Not Span/Hispanic  ...                NaN                NaN   \n",
              "\n",
              "  Attending Provider License Number  Operating Provider License Number  \\\n",
              "0                          267162.0                                NaN   \n",
              "1                          275408.0                                NaN   \n",
              "2                          267162.0                                NaN   \n",
              "3                          271326.0                                NaN   \n",
              "4                          243034.0                                NaN   \n",
              "\n",
              "   Other Provider License Number Birth Weight  Abortion Edit Indicator  \\\n",
              "0                            NaN            0                        N   \n",
              "1                            NaN            0                        N   \n",
              "2                            NaN            0                        N   \n",
              "3                            NaN            0                        N   \n",
              "4                            NaN            0                        N   \n",
              "\n",
              "  Emergency Department Indicator  Total Charges Total Costs  \n",
              "0                              Y       $5620.00    $4561.28  \n",
              "1                              Y       $7404.18    $6933.94  \n",
              "2                              Y       $7931.28    $7154.85  \n",
              "3                              Y      $11304.44    $4584.11  \n",
              "4                              Y       $8330.50    $4361.74  \n",
              "\n",
              "[5 rows x 37 columns]"
            ],
            "text/html": [
              "\n",
              "  <div id=\"df-334cd53d-98b2-42b0-abbb-c1099e8fcfcf\">\n",
              "    <div class=\"colab-df-container\">\n",
              "      <div>\n",
              "<style scoped>\n",
              "    .dataframe tbody tr th:only-of-type {\n",
              "        vertical-align: middle;\n",
              "    }\n",
              "\n",
              "    .dataframe tbody tr th {\n",
              "        vertical-align: top;\n",
              "    }\n",
              "\n",
              "    .dataframe thead th {\n",
              "        text-align: right;\n",
              "    }\n",
              "</style>\n",
              "<table border=\"1\" class=\"dataframe\">\n",
              "  <thead>\n",
              "    <tr style=\"text-align: right;\">\n",
              "      <th></th>\n",
              "      <th>Health Service Area</th>\n",
              "      <th>Hospital County</th>\n",
              "      <th>Operating Certificate Number</th>\n",
              "      <th>Facility Id</th>\n",
              "      <th>Facility Name</th>\n",
              "      <th>Age Group</th>\n",
              "      <th>Zip Code - 3 digits</th>\n",
              "      <th>Gender</th>\n",
              "      <th>Race</th>\n",
              "      <th>Ethnicity</th>\n",
              "      <th>...</th>\n",
              "      <th>Payment Typology 2</th>\n",
              "      <th>Payment Typology 3</th>\n",
              "      <th>Attending Provider License Number</th>\n",
              "      <th>Operating Provider License Number</th>\n",
              "      <th>Other Provider License Number</th>\n",
              "      <th>Birth Weight</th>\n",
              "      <th>Abortion Edit Indicator</th>\n",
              "      <th>Emergency Department Indicator</th>\n",
              "      <th>Total Charges</th>\n",
              "      <th>Total Costs</th>\n",
              "    </tr>\n",
              "  </thead>\n",
              "  <tbody>\n",
              "    <tr>\n",
              "      <th>0</th>\n",
              "      <td>Western NY</td>\n",
              "      <td>Cattaraugus</td>\n",
              "      <td>401001.0</td>\n",
              "      <td>66.0</td>\n",
              "      <td>Olean General Hospital</td>\n",
              "      <td>50 to 69</td>\n",
              "      <td>147</td>\n",
              "      <td>F</td>\n",
              "      <td>White</td>\n",
              "      <td>Not Span/Hispanic</td>\n",
              "      <td>...</td>\n",
              "      <td>NaN</td>\n",
              "      <td>NaN</td>\n",
              "      <td>267162.0</td>\n",
              "      <td>NaN</td>\n",
              "      <td>NaN</td>\n",
              "      <td>0</td>\n",
              "      <td>N</td>\n",
              "      <td>Y</td>\n",
              "      <td>$5620.00</td>\n",
              "      <td>$4561.28</td>\n",
              "    </tr>\n",
              "    <tr>\n",
              "      <th>1</th>\n",
              "      <td>Western NY</td>\n",
              "      <td>Cattaraugus</td>\n",
              "      <td>401001.0</td>\n",
              "      <td>66.0</td>\n",
              "      <td>Olean General Hospital</td>\n",
              "      <td>18 to 29</td>\n",
              "      <td>147</td>\n",
              "      <td>F</td>\n",
              "      <td>White</td>\n",
              "      <td>Not Span/Hispanic</td>\n",
              "      <td>...</td>\n",
              "      <td>NaN</td>\n",
              "      <td>NaN</td>\n",
              "      <td>275408.0</td>\n",
              "      <td>NaN</td>\n",
              "      <td>NaN</td>\n",
              "      <td>0</td>\n",
              "      <td>N</td>\n",
              "      <td>Y</td>\n",
              "      <td>$7404.18</td>\n",
              "      <td>$6933.94</td>\n",
              "    </tr>\n",
              "    <tr>\n",
              "      <th>2</th>\n",
              "      <td>Western NY</td>\n",
              "      <td>Cattaraugus</td>\n",
              "      <td>401001.0</td>\n",
              "      <td>66.0</td>\n",
              "      <td>Olean General Hospital</td>\n",
              "      <td>30 to 49</td>\n",
              "      <td>147</td>\n",
              "      <td>M</td>\n",
              "      <td>White</td>\n",
              "      <td>Not Span/Hispanic</td>\n",
              "      <td>...</td>\n",
              "      <td>NaN</td>\n",
              "      <td>NaN</td>\n",
              "      <td>267162.0</td>\n",
              "      <td>NaN</td>\n",
              "      <td>NaN</td>\n",
              "      <td>0</td>\n",
              "      <td>N</td>\n",
              "      <td>Y</td>\n",
              "      <td>$7931.28</td>\n",
              "      <td>$7154.85</td>\n",
              "    </tr>\n",
              "    <tr>\n",
              "      <th>3</th>\n",
              "      <td>Western NY</td>\n",
              "      <td>Cattaraugus</td>\n",
              "      <td>401001.0</td>\n",
              "      <td>66.0</td>\n",
              "      <td>Olean General Hospital</td>\n",
              "      <td>50 to 69</td>\n",
              "      <td>147</td>\n",
              "      <td>F</td>\n",
              "      <td>White</td>\n",
              "      <td>Not Span/Hispanic</td>\n",
              "      <td>...</td>\n",
              "      <td>NaN</td>\n",
              "      <td>NaN</td>\n",
              "      <td>271326.0</td>\n",
              "      <td>NaN</td>\n",
              "      <td>NaN</td>\n",
              "      <td>0</td>\n",
              "      <td>N</td>\n",
              "      <td>Y</td>\n",
              "      <td>$11304.44</td>\n",
              "      <td>$4584.11</td>\n",
              "    </tr>\n",
              "    <tr>\n",
              "      <th>4</th>\n",
              "      <td>Western NY</td>\n",
              "      <td>Chautauqua</td>\n",
              "      <td>602001.0</td>\n",
              "      <td>103.0</td>\n",
              "      <td>Woman's Christian Association</td>\n",
              "      <td>50 to 69</td>\n",
              "      <td>147</td>\n",
              "      <td>M</td>\n",
              "      <td>White</td>\n",
              "      <td>Not Span/Hispanic</td>\n",
              "      <td>...</td>\n",
              "      <td>NaN</td>\n",
              "      <td>NaN</td>\n",
              "      <td>243034.0</td>\n",
              "      <td>NaN</td>\n",
              "      <td>NaN</td>\n",
              "      <td>0</td>\n",
              "      <td>N</td>\n",
              "      <td>Y</td>\n",
              "      <td>$8330.50</td>\n",
              "      <td>$4361.74</td>\n",
              "    </tr>\n",
              "  </tbody>\n",
              "</table>\n",
              "<p>5 rows × 37 columns</p>\n",
              "</div>\n",
              "      <button class=\"colab-df-convert\" onclick=\"convertToInteractive('df-334cd53d-98b2-42b0-abbb-c1099e8fcfcf')\"\n",
              "              title=\"Convert this dataframe to an interactive table.\"\n",
              "              style=\"display:none;\">\n",
              "        \n",
              "  <svg xmlns=\"http://www.w3.org/2000/svg\" height=\"24px\"viewBox=\"0 0 24 24\"\n",
              "       width=\"24px\">\n",
              "    <path d=\"M0 0h24v24H0V0z\" fill=\"none\"/>\n",
              "    <path d=\"M18.56 5.44l.94 2.06.94-2.06 2.06-.94-2.06-.94-.94-2.06-.94 2.06-2.06.94zm-11 1L8.5 8.5l.94-2.06 2.06-.94-2.06-.94L8.5 2.5l-.94 2.06-2.06.94zm10 10l.94 2.06.94-2.06 2.06-.94-2.06-.94-.94-2.06-.94 2.06-2.06.94z\"/><path d=\"M17.41 7.96l-1.37-1.37c-.4-.4-.92-.59-1.43-.59-.52 0-1.04.2-1.43.59L10.3 9.45l-7.72 7.72c-.78.78-.78 2.05 0 2.83L4 21.41c.39.39.9.59 1.41.59.51 0 1.02-.2 1.41-.59l7.78-7.78 2.81-2.81c.8-.78.8-2.07 0-2.86zM5.41 20L4 18.59l7.72-7.72 1.47 1.35L5.41 20z\"/>\n",
              "  </svg>\n",
              "      </button>\n",
              "      \n",
              "  <style>\n",
              "    .colab-df-container {\n",
              "      display:flex;\n",
              "      flex-wrap:wrap;\n",
              "      gap: 12px;\n",
              "    }\n",
              "\n",
              "    .colab-df-convert {\n",
              "      background-color: #E8F0FE;\n",
              "      border: none;\n",
              "      border-radius: 50%;\n",
              "      cursor: pointer;\n",
              "      display: none;\n",
              "      fill: #1967D2;\n",
              "      height: 32px;\n",
              "      padding: 0 0 0 0;\n",
              "      width: 32px;\n",
              "    }\n",
              "\n",
              "    .colab-df-convert:hover {\n",
              "      background-color: #E2EBFA;\n",
              "      box-shadow: 0px 1px 2px rgba(60, 64, 67, 0.3), 0px 1px 3px 1px rgba(60, 64, 67, 0.15);\n",
              "      fill: #174EA6;\n",
              "    }\n",
              "\n",
              "    [theme=dark] .colab-df-convert {\n",
              "      background-color: #3B4455;\n",
              "      fill: #D2E3FC;\n",
              "    }\n",
              "\n",
              "    [theme=dark] .colab-df-convert:hover {\n",
              "      background-color: #434B5C;\n",
              "      box-shadow: 0px 1px 3px 1px rgba(0, 0, 0, 0.15);\n",
              "      filter: drop-shadow(0px 1px 2px rgba(0, 0, 0, 0.3));\n",
              "      fill: #FFFFFF;\n",
              "    }\n",
              "  </style>\n",
              "\n",
              "      <script>\n",
              "        const buttonEl =\n",
              "          document.querySelector('#df-334cd53d-98b2-42b0-abbb-c1099e8fcfcf button.colab-df-convert');\n",
              "        buttonEl.style.display =\n",
              "          google.colab.kernel.accessAllowed ? 'block' : 'none';\n",
              "\n",
              "        async function convertToInteractive(key) {\n",
              "          const element = document.querySelector('#df-334cd53d-98b2-42b0-abbb-c1099e8fcfcf');\n",
              "          const dataTable =\n",
              "            await google.colab.kernel.invokeFunction('convertToInteractive',\n",
              "                                                     [key], {});\n",
              "          if (!dataTable) return;\n",
              "\n",
              "          const docLinkHtml = 'Like what you see? Visit the ' +\n",
              "            '<a target=\"_blank\" href=https://colab.research.google.com/notebooks/data_table.ipynb>data table notebook</a>'\n",
              "            + ' to learn more about interactive tables.';\n",
              "          element.innerHTML = '';\n",
              "          dataTable['output_type'] = 'display_data';\n",
              "          await google.colab.output.renderOutput(dataTable, element);\n",
              "          const docLink = document.createElement('div');\n",
              "          docLink.innerHTML = docLinkHtml;\n",
              "          element.appendChild(docLink);\n",
              "        }\n",
              "      </script>\n",
              "    </div>\n",
              "  </div>\n",
              "  "
            ]
          },
          "metadata": {},
          "execution_count": 3
        }
      ],
      "source": [
        "# Load the dataset we'll use here\n",
        "data = pd.read_csv('/content/gdrive/MyDrive/Dibimbing DS13/FINPRO WML/Hospital Inpatient Discharges NY 2015.csv')\n",
        "data.head()"
      ]
    },
    {
      "cell_type": "code",
      "execution_count": 4,
      "metadata": {
        "colab": {
          "base_uri": "https://localhost:8080/"
        },
        "id": "YQ4pbb5TfUTy",
        "outputId": "3dced270-dd17-474d-a59d-ce218557334c"
      },
      "outputs": [
        {
          "output_type": "stream",
          "name": "stdout",
          "text": [
            "<class 'pandas.core.frame.DataFrame'>\n",
            "RangeIndex: 2346760 entries, 0 to 2346759\n",
            "Data columns (total 37 columns):\n",
            " #   Column                               Dtype  \n",
            "---  ------                               -----  \n",
            " 0   Health Service Area                  object \n",
            " 1   Hospital County                      object \n",
            " 2   Operating Certificate Number         float64\n",
            " 3   Facility Id                          float64\n",
            " 4   Facility Name                        object \n",
            " 5   Age Group                            object \n",
            " 6   Zip Code - 3 digits                  object \n",
            " 7   Gender                               object \n",
            " 8   Race                                 object \n",
            " 9   Ethnicity                            object \n",
            " 10  Length of Stay                       object \n",
            " 11  Type of Admission                    object \n",
            " 12  Patient Disposition                  object \n",
            " 13  Discharge Year                       int64  \n",
            " 14  CCS Diagnosis Code                   int64  \n",
            " 15  CCS Diagnosis Description            object \n",
            " 16  CCS Procedure Code                   int64  \n",
            " 17  CCS Procedure Description            object \n",
            " 18  APR DRG Code                         int64  \n",
            " 19  APR DRG Description                  object \n",
            " 20  APR MDC Code                         int64  \n",
            " 21  APR MDC Description                  object \n",
            " 22  APR Severity of Illness Code         int64  \n",
            " 23  APR Severity of Illness Description  object \n",
            " 24  APR Risk of Mortality                object \n",
            " 25  APR Medical Surgical Description     object \n",
            " 26  Payment Typology 1                   object \n",
            " 27  Payment Typology 2                   object \n",
            " 28  Payment Typology 3                   object \n",
            " 29  Attending Provider License Number    float64\n",
            " 30  Operating Provider License Number    float64\n",
            " 31  Other Provider License Number        float64\n",
            " 32  Birth Weight                         int64  \n",
            " 33  Abortion Edit Indicator              object \n",
            " 34  Emergency Department Indicator       object \n",
            " 35  Total Charges                        object \n",
            " 36  Total Costs                          object \n",
            "dtypes: float64(5), int64(7), object(25)\n",
            "memory usage: 662.5+ MB\n"
          ]
        }
      ],
      "source": [
        "# Dig more infos about this dataset\n",
        "data.info()"
      ]
    },
    {
      "cell_type": "code",
      "execution_count": 5,
      "metadata": {
        "colab": {
          "base_uri": "https://localhost:8080/"
        },
        "id": "MZi4T7KZPlqE",
        "outputId": "12f5cd22-0e77-419a-d083-a45b916a0bca"
      },
      "outputs": [
        {
          "output_type": "execute_result",
          "data": {
            "text/plain": [
              "(2346760, 37)"
            ]
          },
          "metadata": {},
          "execution_count": 5
        }
      ],
      "source": [
        "data.shape"
      ]
    },
    {
      "cell_type": "markdown",
      "metadata": {
        "id": "v60lqIrCiejB"
      },
      "source": [
        "**We can conclude that:**\n",
        "\n",
        "- This dataset consists of 2.346.760 rows and 37 features\n",
        "- The target column, `Length of Stay`, is still object dtype, so we'll need to change it later\n",
        "- We'll drop `Facility Id` and `Discharge Year` later, because we won't use them\n",
        "- We'll have to encode some categorical data and\n",
        "- We'll need to check the correlation and multicollinearity among the numeric features."
      ]
    },
    {
      "cell_type": "markdown",
      "metadata": {
        "id": "ayaGHKk-hqjN"
      },
      "source": [
        "**Columns (Features) Understanding**\n",
        "\n",
        "- `Health Service Area`: Where the hospital is located\n",
        "- `Hospital County`: The county in which the hospital is located\n",
        "- `Facility Name`: The name of the facility\n",
        "- `Age Group`: Age in years at time of discharge\n",
        "- `Gender`: Patient gender \n",
        "- `Race`: Patient race\n",
        "- `Ethnicity`: Patient Ethnicity\n",
        "- `Length of Stay`: The total number of patient days at hospital\n",
        "- `Type of Admission`: The manner in which the patient was admitted to hospital \n",
        "- `Patient Disposition`: The patient's destination or status upon discharge\n",
        "- `CCS Diagnosis Description`: Clinical Classification Software (CCS) Diagnosis\n",
        "Category Description \n",
        "- `CCS Procedure Description`: Clinical Classification Software (CCS) Procedure\n",
        "Category Description  \n",
        "- `APR DRG Description`: APR-DRG Classification Code Description \n",
        "- `APR MDC Description`: All Patient Refined Major Diagnostic Category Description\n",
        "- `APR Severity of Illness Code`: APR-DRG Severity of Illness Code \n",
        "- `APR Severity of Illness Description`: All Patient Refined Severity of Illness (APR SOI) Description \n",
        "- `APR Risk of Mortality`: All Patient Refined Risk of Mortality \n",
        "- `APR Medical Surgical Description`: APR-DRG specific classification of Medical \n",
        "- `Payment Typology 1`: A description of the type of payment for this occurrence \n",
        "- `Birth Weight`: The neonate birth weight in grams; rounded to nearest 100g\n",
        "- `Abortion Edit Indicator`: A flag to indicate if the discharge record contains any indication of abortion \n",
        "- `Emergency Department Indicator`: If the record contained an Emergency Department revenue, the indicator is set to \"Y\", otherwise it will be “N”.\n",
        "- `Total Charges`: Total charges for the discharge\n",
        "- `Total Costs`: Total estimated costs for the discharge\n"
      ]
    },
    {
      "cell_type": "markdown",
      "metadata": {
        "id": "OaCDVpt1yBvM"
      },
      "source": [
        "# Data Prepocessing"
      ]
    },
    {
      "cell_type": "markdown",
      "metadata": {
        "id": "w00uSPLZAPz_"
      },
      "source": [
        "## Handling Duplicated Value"
      ]
    },
    {
      "cell_type": "code",
      "execution_count": 6,
      "metadata": {
        "colab": {
          "base_uri": "https://localhost:8080/"
        },
        "id": "U6u6OcaoUBMF",
        "outputId": "1751ecfe-8fb5-47da-f6b8-f5246a037bd6"
      },
      "outputs": [
        {
          "output_type": "stream",
          "name": "stdout",
          "text": [
            "Duplicated values :  2273\n",
            "Percentage of duplicated values :  0.0968569431897595\n"
          ]
        }
      ],
      "source": [
        "# Check duplicated values\n",
        "\n",
        "print('Duplicated values : ', data.duplicated().sum())\n",
        "print('Percentage of duplicated values : ', data.duplicated().sum()/len(data)*100)"
      ]
    },
    {
      "cell_type": "code",
      "execution_count": 7,
      "metadata": {
        "colab": {
          "base_uri": "https://localhost:8080/"
        },
        "id": "zkj56KS68VNq",
        "outputId": "2e1980a8-20b3-4dce-d08c-3e0fce1e93e7"
      },
      "outputs": [
        {
          "output_type": "stream",
          "name": "stdout",
          "text": [
            "Rows before dropping duplicated values : 2346760\n"
          ]
        }
      ],
      "source": [
        "print('Rows before dropping duplicated values :', len(data))"
      ]
    },
    {
      "cell_type": "code",
      "execution_count": 8,
      "metadata": {
        "colab": {
          "base_uri": "https://localhost:8080/"
        },
        "id": "eO-XqXW_WNCs",
        "outputId": "4518edf0-c4b6-4436-a969-d5d5221a18f1"
      },
      "outputs": [
        {
          "output_type": "stream",
          "name": "stdout",
          "text": [
            "Rows after dropping duplicated values : 2344487\n"
          ]
        }
      ],
      "source": [
        "# Drop duplicated data\n",
        "data = data.drop_duplicates()\n",
        "print('Rows after dropping duplicated values :', len(data))"
      ]
    },
    {
      "cell_type": "markdown",
      "metadata": {
        "id": "uFsb6ZG0yLXj"
      },
      "source": [
        "## Handling Missing Value\n",
        "\n"
      ]
    },
    {
      "cell_type": "code",
      "execution_count": 9,
      "metadata": {
        "colab": {
          "base_uri": "https://localhost:8080/",
          "height": 363
        },
        "id": "RsjcxcjXvSjJ",
        "outputId": "3d7bdb49-d6fa-428c-dfd9-bb70afea8457"
      },
      "outputs": [
        {
          "output_type": "execute_result",
          "data": {
            "text/plain": [
              "                             feature  missing_value  percentage\n",
              "0      Other Provider License Number        2273151       96.96\n",
              "1                 Payment Typology 3        1644073       70.13\n",
              "2                 Payment Typology 2         761749       32.49\n",
              "3  Operating Provider License Number         612265       26.12\n",
              "4                Zip Code - 3 digits           4425        0.19\n",
              "5                    Hospital County           2911        0.12\n",
              "6  Attending Provider License Number           2911        0.12\n",
              "7                Health Service Area           2911        0.12\n",
              "8                        Facility Id           2911        0.12\n",
              "9       Operating Certificate Number           2911        0.12"
            ],
            "text/html": [
              "\n",
              "  <div id=\"df-57506eb0-5707-447b-9a13-670fd7ef1c84\">\n",
              "    <div class=\"colab-df-container\">\n",
              "      <div>\n",
              "<style scoped>\n",
              "    .dataframe tbody tr th:only-of-type {\n",
              "        vertical-align: middle;\n",
              "    }\n",
              "\n",
              "    .dataframe tbody tr th {\n",
              "        vertical-align: top;\n",
              "    }\n",
              "\n",
              "    .dataframe thead th {\n",
              "        text-align: right;\n",
              "    }\n",
              "</style>\n",
              "<table border=\"1\" class=\"dataframe\">\n",
              "  <thead>\n",
              "    <tr style=\"text-align: right;\">\n",
              "      <th></th>\n",
              "      <th>feature</th>\n",
              "      <th>missing_value</th>\n",
              "      <th>percentage</th>\n",
              "    </tr>\n",
              "  </thead>\n",
              "  <tbody>\n",
              "    <tr>\n",
              "      <th>0</th>\n",
              "      <td>Other Provider License Number</td>\n",
              "      <td>2273151</td>\n",
              "      <td>96.96</td>\n",
              "    </tr>\n",
              "    <tr>\n",
              "      <th>1</th>\n",
              "      <td>Payment Typology 3</td>\n",
              "      <td>1644073</td>\n",
              "      <td>70.13</td>\n",
              "    </tr>\n",
              "    <tr>\n",
              "      <th>2</th>\n",
              "      <td>Payment Typology 2</td>\n",
              "      <td>761749</td>\n",
              "      <td>32.49</td>\n",
              "    </tr>\n",
              "    <tr>\n",
              "      <th>3</th>\n",
              "      <td>Operating Provider License Number</td>\n",
              "      <td>612265</td>\n",
              "      <td>26.12</td>\n",
              "    </tr>\n",
              "    <tr>\n",
              "      <th>4</th>\n",
              "      <td>Zip Code - 3 digits</td>\n",
              "      <td>4425</td>\n",
              "      <td>0.19</td>\n",
              "    </tr>\n",
              "    <tr>\n",
              "      <th>5</th>\n",
              "      <td>Hospital County</td>\n",
              "      <td>2911</td>\n",
              "      <td>0.12</td>\n",
              "    </tr>\n",
              "    <tr>\n",
              "      <th>6</th>\n",
              "      <td>Attending Provider License Number</td>\n",
              "      <td>2911</td>\n",
              "      <td>0.12</td>\n",
              "    </tr>\n",
              "    <tr>\n",
              "      <th>7</th>\n",
              "      <td>Health Service Area</td>\n",
              "      <td>2911</td>\n",
              "      <td>0.12</td>\n",
              "    </tr>\n",
              "    <tr>\n",
              "      <th>8</th>\n",
              "      <td>Facility Id</td>\n",
              "      <td>2911</td>\n",
              "      <td>0.12</td>\n",
              "    </tr>\n",
              "    <tr>\n",
              "      <th>9</th>\n",
              "      <td>Operating Certificate Number</td>\n",
              "      <td>2911</td>\n",
              "      <td>0.12</td>\n",
              "    </tr>\n",
              "  </tbody>\n",
              "</table>\n",
              "</div>\n",
              "      <button class=\"colab-df-convert\" onclick=\"convertToInteractive('df-57506eb0-5707-447b-9a13-670fd7ef1c84')\"\n",
              "              title=\"Convert this dataframe to an interactive table.\"\n",
              "              style=\"display:none;\">\n",
              "        \n",
              "  <svg xmlns=\"http://www.w3.org/2000/svg\" height=\"24px\"viewBox=\"0 0 24 24\"\n",
              "       width=\"24px\">\n",
              "    <path d=\"M0 0h24v24H0V0z\" fill=\"none\"/>\n",
              "    <path d=\"M18.56 5.44l.94 2.06.94-2.06 2.06-.94-2.06-.94-.94-2.06-.94 2.06-2.06.94zm-11 1L8.5 8.5l.94-2.06 2.06-.94-2.06-.94L8.5 2.5l-.94 2.06-2.06.94zm10 10l.94 2.06.94-2.06 2.06-.94-2.06-.94-.94-2.06-.94 2.06-2.06.94z\"/><path d=\"M17.41 7.96l-1.37-1.37c-.4-.4-.92-.59-1.43-.59-.52 0-1.04.2-1.43.59L10.3 9.45l-7.72 7.72c-.78.78-.78 2.05 0 2.83L4 21.41c.39.39.9.59 1.41.59.51 0 1.02-.2 1.41-.59l7.78-7.78 2.81-2.81c.8-.78.8-2.07 0-2.86zM5.41 20L4 18.59l7.72-7.72 1.47 1.35L5.41 20z\"/>\n",
              "  </svg>\n",
              "      </button>\n",
              "      \n",
              "  <style>\n",
              "    .colab-df-container {\n",
              "      display:flex;\n",
              "      flex-wrap:wrap;\n",
              "      gap: 12px;\n",
              "    }\n",
              "\n",
              "    .colab-df-convert {\n",
              "      background-color: #E8F0FE;\n",
              "      border: none;\n",
              "      border-radius: 50%;\n",
              "      cursor: pointer;\n",
              "      display: none;\n",
              "      fill: #1967D2;\n",
              "      height: 32px;\n",
              "      padding: 0 0 0 0;\n",
              "      width: 32px;\n",
              "    }\n",
              "\n",
              "    .colab-df-convert:hover {\n",
              "      background-color: #E2EBFA;\n",
              "      box-shadow: 0px 1px 2px rgba(60, 64, 67, 0.3), 0px 1px 3px 1px rgba(60, 64, 67, 0.15);\n",
              "      fill: #174EA6;\n",
              "    }\n",
              "\n",
              "    [theme=dark] .colab-df-convert {\n",
              "      background-color: #3B4455;\n",
              "      fill: #D2E3FC;\n",
              "    }\n",
              "\n",
              "    [theme=dark] .colab-df-convert:hover {\n",
              "      background-color: #434B5C;\n",
              "      box-shadow: 0px 1px 3px 1px rgba(0, 0, 0, 0.15);\n",
              "      filter: drop-shadow(0px 1px 2px rgba(0, 0, 0, 0.3));\n",
              "      fill: #FFFFFF;\n",
              "    }\n",
              "  </style>\n",
              "\n",
              "      <script>\n",
              "        const buttonEl =\n",
              "          document.querySelector('#df-57506eb0-5707-447b-9a13-670fd7ef1c84 button.colab-df-convert');\n",
              "        buttonEl.style.display =\n",
              "          google.colab.kernel.accessAllowed ? 'block' : 'none';\n",
              "\n",
              "        async function convertToInteractive(key) {\n",
              "          const element = document.querySelector('#df-57506eb0-5707-447b-9a13-670fd7ef1c84');\n",
              "          const dataTable =\n",
              "            await google.colab.kernel.invokeFunction('convertToInteractive',\n",
              "                                                     [key], {});\n",
              "          if (!dataTable) return;\n",
              "\n",
              "          const docLinkHtml = 'Like what you see? Visit the ' +\n",
              "            '<a target=\"_blank\" href=https://colab.research.google.com/notebooks/data_table.ipynb>data table notebook</a>'\n",
              "            + ' to learn more about interactive tables.';\n",
              "          element.innerHTML = '';\n",
              "          dataTable['output_type'] = 'display_data';\n",
              "          await google.colab.output.renderOutput(dataTable, element);\n",
              "          const docLink = document.createElement('div');\n",
              "          docLink.innerHTML = docLinkHtml;\n",
              "          element.appendChild(docLink);\n",
              "        }\n",
              "      </script>\n",
              "    </div>\n",
              "  </div>\n",
              "  "
            ]
          },
          "metadata": {},
          "execution_count": 9
        }
      ],
      "source": [
        "# Find out how many null data this dataset has\n",
        "# Make a dataframe of missing value for easy reading\n",
        "data_nan = data.isna().sum().reset_index()\n",
        "data_nan.columns = ['feature','missing_value']\n",
        "data_nan['percentage'] = round((data_nan['missing_value']/len(data))*100,2)\n",
        "data_nan = data_nan.sort_values('percentage', ascending=False).reset_index(drop=True)\n",
        "data_nan = data_nan[data_nan['percentage']>0]\n",
        "data_nan"
      ]
    },
    {
      "cell_type": "markdown",
      "metadata": {
        "id": "o-gK-N-Bn-2q"
      },
      "source": [
        "**We'll need to drop `Other Provider License Number`, `Payment Typology 3`, `Payment Typology 2` and `Operating Provider License Number` because they contain too much Null value (more than 5%).**"
      ]
    },
    {
      "cell_type": "code",
      "execution_count": 10,
      "metadata": {
        "colab": {
          "base_uri": "https://localhost:8080/"
        },
        "id": "0krJ-ycAC09f",
        "outputId": "89e90d6f-d66e-499c-e113-71d156f1cafc"
      },
      "outputs": [
        {
          "output_type": "stream",
          "name": "stdout",
          "text": [
            "Rows before dropping missing values and redundant feature : 2344487\n"
          ]
        }
      ],
      "source": [
        "print('Rows before dropping missing values and redundant feature :', len(data))"
      ]
    },
    {
      "cell_type": "code",
      "execution_count": 11,
      "metadata": {
        "id": "GUmuwMy0rOW9"
      },
      "outputs": [],
      "source": [
        "# We are dropping `Other Provider License Number`, `Payment Typology 3`, `Operating Provider License Number` and `Payment Typology 2` features\n",
        "\n",
        "data = data.drop('Other Provider License Number', axis=1)\n",
        "data = data.drop('Payment Typology 3', axis=1)\n",
        "data = data.drop('Operating Provider License Number', axis=1)\n",
        "data = data.drop('Payment Typology 2', axis=1)"
      ]
    },
    {
      "cell_type": "code",
      "execution_count": 12,
      "metadata": {
        "colab": {
          "base_uri": "https://localhost:8080/",
          "height": 238
        },
        "id": "s5dwec7su-yz",
        "outputId": "5a00cfe7-018d-4e4f-f8a0-197bccf84267"
      },
      "outputs": [
        {
          "output_type": "execute_result",
          "data": {
            "text/plain": [
              "                             feature  missing_value  percentage\n",
              "0                Zip Code - 3 digits           4425        0.19\n",
              "1                Health Service Area           2911        0.12\n",
              "2                    Hospital County           2911        0.12\n",
              "3  Attending Provider License Number           2911        0.12\n",
              "4                        Facility Id           2911        0.12\n",
              "5       Operating Certificate Number           2911        0.12"
            ],
            "text/html": [
              "\n",
              "  <div id=\"df-9bf73cdb-e2db-4557-abd7-0558aa962d7a\">\n",
              "    <div class=\"colab-df-container\">\n",
              "      <div>\n",
              "<style scoped>\n",
              "    .dataframe tbody tr th:only-of-type {\n",
              "        vertical-align: middle;\n",
              "    }\n",
              "\n",
              "    .dataframe tbody tr th {\n",
              "        vertical-align: top;\n",
              "    }\n",
              "\n",
              "    .dataframe thead th {\n",
              "        text-align: right;\n",
              "    }\n",
              "</style>\n",
              "<table border=\"1\" class=\"dataframe\">\n",
              "  <thead>\n",
              "    <tr style=\"text-align: right;\">\n",
              "      <th></th>\n",
              "      <th>feature</th>\n",
              "      <th>missing_value</th>\n",
              "      <th>percentage</th>\n",
              "    </tr>\n",
              "  </thead>\n",
              "  <tbody>\n",
              "    <tr>\n",
              "      <th>0</th>\n",
              "      <td>Zip Code - 3 digits</td>\n",
              "      <td>4425</td>\n",
              "      <td>0.19</td>\n",
              "    </tr>\n",
              "    <tr>\n",
              "      <th>1</th>\n",
              "      <td>Health Service Area</td>\n",
              "      <td>2911</td>\n",
              "      <td>0.12</td>\n",
              "    </tr>\n",
              "    <tr>\n",
              "      <th>2</th>\n",
              "      <td>Hospital County</td>\n",
              "      <td>2911</td>\n",
              "      <td>0.12</td>\n",
              "    </tr>\n",
              "    <tr>\n",
              "      <th>3</th>\n",
              "      <td>Attending Provider License Number</td>\n",
              "      <td>2911</td>\n",
              "      <td>0.12</td>\n",
              "    </tr>\n",
              "    <tr>\n",
              "      <th>4</th>\n",
              "      <td>Facility Id</td>\n",
              "      <td>2911</td>\n",
              "      <td>0.12</td>\n",
              "    </tr>\n",
              "    <tr>\n",
              "      <th>5</th>\n",
              "      <td>Operating Certificate Number</td>\n",
              "      <td>2911</td>\n",
              "      <td>0.12</td>\n",
              "    </tr>\n",
              "  </tbody>\n",
              "</table>\n",
              "</div>\n",
              "      <button class=\"colab-df-convert\" onclick=\"convertToInteractive('df-9bf73cdb-e2db-4557-abd7-0558aa962d7a')\"\n",
              "              title=\"Convert this dataframe to an interactive table.\"\n",
              "              style=\"display:none;\">\n",
              "        \n",
              "  <svg xmlns=\"http://www.w3.org/2000/svg\" height=\"24px\"viewBox=\"0 0 24 24\"\n",
              "       width=\"24px\">\n",
              "    <path d=\"M0 0h24v24H0V0z\" fill=\"none\"/>\n",
              "    <path d=\"M18.56 5.44l.94 2.06.94-2.06 2.06-.94-2.06-.94-.94-2.06-.94 2.06-2.06.94zm-11 1L8.5 8.5l.94-2.06 2.06-.94-2.06-.94L8.5 2.5l-.94 2.06-2.06.94zm10 10l.94 2.06.94-2.06 2.06-.94-2.06-.94-.94-2.06-.94 2.06-2.06.94z\"/><path d=\"M17.41 7.96l-1.37-1.37c-.4-.4-.92-.59-1.43-.59-.52 0-1.04.2-1.43.59L10.3 9.45l-7.72 7.72c-.78.78-.78 2.05 0 2.83L4 21.41c.39.39.9.59 1.41.59.51 0 1.02-.2 1.41-.59l7.78-7.78 2.81-2.81c.8-.78.8-2.07 0-2.86zM5.41 20L4 18.59l7.72-7.72 1.47 1.35L5.41 20z\"/>\n",
              "  </svg>\n",
              "      </button>\n",
              "      \n",
              "  <style>\n",
              "    .colab-df-container {\n",
              "      display:flex;\n",
              "      flex-wrap:wrap;\n",
              "      gap: 12px;\n",
              "    }\n",
              "\n",
              "    .colab-df-convert {\n",
              "      background-color: #E8F0FE;\n",
              "      border: none;\n",
              "      border-radius: 50%;\n",
              "      cursor: pointer;\n",
              "      display: none;\n",
              "      fill: #1967D2;\n",
              "      height: 32px;\n",
              "      padding: 0 0 0 0;\n",
              "      width: 32px;\n",
              "    }\n",
              "\n",
              "    .colab-df-convert:hover {\n",
              "      background-color: #E2EBFA;\n",
              "      box-shadow: 0px 1px 2px rgba(60, 64, 67, 0.3), 0px 1px 3px 1px rgba(60, 64, 67, 0.15);\n",
              "      fill: #174EA6;\n",
              "    }\n",
              "\n",
              "    [theme=dark] .colab-df-convert {\n",
              "      background-color: #3B4455;\n",
              "      fill: #D2E3FC;\n",
              "    }\n",
              "\n",
              "    [theme=dark] .colab-df-convert:hover {\n",
              "      background-color: #434B5C;\n",
              "      box-shadow: 0px 1px 3px 1px rgba(0, 0, 0, 0.15);\n",
              "      filter: drop-shadow(0px 1px 2px rgba(0, 0, 0, 0.3));\n",
              "      fill: #FFFFFF;\n",
              "    }\n",
              "  </style>\n",
              "\n",
              "      <script>\n",
              "        const buttonEl =\n",
              "          document.querySelector('#df-9bf73cdb-e2db-4557-abd7-0558aa962d7a button.colab-df-convert');\n",
              "        buttonEl.style.display =\n",
              "          google.colab.kernel.accessAllowed ? 'block' : 'none';\n",
              "\n",
              "        async function convertToInteractive(key) {\n",
              "          const element = document.querySelector('#df-9bf73cdb-e2db-4557-abd7-0558aa962d7a');\n",
              "          const dataTable =\n",
              "            await google.colab.kernel.invokeFunction('convertToInteractive',\n",
              "                                                     [key], {});\n",
              "          if (!dataTable) return;\n",
              "\n",
              "          const docLinkHtml = 'Like what you see? Visit the ' +\n",
              "            '<a target=\"_blank\" href=https://colab.research.google.com/notebooks/data_table.ipynb>data table notebook</a>'\n",
              "            + ' to learn more about interactive tables.';\n",
              "          element.innerHTML = '';\n",
              "          dataTable['output_type'] = 'display_data';\n",
              "          await google.colab.output.renderOutput(dataTable, element);\n",
              "          const docLink = document.createElement('div');\n",
              "          docLink.innerHTML = docLinkHtml;\n",
              "          element.appendChild(docLink);\n",
              "        }\n",
              "      </script>\n",
              "    </div>\n",
              "  </div>\n",
              "  "
            ]
          },
          "metadata": {},
          "execution_count": 12
        }
      ],
      "source": [
        "# How many null value we have now, after dropping those four redundant features? \n",
        "data_nan = data.isna().sum().reset_index()\n",
        "data_nan.columns = ['feature','missing_value']\n",
        "data_nan['percentage'] = round((data_nan['missing_value']/len(data))*100,2)\n",
        "data_nan = data_nan.sort_values('percentage', ascending=False).reset_index(drop=True)\n",
        "data_nan = data_nan[data_nan['percentage']>0]\n",
        "data_nan"
      ]
    },
    {
      "cell_type": "code",
      "execution_count": 13,
      "metadata": {
        "colab": {
          "base_uri": "https://localhost:8080/"
        },
        "id": "Y7QC-jlnzBfI",
        "outputId": "92023a1c-afec-4e8d-8022-4e87a289f35f"
      },
      "outputs": [
        {
          "output_type": "execute_result",
          "data": {
            "text/plain": [
              "0.8095587648811872"
            ]
          },
          "metadata": {},
          "execution_count": 13
        }
      ],
      "source": [
        "# Check the last missing value percentage\n",
        "\n",
        "(data_nan['missing_value'].sum()/len(data))*100"
      ]
    },
    {
      "cell_type": "markdown",
      "metadata": {
        "id": "1erFiZgpwudw"
      },
      "source": [
        "**Now we can drop the missing value, because it's only less than 1%.**"
      ]
    },
    {
      "cell_type": "code",
      "execution_count": 14,
      "metadata": {
        "colab": {
          "base_uri": "https://localhost:8080/"
        },
        "id": "XxGDc7L6yCmB",
        "outputId": "97d0abb6-eb67-4409-f335-51ff511beb48"
      },
      "outputs": [
        {
          "output_type": "stream",
          "name": "stdout",
          "text": [
            "Rows after dropping missing values :  2339950\n"
          ]
        }
      ],
      "source": [
        "# Drop missing values\n",
        "\n",
        "data = data.dropna()\n",
        "print('Rows after dropping missing values : ', len(data))"
      ]
    },
    {
      "cell_type": "markdown",
      "metadata": {
        "id": "1AvT5my32NLf"
      },
      "source": [
        "## Data Wrangling"
      ]
    },
    {
      "cell_type": "code",
      "execution_count": 15,
      "metadata": {
        "id": "GJgWwQhzgFIs"
      },
      "outputs": [],
      "source": [
        "# After doing a recheck, we're dropping these redundant and unusable features, mostly because we won't use it later on\n",
        "data = data.drop('Facility Id', axis=1)\n",
        "data = data.drop('Discharge Year', axis=1)\n",
        "data = data.drop('Operating Certificate Number', axis=1)\n",
        "data = data.drop('Zip Code - 3 digits', axis=1)\n",
        "data = data.drop('CCS Diagnosis Code', axis=1)\n",
        "data = data.drop('CCS Procedure Code', axis=1)\n",
        "data = data.drop('APR DRG Code', axis=1)\n",
        "data = data.drop('APR MDC Code', axis=1)\n",
        "data = data.drop('Attending Provider License Number', axis=1)\n",
        "data = data.drop('Total Costs', axis=1)\n",
        "data = data.drop('Abortion Edit Indicator', axis=1)\n",
        "data = data.drop('APR Severity of Illness Code', axis=1)"
      ]
    },
    {
      "cell_type": "code",
      "source": [
        "data['Gender'].value_counts()"
      ],
      "metadata": {
        "colab": {
          "base_uri": "https://localhost:8080/"
        },
        "id": "sXkDo7hLdcKm",
        "outputId": "34d0e369-63a8-4bd8-899d-c70caab6868f"
      },
      "execution_count": 16,
      "outputs": [
        {
          "output_type": "execute_result",
          "data": {
            "text/plain": [
              "F    1302219\n",
              "M    1037692\n",
              "U         39\n",
              "Name: Gender, dtype: int64"
            ]
          },
          "metadata": {},
          "execution_count": 16
        }
      ]
    },
    {
      "cell_type": "code",
      "source": [
        "# For easier analysis\n",
        "data['Gender'] = data['Gender'].replace('U', 'F')"
      ],
      "metadata": {
        "id": "ETfFA3CxdsoA"
      },
      "execution_count": 17,
      "outputs": []
    },
    {
      "cell_type": "code",
      "execution_count": 18,
      "metadata": {
        "colab": {
          "base_uri": "https://localhost:8080/"
        },
        "id": "u9wY7l4uzOmg",
        "outputId": "b1bf0da7-f5b2-45b8-91d2-262e1397e33d"
      },
      "outputs": [
        {
          "output_type": "stream",
          "name": "stdout",
          "text": [
            "<class 'pandas.core.frame.DataFrame'>\n",
            "Int64Index: 2339950 entries, 0 to 2346759\n",
            "Data columns (total 21 columns):\n",
            " #   Column                               Dtype \n",
            "---  ------                               ----- \n",
            " 0   Health Service Area                  object\n",
            " 1   Hospital County                      object\n",
            " 2   Facility Name                        object\n",
            " 3   Age Group                            object\n",
            " 4   Gender                               object\n",
            " 5   Race                                 object\n",
            " 6   Ethnicity                            object\n",
            " 7   Length of Stay                       object\n",
            " 8   Type of Admission                    object\n",
            " 9   Patient Disposition                  object\n",
            " 10  CCS Diagnosis Description            object\n",
            " 11  CCS Procedure Description            object\n",
            " 12  APR DRG Description                  object\n",
            " 13  APR MDC Description                  object\n",
            " 14  APR Severity of Illness Description  object\n",
            " 15  APR Risk of Mortality                object\n",
            " 16  APR Medical Surgical Description     object\n",
            " 17  Payment Typology 1                   object\n",
            " 18  Birth Weight                         int64 \n",
            " 19  Emergency Department Indicator       object\n",
            " 20  Total Charges                        object\n",
            "dtypes: int64(1), object(20)\n",
            "memory usage: 392.8+ MB\n"
          ]
        }
      ],
      "source": [
        "# Recheck how many features we have now\n",
        "data.info()"
      ]
    },
    {
      "cell_type": "markdown",
      "metadata": {
        "id": "2ZKMRlmnznUz"
      },
      "source": [
        "We have successfully dropped missing values, duplicated data and redundant features. **Our previous rows were 2.346.760, now we have 2.339.950 rows and 21 columns.**\n",
        "\n",
        "Now we need to transform several incorrect dtype such as: `Length of Stay` (the target itself) and `Total Charges`. We'll need to check their unique values first."
      ]
    },
    {
      "cell_type": "code",
      "execution_count": 19,
      "metadata": {
        "colab": {
          "base_uri": "https://localhost:8080/"
        },
        "id": "gIpCvDWZ0CK0",
        "outputId": "6ec6fbc6-5fea-4d9d-d641-860559bf0389"
      },
      "outputs": [
        {
          "output_type": "execute_result",
          "data": {
            "text/plain": [
              "array(['5', '8', '4', '3', '2', '9', '1', '59', '10', '17', '35', '15',\n",
              "       '12', '7', '98', '26', '6', '46', '32', '16', '21', '22', '13',\n",
              "       '77', '14', '58', '28', '11', '18', '19', '29', '27', '42', '24',\n",
              "       '23', '31', '37', '57', '25', '20', '30', '63', '43', '49', '45',\n",
              "       '102', '56', '33', '40', '34', '55', '100', '47', '38', '61', '53',\n",
              "       '117', '62', '120 +', '80', '48', '70', '44', '51', '41', '64',\n",
              "       '50', '36', '107', '68', '74', '39', '87', '83', '54', '105', '81',\n",
              "       '112', '76', '91', '86', '66', '72', '94', '93', '67', '69', '73',\n",
              "       '119', '115', '75', '97', '92', '95', '60', '65', '82', '79', '71',\n",
              "       '84', '109', '103', '118', '52', '101', '85', '110', '106', '88',\n",
              "       '111', '104', '89', '78', '116', '90', '113', '108', '114', '96',\n",
              "       '99', 22, 4, 3, 10, 8, 2, 7, 16, 1, 18, 5, 6, 9, 14, 17, 12, 15,\n",
              "       11, 27, 30, 65, 41, 28, 21, 13, 36, 20, 49, 32, 45, 29, 25, 50, 70,\n",
              "       47, 44, 43, 33, 46, 80, 19, 40, 23, 63, 51, 35, 26, 74, 39, 38, 34,\n",
              "       83, 24, 86, 48, 69, 42, 54, 75, 57, 77, 76, 56, 53, 31, 58, 72, 59,\n",
              "       37, 52, 60, 82, 62, 64, 93, 113, 84, 68, 102, 95, 73, 71, 94, 101,\n",
              "       55, 88, 81, 92, 85, 91, 112, 66, 61, 67, 99, 118, 107, 109, 103],\n",
              "      dtype=object)"
            ]
          },
          "metadata": {},
          "execution_count": 19
        }
      ],
      "source": [
        "# Find out the possibility of incorrect values or format in `Length of Stay`\n",
        "data['Length of Stay'].unique()"
      ]
    },
    {
      "cell_type": "code",
      "execution_count": 20,
      "metadata": {
        "colab": {
          "base_uri": "https://localhost:8080/"
        },
        "id": "d05f2ptH6Fm1",
        "outputId": "79b3194c-8f09-4c4a-f045-ca507148249f"
      },
      "outputs": [
        {
          "output_type": "execute_result",
          "data": {
            "text/plain": [
              "array(['$5620.00', '$7404.18', '$7931.28', ..., '$177142.00', '$17567.20',\n",
              "       '$109189.00'], dtype=object)"
            ]
          },
          "metadata": {},
          "execution_count": 20
        }
      ],
      "source": [
        "# Find out the possibility of incorrect values or format in `Total Costs`\n",
        "data['Total Charges'].unique()"
      ]
    },
    {
      "cell_type": "code",
      "execution_count": 21,
      "metadata": {
        "id": "v9OUoGRz5AFW"
      },
      "outputs": [],
      "source": [
        "# Change incorrect format inside the dataset so that we can change their inappropriate dtype\n",
        "data['Length of Stay'] = data['Length of Stay'].replace('120 +', '120')\n",
        "data['Total Charges'] = data['Total Charges'].str.replace('$', '')"
      ]
    },
    {
      "cell_type": "code",
      "execution_count": 22,
      "metadata": {
        "id": "iaxtxvQeDrKd"
      },
      "outputs": [],
      "source": [
        "# Change the incorrect dtype\n",
        "data['Length of Stay'] = data['Length of Stay'].astype(float)\n",
        "data['Total Charges'] = data['Total Charges'].astype(float)"
      ]
    },
    {
      "cell_type": "code",
      "execution_count": 23,
      "metadata": {
        "colab": {
          "base_uri": "https://localhost:8080/"
        },
        "id": "H-nLb7IWMVcp",
        "outputId": "3bc25407-347c-4213-94ca-8ebe6670c092"
      },
      "outputs": [
        {
          "output_type": "stream",
          "name": "stdout",
          "text": [
            "<class 'pandas.core.frame.DataFrame'>\n",
            "Int64Index: 2339950 entries, 0 to 2346759\n",
            "Data columns (total 21 columns):\n",
            " #   Column                               Dtype  \n",
            "---  ------                               -----  \n",
            " 0   Health Service Area                  object \n",
            " 1   Hospital County                      object \n",
            " 2   Facility Name                        object \n",
            " 3   Age Group                            object \n",
            " 4   Gender                               object \n",
            " 5   Race                                 object \n",
            " 6   Ethnicity                            object \n",
            " 7   Length of Stay                       float64\n",
            " 8   Type of Admission                    object \n",
            " 9   Patient Disposition                  object \n",
            " 10  CCS Diagnosis Description            object \n",
            " 11  CCS Procedure Description            object \n",
            " 12  APR DRG Description                  object \n",
            " 13  APR MDC Description                  object \n",
            " 14  APR Severity of Illness Description  object \n",
            " 15  APR Risk of Mortality                object \n",
            " 16  APR Medical Surgical Description     object \n",
            " 17  Payment Typology 1                   object \n",
            " 18  Birth Weight                         int64  \n",
            " 19  Emergency Department Indicator       object \n",
            " 20  Total Charges                        float64\n",
            "dtypes: float64(2), int64(1), object(18)\n",
            "memory usage: 392.8+ MB\n"
          ]
        }
      ],
      "source": [
        "# Recheck the data\n",
        "data.info()"
      ]
    },
    {
      "cell_type": "markdown",
      "metadata": {
        "id": "741DddbTNKv0"
      },
      "source": [
        "We've successfully change the incorrect dtype (`Length of Stay` and `Total Charges`)."
      ]
    },
    {
      "cell_type": "markdown",
      "metadata": {
        "id": "XB2RrT9VUK6u"
      },
      "source": [
        "## Statistical Summary"
      ]
    },
    {
      "cell_type": "code",
      "execution_count": 24,
      "metadata": {
        "id": "QQ8FJA3VONSw"
      },
      "outputs": [],
      "source": [
        "# Categorize the data to simplifiy the Statistical Summary\n",
        "cat = ['Age Group', 'Gender', 'Type of Admission', 'Patient Disposition']\n",
        "num = ['Length of Stay', 'Birth Weight', 'Total Charges']"
      ]
    },
    {
      "cell_type": "code",
      "execution_count": 25,
      "metadata": {
        "colab": {
          "base_uri": "https://localhost:8080/",
          "height": 279
        },
        "id": "-rUrSsUMho0h",
        "outputId": "c5b89abf-1835-444b-fdc1-1feedf9e22e1"
      },
      "outputs": [
        {
          "output_type": "execute_result",
          "data": {
            "text/plain": [
              "       Length of Stay  Birth Weight  Total Charges\n",
              "count    2.339950e+06  2.339950e+06   2.339950e+06\n",
              "mean     5.483206e+00  3.241779e+02   4.326461e+04\n",
              "std      8.038450e+00  9.972320e+02   8.049209e+04\n",
              "min      1.000000e+00  0.000000e+00   1.000000e-02\n",
              "25%      2.000000e+00  0.000000e+00   1.205801e+04\n",
              "50%      3.000000e+00  0.000000e+00   2.352841e+04\n",
              "75%      6.000000e+00  0.000000e+00   4.668045e+04\n",
              "max      1.200000e+02  9.900000e+03   7.248391e+06"
            ],
            "text/html": [
              "\n",
              "  <div id=\"df-97e36ebe-f6ca-4f06-9489-fbe5a9a8c6d7\">\n",
              "    <div class=\"colab-df-container\">\n",
              "      <div>\n",
              "<style scoped>\n",
              "    .dataframe tbody tr th:only-of-type {\n",
              "        vertical-align: middle;\n",
              "    }\n",
              "\n",
              "    .dataframe tbody tr th {\n",
              "        vertical-align: top;\n",
              "    }\n",
              "\n",
              "    .dataframe thead th {\n",
              "        text-align: right;\n",
              "    }\n",
              "</style>\n",
              "<table border=\"1\" class=\"dataframe\">\n",
              "  <thead>\n",
              "    <tr style=\"text-align: right;\">\n",
              "      <th></th>\n",
              "      <th>Length of Stay</th>\n",
              "      <th>Birth Weight</th>\n",
              "      <th>Total Charges</th>\n",
              "    </tr>\n",
              "  </thead>\n",
              "  <tbody>\n",
              "    <tr>\n",
              "      <th>count</th>\n",
              "      <td>2.339950e+06</td>\n",
              "      <td>2.339950e+06</td>\n",
              "      <td>2.339950e+06</td>\n",
              "    </tr>\n",
              "    <tr>\n",
              "      <th>mean</th>\n",
              "      <td>5.483206e+00</td>\n",
              "      <td>3.241779e+02</td>\n",
              "      <td>4.326461e+04</td>\n",
              "    </tr>\n",
              "    <tr>\n",
              "      <th>std</th>\n",
              "      <td>8.038450e+00</td>\n",
              "      <td>9.972320e+02</td>\n",
              "      <td>8.049209e+04</td>\n",
              "    </tr>\n",
              "    <tr>\n",
              "      <th>min</th>\n",
              "      <td>1.000000e+00</td>\n",
              "      <td>0.000000e+00</td>\n",
              "      <td>1.000000e-02</td>\n",
              "    </tr>\n",
              "    <tr>\n",
              "      <th>25%</th>\n",
              "      <td>2.000000e+00</td>\n",
              "      <td>0.000000e+00</td>\n",
              "      <td>1.205801e+04</td>\n",
              "    </tr>\n",
              "    <tr>\n",
              "      <th>50%</th>\n",
              "      <td>3.000000e+00</td>\n",
              "      <td>0.000000e+00</td>\n",
              "      <td>2.352841e+04</td>\n",
              "    </tr>\n",
              "    <tr>\n",
              "      <th>75%</th>\n",
              "      <td>6.000000e+00</td>\n",
              "      <td>0.000000e+00</td>\n",
              "      <td>4.668045e+04</td>\n",
              "    </tr>\n",
              "    <tr>\n",
              "      <th>max</th>\n",
              "      <td>1.200000e+02</td>\n",
              "      <td>9.900000e+03</td>\n",
              "      <td>7.248391e+06</td>\n",
              "    </tr>\n",
              "  </tbody>\n",
              "</table>\n",
              "</div>\n",
              "      <button class=\"colab-df-convert\" onclick=\"convertToInteractive('df-97e36ebe-f6ca-4f06-9489-fbe5a9a8c6d7')\"\n",
              "              title=\"Convert this dataframe to an interactive table.\"\n",
              "              style=\"display:none;\">\n",
              "        \n",
              "  <svg xmlns=\"http://www.w3.org/2000/svg\" height=\"24px\"viewBox=\"0 0 24 24\"\n",
              "       width=\"24px\">\n",
              "    <path d=\"M0 0h24v24H0V0z\" fill=\"none\"/>\n",
              "    <path d=\"M18.56 5.44l.94 2.06.94-2.06 2.06-.94-2.06-.94-.94-2.06-.94 2.06-2.06.94zm-11 1L8.5 8.5l.94-2.06 2.06-.94-2.06-.94L8.5 2.5l-.94 2.06-2.06.94zm10 10l.94 2.06.94-2.06 2.06-.94-2.06-.94-.94-2.06-.94 2.06-2.06.94z\"/><path d=\"M17.41 7.96l-1.37-1.37c-.4-.4-.92-.59-1.43-.59-.52 0-1.04.2-1.43.59L10.3 9.45l-7.72 7.72c-.78.78-.78 2.05 0 2.83L4 21.41c.39.39.9.59 1.41.59.51 0 1.02-.2 1.41-.59l7.78-7.78 2.81-2.81c.8-.78.8-2.07 0-2.86zM5.41 20L4 18.59l7.72-7.72 1.47 1.35L5.41 20z\"/>\n",
              "  </svg>\n",
              "      </button>\n",
              "      \n",
              "  <style>\n",
              "    .colab-df-container {\n",
              "      display:flex;\n",
              "      flex-wrap:wrap;\n",
              "      gap: 12px;\n",
              "    }\n",
              "\n",
              "    .colab-df-convert {\n",
              "      background-color: #E8F0FE;\n",
              "      border: none;\n",
              "      border-radius: 50%;\n",
              "      cursor: pointer;\n",
              "      display: none;\n",
              "      fill: #1967D2;\n",
              "      height: 32px;\n",
              "      padding: 0 0 0 0;\n",
              "      width: 32px;\n",
              "    }\n",
              "\n",
              "    .colab-df-convert:hover {\n",
              "      background-color: #E2EBFA;\n",
              "      box-shadow: 0px 1px 2px rgba(60, 64, 67, 0.3), 0px 1px 3px 1px rgba(60, 64, 67, 0.15);\n",
              "      fill: #174EA6;\n",
              "    }\n",
              "\n",
              "    [theme=dark] .colab-df-convert {\n",
              "      background-color: #3B4455;\n",
              "      fill: #D2E3FC;\n",
              "    }\n",
              "\n",
              "    [theme=dark] .colab-df-convert:hover {\n",
              "      background-color: #434B5C;\n",
              "      box-shadow: 0px 1px 3px 1px rgba(0, 0, 0, 0.15);\n",
              "      filter: drop-shadow(0px 1px 2px rgba(0, 0, 0, 0.3));\n",
              "      fill: #FFFFFF;\n",
              "    }\n",
              "  </style>\n",
              "\n",
              "      <script>\n",
              "        const buttonEl =\n",
              "          document.querySelector('#df-97e36ebe-f6ca-4f06-9489-fbe5a9a8c6d7 button.colab-df-convert');\n",
              "        buttonEl.style.display =\n",
              "          google.colab.kernel.accessAllowed ? 'block' : 'none';\n",
              "\n",
              "        async function convertToInteractive(key) {\n",
              "          const element = document.querySelector('#df-97e36ebe-f6ca-4f06-9489-fbe5a9a8c6d7');\n",
              "          const dataTable =\n",
              "            await google.colab.kernel.invokeFunction('convertToInteractive',\n",
              "                                                     [key], {});\n",
              "          if (!dataTable) return;\n",
              "\n",
              "          const docLinkHtml = 'Like what you see? Visit the ' +\n",
              "            '<a target=\"_blank\" href=https://colab.research.google.com/notebooks/data_table.ipynb>data table notebook</a>'\n",
              "            + ' to learn more about interactive tables.';\n",
              "          element.innerHTML = '';\n",
              "          dataTable['output_type'] = 'display_data';\n",
              "          await google.colab.output.renderOutput(dataTable, element);\n",
              "          const docLink = document.createElement('div');\n",
              "          docLink.innerHTML = docLinkHtml;\n",
              "          element.appendChild(docLink);\n",
              "        }\n",
              "      </script>\n",
              "    </div>\n",
              "  </div>\n",
              "  "
            ]
          },
          "metadata": {},
          "execution_count": 25
        }
      ],
      "source": [
        "data[num].describe()"
      ]
    },
    {
      "cell_type": "markdown",
      "metadata": {
        "id": "Z_hC-djfNBeS"
      },
      "source": [
        "**Observations :**\n",
        "\n",
        "- Mean is not any close to 50% (Median) in `Birth Weight` and `Total Charges` column, somehow indicating not symmetrical distribution."
      ]
    },
    {
      "cell_type": "code",
      "execution_count": 26,
      "metadata": {
        "colab": {
          "base_uri": "https://localhost:8080/",
          "height": 175
        },
        "id": "IQkROuPa_4mR",
        "outputId": "887d7458-f668-4ef3-ee91-00a24a792f5e"
      },
      "outputs": [
        {
          "output_type": "execute_result",
          "data": {
            "text/plain": [
              "       Age Group   Gender Type of Admission Patient Disposition\n",
              "count    2339950  2339950           2339950             2339950\n",
              "unique         5        2                 6                  19\n",
              "top     50 to 69        F         Emergency   Home or Self Care\n",
              "freq      644728  1302258           1485048             1565881"
            ],
            "text/html": [
              "\n",
              "  <div id=\"df-2e6a9ebb-5929-4c82-aa66-333c5f656232\">\n",
              "    <div class=\"colab-df-container\">\n",
              "      <div>\n",
              "<style scoped>\n",
              "    .dataframe tbody tr th:only-of-type {\n",
              "        vertical-align: middle;\n",
              "    }\n",
              "\n",
              "    .dataframe tbody tr th {\n",
              "        vertical-align: top;\n",
              "    }\n",
              "\n",
              "    .dataframe thead th {\n",
              "        text-align: right;\n",
              "    }\n",
              "</style>\n",
              "<table border=\"1\" class=\"dataframe\">\n",
              "  <thead>\n",
              "    <tr style=\"text-align: right;\">\n",
              "      <th></th>\n",
              "      <th>Age Group</th>\n",
              "      <th>Gender</th>\n",
              "      <th>Type of Admission</th>\n",
              "      <th>Patient Disposition</th>\n",
              "    </tr>\n",
              "  </thead>\n",
              "  <tbody>\n",
              "    <tr>\n",
              "      <th>count</th>\n",
              "      <td>2339950</td>\n",
              "      <td>2339950</td>\n",
              "      <td>2339950</td>\n",
              "      <td>2339950</td>\n",
              "    </tr>\n",
              "    <tr>\n",
              "      <th>unique</th>\n",
              "      <td>5</td>\n",
              "      <td>2</td>\n",
              "      <td>6</td>\n",
              "      <td>19</td>\n",
              "    </tr>\n",
              "    <tr>\n",
              "      <th>top</th>\n",
              "      <td>50 to 69</td>\n",
              "      <td>F</td>\n",
              "      <td>Emergency</td>\n",
              "      <td>Home or Self Care</td>\n",
              "    </tr>\n",
              "    <tr>\n",
              "      <th>freq</th>\n",
              "      <td>644728</td>\n",
              "      <td>1302258</td>\n",
              "      <td>1485048</td>\n",
              "      <td>1565881</td>\n",
              "    </tr>\n",
              "  </tbody>\n",
              "</table>\n",
              "</div>\n",
              "      <button class=\"colab-df-convert\" onclick=\"convertToInteractive('df-2e6a9ebb-5929-4c82-aa66-333c5f656232')\"\n",
              "              title=\"Convert this dataframe to an interactive table.\"\n",
              "              style=\"display:none;\">\n",
              "        \n",
              "  <svg xmlns=\"http://www.w3.org/2000/svg\" height=\"24px\"viewBox=\"0 0 24 24\"\n",
              "       width=\"24px\">\n",
              "    <path d=\"M0 0h24v24H0V0z\" fill=\"none\"/>\n",
              "    <path d=\"M18.56 5.44l.94 2.06.94-2.06 2.06-.94-2.06-.94-.94-2.06-.94 2.06-2.06.94zm-11 1L8.5 8.5l.94-2.06 2.06-.94-2.06-.94L8.5 2.5l-.94 2.06-2.06.94zm10 10l.94 2.06.94-2.06 2.06-.94-2.06-.94-.94-2.06-.94 2.06-2.06.94z\"/><path d=\"M17.41 7.96l-1.37-1.37c-.4-.4-.92-.59-1.43-.59-.52 0-1.04.2-1.43.59L10.3 9.45l-7.72 7.72c-.78.78-.78 2.05 0 2.83L4 21.41c.39.39.9.59 1.41.59.51 0 1.02-.2 1.41-.59l7.78-7.78 2.81-2.81c.8-.78.8-2.07 0-2.86zM5.41 20L4 18.59l7.72-7.72 1.47 1.35L5.41 20z\"/>\n",
              "  </svg>\n",
              "      </button>\n",
              "      \n",
              "  <style>\n",
              "    .colab-df-container {\n",
              "      display:flex;\n",
              "      flex-wrap:wrap;\n",
              "      gap: 12px;\n",
              "    }\n",
              "\n",
              "    .colab-df-convert {\n",
              "      background-color: #E8F0FE;\n",
              "      border: none;\n",
              "      border-radius: 50%;\n",
              "      cursor: pointer;\n",
              "      display: none;\n",
              "      fill: #1967D2;\n",
              "      height: 32px;\n",
              "      padding: 0 0 0 0;\n",
              "      width: 32px;\n",
              "    }\n",
              "\n",
              "    .colab-df-convert:hover {\n",
              "      background-color: #E2EBFA;\n",
              "      box-shadow: 0px 1px 2px rgba(60, 64, 67, 0.3), 0px 1px 3px 1px rgba(60, 64, 67, 0.15);\n",
              "      fill: #174EA6;\n",
              "    }\n",
              "\n",
              "    [theme=dark] .colab-df-convert {\n",
              "      background-color: #3B4455;\n",
              "      fill: #D2E3FC;\n",
              "    }\n",
              "\n",
              "    [theme=dark] .colab-df-convert:hover {\n",
              "      background-color: #434B5C;\n",
              "      box-shadow: 0px 1px 3px 1px rgba(0, 0, 0, 0.15);\n",
              "      filter: drop-shadow(0px 1px 2px rgba(0, 0, 0, 0.3));\n",
              "      fill: #FFFFFF;\n",
              "    }\n",
              "  </style>\n",
              "\n",
              "      <script>\n",
              "        const buttonEl =\n",
              "          document.querySelector('#df-2e6a9ebb-5929-4c82-aa66-333c5f656232 button.colab-df-convert');\n",
              "        buttonEl.style.display =\n",
              "          google.colab.kernel.accessAllowed ? 'block' : 'none';\n",
              "\n",
              "        async function convertToInteractive(key) {\n",
              "          const element = document.querySelector('#df-2e6a9ebb-5929-4c82-aa66-333c5f656232');\n",
              "          const dataTable =\n",
              "            await google.colab.kernel.invokeFunction('convertToInteractive',\n",
              "                                                     [key], {});\n",
              "          if (!dataTable) return;\n",
              "\n",
              "          const docLinkHtml = 'Like what you see? Visit the ' +\n",
              "            '<a target=\"_blank\" href=https://colab.research.google.com/notebooks/data_table.ipynb>data table notebook</a>'\n",
              "            + ' to learn more about interactive tables.';\n",
              "          element.innerHTML = '';\n",
              "          dataTable['output_type'] = 'display_data';\n",
              "          await google.colab.output.renderOutput(dataTable, element);\n",
              "          const docLink = document.createElement('div');\n",
              "          docLink.innerHTML = docLinkHtml;\n",
              "          element.appendChild(docLink);\n",
              "        }\n",
              "      </script>\n",
              "    </div>\n",
              "  </div>\n",
              "  "
            ]
          },
          "metadata": {},
          "execution_count": 26
        }
      ],
      "source": [
        "data[cat].describe()"
      ]
    },
    {
      "cell_type": "markdown",
      "metadata": {
        "id": "EoYgc1J0CrQs"
      },
      "source": [
        "**Observations:**\n",
        "- 28% Patients are between 50 to 69 years old,\n",
        "- Half of the patients are female,\n",
        "- 64% Patients were admitted from emergency,\n",
        "- Patients mostly continue their treatment in Home or Self Care.\n"
      ]
    },
    {
      "cell_type": "code",
      "execution_count": 27,
      "metadata": {
        "colab": {
          "base_uri": "https://localhost:8080/"
        },
        "id": "S1Lo27VzL8yB",
        "outputId": "a577de70-04de-4867-d669-9a2884896f14"
      },
      "outputs": [
        {
          "output_type": "execute_result",
          "data": {
            "text/plain": [
              "2.0      540638\n",
              "3.0      423817\n",
              "1.0      336983\n",
              "4.0      247310\n",
              "5.0      160519\n",
              "          ...  \n",
              "111.0        41\n",
              "119.0        41\n",
              "115.0        37\n",
              "116.0        31\n",
              "108.0        26\n",
              "Name: Length of Stay, Length: 120, dtype: int64"
            ]
          },
          "metadata": {},
          "execution_count": 27
        }
      ],
      "source": [
        "# Additional check the target feature\n",
        "data['Length of Stay'].value_counts()"
      ]
    },
    {
      "cell_type": "markdown",
      "metadata": {
        "id": "4WcBDc4HMjZ4"
      },
      "source": [
        "**We can conclude that even if there is a few patients that need to stay for more than 120 days, 73% among the patients are staying for around 5 days. The distribution would definitely asymmetrical, we need to reduce the skewness later.**"
      ]
    },
    {
      "cell_type": "markdown",
      "metadata": {
        "id": "_Z2iTuXCispI"
      },
      "source": [
        "## Target Distribution Skewness"
      ]
    },
    {
      "cell_type": "code",
      "execution_count": 28,
      "metadata": {
        "colab": {
          "base_uri": "https://localhost:8080/"
        },
        "id": "gH62EgibpnVR",
        "outputId": "c3c167d8-c585-4c31-9239-3e814c580bd9"
      },
      "outputs": [
        {
          "output_type": "execute_result",
          "data": {
            "text/plain": [
              "count    2.339950e+06\n",
              "mean     5.483206e+00\n",
              "std      8.038450e+00\n",
              "min      1.000000e+00\n",
              "25%      2.000000e+00\n",
              "50%      3.000000e+00\n",
              "75%      6.000000e+00\n",
              "max      1.200000e+02\n",
              "Name: Length of Stay, dtype: float64"
            ]
          },
          "metadata": {},
          "execution_count": 28
        }
      ],
      "source": [
        "data['Length of Stay'].describe()"
      ]
    },
    {
      "cell_type": "code",
      "execution_count": 29,
      "metadata": {
        "colab": {
          "base_uri": "https://localhost:8080/",
          "height": 225
        },
        "id": "RuHBB9buimTJ",
        "outputId": "cb2e23ad-4e69-4c41-b7c5-8778fb816407"
      },
      "outputs": [
        {
          "output_type": "display_data",
          "data": {
            "text/plain": [
              "<Figure size 504x216 with 1 Axes>"
            ],
            "image/png": "[encoded data removed]"
          },
          "metadata": {
            "needs_background": "light"
          }
        }
      ],
      "source": [
        "# Distribution plot of Length of Stay\n",
        "\n",
        "plt.figure(figsize=(7,3))\n",
        "plt.xlabel('Length of Stay')\n",
        "plt.ylabel('Density')\n",
        "ax=sns.distplot(data['Length of Stay'],hist=True ,color=\"darkblue\")\n",
        "plt.show()"
      ]
    },
    {
      "cell_type": "code",
      "execution_count": 30,
      "metadata": {
        "colab": {
          "base_uri": "https://localhost:8080/",
          "height": 388
        },
        "id": "5qYON1dcir7W",
        "outputId": "ce64929b-43af-4626-82c7-4bc304bc068d"
      },
      "outputs": [
        {
          "output_type": "display_data",
          "data": {
            "text/plain": [
              "<Figure size 432x432 with 1 Axes>"
            ],
            "image/png": "[encoded data removed]"
          },
          "metadata": {
            "needs_background": "light"
          }
        }
      ],
      "source": [
        "#Applying square root to Length of Stay to reduce skewness\n",
        "\n",
        "plt.figure(figsize=(6,6))\n",
        "plt.xlabel('Length of Stay')\n",
        "plt.ylabel('Density')\n",
        "\n",
        "ax=sns.distplot(np.sqrt(data['Length of Stay']), color=\"darkblue\")\n",
        "\n",
        "plt.show()"
      ]
    },
    {
      "cell_type": "markdown",
      "metadata": {
        "id": "4dEP87V1bKoU"
      },
      "source": [
        "# Exploratory Data Analysis"
      ]
    },
    {
      "cell_type": "markdown",
      "metadata": {
        "id": "YFIDgqSiJKUs"
      },
      "source": [
        "## Univariate Analysis"
      ]
    },
    {
      "cell_type": "code",
      "execution_count": 42,
      "metadata": {
        "colab": {
          "base_uri": "https://localhost:8080/",
          "height": 610
        },
        "id": "Ws7PGthbCIUs",
        "outputId": "596aac44-0fda-4dc9-d89c-bb3c296d2560"
      },
      "outputs": [
        {
          "output_type": "execute_result",
          "data": {
            "text/plain": [
              "<matplotlib.axes._subplots.AxesSubplot at 0x7fc054179b10>"
            ]
          },
          "metadata": {},
          "execution_count": 42
        },
        {
          "output_type": "display_data",
          "data": {
            "text/plain": [
              "<Figure size 1440x1440 with 3 Axes>"
            ],
            "image/png": "[encoded data removed]"
          },
          "metadata": {
            "needs_background": "light"
          }
        }
      ],
      "source": [
        "plt.figure(figsize = (20,20))\n",
        "\n",
        "plt.subplot(4,2,1)\n",
        "sns.countplot(x = 'Age Group', palette='Set1', data = data)\n",
        "\n",
        "plt.subplot(4,2,2)\n",
        "sns.countplot(x = 'Gender', palette='Set1', data = data)\n",
        "\n",
        "plt.subplot(4,2,3)\n",
        "sns.countplot(x = 'Type of Admission', palette='Set1', data = data)\n"
      ]
    },
    {
      "cell_type": "code",
      "execution_count": 51,
      "metadata": {
        "colab": {
          "base_uri": "https://localhost:8080/",
          "height": 388
        },
        "id": "WYcZmUzxG5pE",
        "outputId": "054e1ac1-d3e3-485c-d21c-059bb7889e05"
      },
      "outputs": [
        {
          "output_type": "display_data",
          "data": {
            "text/plain": [
              "<Figure size 576x432 with 1 Axes>"
            ],
            "image/png": "[encoded data removed]"
          },
          "metadata": {
            "needs_background": "light"
          }
        }
      ],
      "source": [
        "plt.figure(figsize = (8,6))\n",
        "plt.subplot\n",
        "sns.countplot(y = 'Patient Disposition', palette='Set1', data = data)\n",
        "plt.show()"
      ]
    },
    {
      "cell_type": "code",
      "execution_count": 39,
      "metadata": {
        "colab": {
          "base_uri": "https://localhost:8080/",
          "height": 497
        },
        "id": "iJnlalIJK6j6",
        "outputId": "22d117fe-7628-4022-a1e3-d5e781cf4816"
      },
      "outputs": [
        {
          "output_type": "display_data",
          "data": {
            "text/plain": [
              "<Figure size 720x576 with 1 Axes>"
            ],
            "image/png": "[encoded data removed]"
          },
          "metadata": {
            "needs_background": "light"
          }
        }
      ],
      "source": [
        "plt.figure(figsize=(10, 8))\n",
        "plt.xlabel('Birth Weight')\n",
        "plt.ylabel('Density')\n",
        "ax=sns.distplot(data['Birth Weight'],hist=True ,color=\"darkblue\")\n",
        "plt.show()"
      ]
    },
    {
      "cell_type": "markdown",
      "metadata": {
        "id": "OqVOepnfJN4S"
      },
      "source": [
        "## Bivariate Analysis"
      ]
    },
    {
      "cell_type": "code",
      "execution_count": 46,
      "metadata": {
        "colab": {
          "base_uri": "https://localhost:8080/",
          "height": 296
        },
        "id": "yzqHsHq5JoKt",
        "outputId": "f26c24aa-cc19-4504-8fc5-d538532ce587"
      },
      "outputs": [
        {
          "output_type": "execute_result",
          "data": {
            "text/plain": [
              "<matplotlib.axes._subplots.AxesSubplot at 0x7fbc3f3e2290>"
            ]
          },
          "metadata": {},
          "execution_count": 46
        },
        {
          "output_type": "display_data",
          "data": {
            "text/plain": [
              "<Figure size 432x288 with 1 Axes>"
            ],
            "image/png": "[encoded data removed]"
          },
          "metadata": {
            "needs_background": "light"
          }
        }
      ],
      "source": [
        "sns.barplot(x = data['Age Group'],\n",
        "            y = data['Length of Stay']) "
      ]
    },
    {
      "cell_type": "code",
      "source": [
        "sns.barplot(x = data['Gender'],\n",
        "            y = data['Length of Stay']) "
      ],
      "metadata": {
        "colab": {
          "base_uri": "https://localhost:8080/",
          "height": 296
        },
        "id": "60Uuvfw1SG6j",
        "outputId": "8563eb65-c306-4200-8148-189a602042ed"
      },
      "execution_count": 43,
      "outputs": [
        {
          "output_type": "execute_result",
          "data": {
            "text/plain": [
              "<matplotlib.axes._subplots.AxesSubplot at 0x7fc053f5e9d0>"
            ]
          },
          "metadata": {},
          "execution_count": 43
        },
        {
          "output_type": "display_data",
          "data": {
            "text/plain": [
              "<Figure size 432x288 with 1 Axes>"
            ],
            "image/png": "[encoded data removed]"
          },
          "metadata": {
            "needs_background": "light"
          }
        }
      ]
    },
    {
      "cell_type": "code",
      "source": [
        "sns.barplot(x = data['Type of Admission'],\n",
        "            y = data['Length of Stay']) "
      ],
      "metadata": {
        "colab": {
          "base_uri": "https://localhost:8080/",
          "height": 296
        },
        "id": "O0NfxJ9mSKog",
        "outputId": "03537a64-3cac-4ecc-8662-c8af58f138d0"
      },
      "execution_count": 48,
      "outputs": [
        {
          "output_type": "execute_result",
          "data": {
            "text/plain": [
              "<matplotlib.axes._subplots.AxesSubplot at 0x7fbc3f3261d0>"
            ]
          },
          "metadata": {},
          "execution_count": 48
        },
        {
          "output_type": "display_data",
          "data": {
            "text/plain": [
              "<Figure size 432x288 with 1 Axes>"
            ],
            "image/png": "[encoded data removed]"
          },
          "metadata": {
            "needs_background": "light"
          }
        }
      ]
    },
    {
      "cell_type": "code",
      "source": [
        "sns.barplot(y = data['Patient Disposition'],\n",
        "            x = data['Length of Stay']) \n",
        "plt.show()"
      ],
      "metadata": {
        "colab": {
          "base_uri": "https://localhost:8080/",
          "height": 279
        },
        "id": "4222bHxYS9N5",
        "outputId": "58319154-eb8f-4eaa-ab64-c11da9b99f82"
      },
      "execution_count": 34,
      "outputs": [
        {
          "output_type": "display_data",
          "data": {
            "text/plain": [
              "<Figure size 432x288 with 1 Axes>"
            ],
            "image/png": "[encoded data removed]"
          },
          "metadata": {
            "needs_background": "light"
          }
        }
      ]
    },
    {
      "cell_type": "code",
      "execution_count": 50,
      "metadata": {
        "colab": {
          "base_uri": "https://localhost:8080/",
          "height": 296
        },
        "id": "f6Z6LGhRx5HW",
        "outputId": "c797a1f4-ff54-4582-f4bf-fd563536e6c9"
      },
      "outputs": [
        {
          "output_type": "execute_result",
          "data": {
            "text/plain": [
              "<matplotlib.axes._subplots.AxesSubplot at 0x7fbc3f347fd0>"
            ]
          },
          "metadata": {},
          "execution_count": 50
        },
        {
          "output_type": "display_data",
          "data": {
            "text/plain": [
              "<Figure size 432x288 with 1 Axes>"
            ],
            "image/png": "[encoded data removed]"
          },
          "metadata": {
            "needs_background": "light"
          }
        }
      ],
      "source": [
        "# draw regplot\n",
        "sns.regplot(x = 'Total Charges', \n",
        "            y = 'Length of Stay', \n",
        "            data = data)"
      ]
    },
    {
      "cell_type": "markdown",
      "source": [
        "## Multivariate Analysis"
      ],
      "metadata": {
        "id": "wyiuMy4bh46b"
      }
    },
    {
      "cell_type": "code",
      "source": [
        "dataGender = data.groupby(['Age Group', 'Gender', 'APR MDC Description']).agg(\n",
        "    meanLOS=('Length of Stay','mean')\n",
        ").reset_index()\n",
        "dataGender = dataGender.sort_values('meanLOS', ascending=False).reset_index(drop=True)\n",
        "dataGender.head(20)"
      ],
      "metadata": {
        "colab": {
          "base_uri": "https://localhost:8080/",
          "height": 677
        },
        "id": "mogzwq7kmMFW",
        "outputId": "988abdb4-99d3-4594-dfe8-ade41857bb29"
      },
      "execution_count": 31,
      "outputs": [
        {
          "output_type": "execute_result",
          "data": {
            "text/plain": [
              "      Age Group Gender                                APR MDC Description  \\\n",
              "0   70 or Older      M                                              Burns   \n",
              "1   70 or Older      F                                              Burns   \n",
              "2      50 to 69      F                      Mental Diseases and Disorders   \n",
              "3      50 to 69      M                      Mental Diseases and Disorders   \n",
              "4   70 or Older      F                      Mental Diseases and Disorders   \n",
              "5   70 or Older      M                      Mental Diseases and Disorders   \n",
              "6      18 to 29      M  Rehabilitation, Aftercare, Other Factors Influ...   \n",
              "7       0 to 17      M  Rehabilitation, Aftercare, Other Factors Influ...   \n",
              "8      30 to 49      M                        Multiple Significant Trauma   \n",
              "9       0 to 17      F                        Multiple Significant Trauma   \n",
              "10     50 to 69      M                        Multiple Significant Trauma   \n",
              "11     30 to 49      M                      Mental Diseases and Disorders   \n",
              "12     18 to 29      M                      Mental Diseases and Disorders   \n",
              "13      0 to 17      F  Rehabilitation, Aftercare, Other Factors Influ...   \n",
              "14     18 to 29      F  Lymphatic, Hematopoietic, Other Malignancies, ...   \n",
              "15  70 or Older      F            Human Immunodeficiency Virus Infections   \n",
              "16  70 or Older      M  Rehabilitation, Aftercare, Other Factors Influ...   \n",
              "17     30 to 49      F                      Mental Diseases and Disorders   \n",
              "18     50 to 69      M  Rehabilitation, Aftercare, Other Factors Influ...   \n",
              "19     50 to 69      F                        Multiple Significant Trauma   \n",
              "\n",
              "      meanLOS  \n",
              "0   16.322917  \n",
              "1   15.252525  \n",
              "2   15.143664  \n",
              "3   14.462935  \n",
              "4   14.055001  \n",
              "5   13.254522  \n",
              "6   12.795508  \n",
              "7   12.763851  \n",
              "8   12.693739  \n",
              "9   12.534247  \n",
              "10  12.439239  \n",
              "11  12.225793  \n",
              "12  12.124022  \n",
              "13  12.071429  \n",
              "14  11.650407  \n",
              "15  11.546392  \n",
              "16  11.540093  \n",
              "17  11.520366  \n",
              "18  11.395185  \n",
              "19  11.371324  "
            ],
            "text/html": [
              "\n",
              "  <div id=\"df-3f40e6de-ae6d-491b-b1bb-1027ea74bd66\">\n",
              "    <div class=\"colab-df-container\">\n",
              "      <div>\n",
              "<style scoped>\n",
              "    .dataframe tbody tr th:only-of-type {\n",
              "        vertical-align: middle;\n",
              "    }\n",
              "\n",
              "    .dataframe tbody tr th {\n",
              "        vertical-align: top;\n",
              "    }\n",
              "\n",
              "    .dataframe thead th {\n",
              "        text-align: right;\n",
              "    }\n",
              "</style>\n",
              "<table border=\"1\" class=\"dataframe\">\n",
              "  <thead>\n",
              "    <tr style=\"text-align: right;\">\n",
              "      <th></th>\n",
              "      <th>Age Group</th>\n",
              "      <th>Gender</th>\n",
              "      <th>APR MDC Description</th>\n",
              "      <th>meanLOS</th>\n",
              "    </tr>\n",
              "  </thead>\n",
              "  <tbody>\n",
              "    <tr>\n",
              "      <th>0</th>\n",
              "      <td>70 or Older</td>\n",
              "      <td>M</td>\n",
              "      <td>Burns</td>\n",
              "      <td>16.322917</td>\n",
              "    </tr>\n",
              "    <tr>\n",
              "      <th>1</th>\n",
              "      <td>70 or Older</td>\n",
              "      <td>F</td>\n",
              "      <td>Burns</td>\n",
              "      <td>15.252525</td>\n",
              "    </tr>\n",
              "    <tr>\n",
              "      <th>2</th>\n",
              "      <td>50 to 69</td>\n",
              "      <td>F</td>\n",
              "      <td>Mental Diseases and Disorders</td>\n",
              "      <td>15.143664</td>\n",
              "    </tr>\n",
              "    <tr>\n",
              "      <th>3</th>\n",
              "      <td>50 to 69</td>\n",
              "      <td>M</td>\n",
              "      <td>Mental Diseases and Disorders</td>\n",
              "      <td>14.462935</td>\n",
              "    </tr>\n",
              "    <tr>\n",
              "      <th>4</th>\n",
              "      <td>70 or Older</td>\n",
              "      <td>F</td>\n",
              "      <td>Mental Diseases and Disorders</td>\n",
              "      <td>14.055001</td>\n",
              "    </tr>\n",
              "    <tr>\n",
              "      <th>5</th>\n",
              "      <td>70 or Older</td>\n",
              "      <td>M</td>\n",
              "      <td>Mental Diseases and Disorders</td>\n",
              "      <td>13.254522</td>\n",
              "    </tr>\n",
              "    <tr>\n",
              "      <th>6</th>\n",
              "      <td>18 to 29</td>\n",
              "      <td>M</td>\n",
              "      <td>Rehabilitation, Aftercare, Other Factors Influ...</td>\n",
              "      <td>12.795508</td>\n",
              "    </tr>\n",
              "    <tr>\n",
              "      <th>7</th>\n",
              "      <td>0 to 17</td>\n",
              "      <td>M</td>\n",
              "      <td>Rehabilitation, Aftercare, Other Factors Influ...</td>\n",
              "      <td>12.763851</td>\n",
              "    </tr>\n",
              "    <tr>\n",
              "      <th>8</th>\n",
              "      <td>30 to 49</td>\n",
              "      <td>M</td>\n",
              "      <td>Multiple Significant Trauma</td>\n",
              "      <td>12.693739</td>\n",
              "    </tr>\n",
              "    <tr>\n",
              "      <th>9</th>\n",
              "      <td>0 to 17</td>\n",
              "      <td>F</td>\n",
              "      <td>Multiple Significant Trauma</td>\n",
              "      <td>12.534247</td>\n",
              "    </tr>\n",
              "    <tr>\n",
              "      <th>10</th>\n",
              "      <td>50 to 69</td>\n",
              "      <td>M</td>\n",
              "      <td>Multiple Significant Trauma</td>\n",
              "      <td>12.439239</td>\n",
              "    </tr>\n",
              "    <tr>\n",
              "      <th>11</th>\n",
              "      <td>30 to 49</td>\n",
              "      <td>M</td>\n",
              "      <td>Mental Diseases and Disorders</td>\n",
              "      <td>12.225793</td>\n",
              "    </tr>\n",
              "    <tr>\n",
              "      <th>12</th>\n",
              "      <td>18 to 29</td>\n",
              "      <td>M</td>\n",
              "      <td>Mental Diseases and Disorders</td>\n",
              "      <td>12.124022</td>\n",
              "    </tr>\n",
              "    <tr>\n",
              "      <th>13</th>\n",
              "      <td>0 to 17</td>\n",
              "      <td>F</td>\n",
              "      <td>Rehabilitation, Aftercare, Other Factors Influ...</td>\n",
              "      <td>12.071429</td>\n",
              "    </tr>\n",
              "    <tr>\n",
              "      <th>14</th>\n",
              "      <td>18 to 29</td>\n",
              "      <td>F</td>\n",
              "      <td>Lymphatic, Hematopoietic, Other Malignancies, ...</td>\n",
              "      <td>11.650407</td>\n",
              "    </tr>\n",
              "    <tr>\n",
              "      <th>15</th>\n",
              "      <td>70 or Older</td>\n",
              "      <td>F</td>\n",
              "      <td>Human Immunodeficiency Virus Infections</td>\n",
              "      <td>11.546392</td>\n",
              "    </tr>\n",
              "    <tr>\n",
              "      <th>16</th>\n",
              "      <td>70 or Older</td>\n",
              "      <td>M</td>\n",
              "      <td>Rehabilitation, Aftercare, Other Factors Influ...</td>\n",
              "      <td>11.540093</td>\n",
              "    </tr>\n",
              "    <tr>\n",
              "      <th>17</th>\n",
              "      <td>30 to 49</td>\n",
              "      <td>F</td>\n",
              "      <td>Mental Diseases and Disorders</td>\n",
              "      <td>11.520366</td>\n",
              "    </tr>\n",
              "    <tr>\n",
              "      <th>18</th>\n",
              "      <td>50 to 69</td>\n",
              "      <td>M</td>\n",
              "      <td>Rehabilitation, Aftercare, Other Factors Influ...</td>\n",
              "      <td>11.395185</td>\n",
              "    </tr>\n",
              "    <tr>\n",
              "      <th>19</th>\n",
              "      <td>50 to 69</td>\n",
              "      <td>F</td>\n",
              "      <td>Multiple Significant Trauma</td>\n",
              "      <td>11.371324</td>\n",
              "    </tr>\n",
              "  </tbody>\n",
              "</table>\n",
              "</div>\n",
              "      <button class=\"colab-df-convert\" onclick=\"convertToInteractive('df-3f40e6de-ae6d-491b-b1bb-1027ea74bd66')\"\n",
              "              title=\"Convert this dataframe to an interactive table.\"\n",
              "              style=\"display:none;\">\n",
              "        \n",
              "  <svg xmlns=\"http://www.w3.org/2000/svg\" height=\"24px\"viewBox=\"0 0 24 24\"\n",
              "       width=\"24px\">\n",
              "    <path d=\"M0 0h24v24H0V0z\" fill=\"none\"/>\n",
              "    <path d=\"M18.56 5.44l.94 2.06.94-2.06 2.06-.94-2.06-.94-.94-2.06-.94 2.06-2.06.94zm-11 1L8.5 8.5l.94-2.06 2.06-.94-2.06-.94L8.5 2.5l-.94 2.06-2.06.94zm10 10l.94 2.06.94-2.06 2.06-.94-2.06-.94-.94-2.06-.94 2.06-2.06.94z\"/><path d=\"M17.41 7.96l-1.37-1.37c-.4-.4-.92-.59-1.43-.59-.52 0-1.04.2-1.43.59L10.3 9.45l-7.72 7.72c-.78.78-.78 2.05 0 2.83L4 21.41c.39.39.9.59 1.41.59.51 0 1.02-.2 1.41-.59l7.78-7.78 2.81-2.81c.8-.78.8-2.07 0-2.86zM5.41 20L4 18.59l7.72-7.72 1.47 1.35L5.41 20z\"/>\n",
              "  </svg>\n",
              "      </button>\n",
              "      \n",
              "  <style>\n",
              "    .colab-df-container {\n",
              "      display:flex;\n",
              "      flex-wrap:wrap;\n",
              "      gap: 12px;\n",
              "    }\n",
              "\n",
              "    .colab-df-convert {\n",
              "      background-color: #E8F0FE;\n",
              "      border: none;\n",
              "      border-radius: 50%;\n",
              "      cursor: pointer;\n",
              "      display: none;\n",
              "      fill: #1967D2;\n",
              "      height: 32px;\n",
              "      padding: 0 0 0 0;\n",
              "      width: 32px;\n",
              "    }\n",
              "\n",
              "    .colab-df-convert:hover {\n",
              "      background-color: #E2EBFA;\n",
              "      box-shadow: 0px 1px 2px rgba(60, 64, 67, 0.3), 0px 1px 3px 1px rgba(60, 64, 67, 0.15);\n",
              "      fill: #174EA6;\n",
              "    }\n",
              "\n",
              "    [theme=dark] .colab-df-convert {\n",
              "      background-color: #3B4455;\n",
              "      fill: #D2E3FC;\n",
              "    }\n",
              "\n",
              "    [theme=dark] .colab-df-convert:hover {\n",
              "      background-color: #434B5C;\n",
              "      box-shadow: 0px 1px 3px 1px rgba(0, 0, 0, 0.15);\n",
              "      filter: drop-shadow(0px 1px 2px rgba(0, 0, 0, 0.3));\n",
              "      fill: #FFFFFF;\n",
              "    }\n",
              "  </style>\n",
              "\n",
              "      <script>\n",
              "        const buttonEl =\n",
              "          document.querySelector('#df-3f40e6de-ae6d-491b-b1bb-1027ea74bd66 button.colab-df-convert');\n",
              "        buttonEl.style.display =\n",
              "          google.colab.kernel.accessAllowed ? 'block' : 'none';\n",
              "\n",
              "        async function convertToInteractive(key) {\n",
              "          const element = document.querySelector('#df-3f40e6de-ae6d-491b-b1bb-1027ea74bd66');\n",
              "          const dataTable =\n",
              "            await google.colab.kernel.invokeFunction('convertToInteractive',\n",
              "                                                     [key], {});\n",
              "          if (!dataTable) return;\n",
              "\n",
              "          const docLinkHtml = 'Like what you see? Visit the ' +\n",
              "            '<a target=\"_blank\" href=https://colab.research.google.com/notebooks/data_table.ipynb>data table notebook</a>'\n",
              "            + ' to learn more about interactive tables.';\n",
              "          element.innerHTML = '';\n",
              "          dataTable['output_type'] = 'display_data';\n",
              "          await google.colab.output.renderOutput(dataTable, element);\n",
              "          const docLink = document.createElement('div');\n",
              "          docLink.innerHTML = docLinkHtml;\n",
              "          element.appendChild(docLink);\n",
              "        }\n",
              "      </script>\n",
              "    </div>\n",
              "  </div>\n",
              "  "
            ]
          },
          "metadata": {},
          "execution_count": 31
        }
      ]
    },
    {
      "cell_type": "code",
      "source": [
        "dataGenderCost = data.groupby(['Age Group', 'Gender', 'APR MDC Description']).agg(\n",
        "    meanLOS=('Length of Stay','mean'), meanCost=('Total Charges', 'mean')\n",
        ").reset_index()\n",
        "dataGenderCost = dataGenderCost.sort_values('meanLOS', ascending=False).reset_index(drop=True)\n",
        "dataGenderCost.head(20)"
      ],
      "metadata": {
        "colab": {
          "base_uri": "https://localhost:8080/",
          "height": 677
        },
        "id": "m8P3B8yWo_3O",
        "outputId": "4964ff85-5505-4a67-c85d-9616d574788f"
      },
      "execution_count": 32,
      "outputs": [
        {
          "output_type": "execute_result",
          "data": {
            "text/plain": [
              "      Age Group Gender                                APR MDC Description  \\\n",
              "0   70 or Older      M                                              Burns   \n",
              "1   70 or Older      F                                              Burns   \n",
              "2      50 to 69      F                      Mental Diseases and Disorders   \n",
              "3      50 to 69      M                      Mental Diseases and Disorders   \n",
              "4   70 or Older      F                      Mental Diseases and Disorders   \n",
              "5   70 or Older      M                      Mental Diseases and Disorders   \n",
              "6      18 to 29      M  Rehabilitation, Aftercare, Other Factors Influ...   \n",
              "7       0 to 17      M  Rehabilitation, Aftercare, Other Factors Influ...   \n",
              "8      30 to 49      M                        Multiple Significant Trauma   \n",
              "9       0 to 17      F                        Multiple Significant Trauma   \n",
              "10     50 to 69      M                        Multiple Significant Trauma   \n",
              "11     30 to 49      M                      Mental Diseases and Disorders   \n",
              "12     18 to 29      M                      Mental Diseases and Disorders   \n",
              "13      0 to 17      F  Rehabilitation, Aftercare, Other Factors Influ...   \n",
              "14     18 to 29      F  Lymphatic, Hematopoietic, Other Malignancies, ...   \n",
              "15  70 or Older      F            Human Immunodeficiency Virus Infections   \n",
              "16  70 or Older      M  Rehabilitation, Aftercare, Other Factors Influ...   \n",
              "17     30 to 49      F                      Mental Diseases and Disorders   \n",
              "18     50 to 69      M  Rehabilitation, Aftercare, Other Factors Influ...   \n",
              "19     50 to 69      F                        Multiple Significant Trauma   \n",
              "\n",
              "      meanLOS       meanCost  \n",
              "0   16.322917  191330.983021  \n",
              "1   15.252525  172326.095960  \n",
              "2   15.143664   45418.274293  \n",
              "3   14.462935   42155.722357  \n",
              "4   14.055001   52200.908025  \n",
              "5   13.254522   51114.879657  \n",
              "6   12.795508   62003.843522  \n",
              "7   12.763851   69762.720990  \n",
              "8   12.693739  138317.736548  \n",
              "9   12.534247  134928.435616  \n",
              "10  12.439239  135748.281259  \n",
              "11  12.225793   34779.061443  \n",
              "12  12.124022   34243.332199  \n",
              "13  12.071429   67404.564578  \n",
              "14  11.650407  141284.101077  \n",
              "15  11.546392   79516.585155  \n",
              "16  11.540093   54599.047857  \n",
              "17  11.520366   33559.208773  \n",
              "18  11.395185   57147.378772  \n",
              "19  11.371324  131745.215368  "
            ],
            "text/html": [
              "\n",
              "  <div id=\"df-e9424948-ddd2-468d-af18-a95d830848d8\">\n",
              "    <div class=\"colab-df-container\">\n",
              "      <div>\n",
              "<style scoped>\n",
              "    .dataframe tbody tr th:only-of-type {\n",
              "        vertical-align: middle;\n",
              "    }\n",
              "\n",
              "    .dataframe tbody tr th {\n",
              "        vertical-align: top;\n",
              "    }\n",
              "\n",
              "    .dataframe thead th {\n",
              "        text-align: right;\n",
              "    }\n",
              "</style>\n",
              "<table border=\"1\" class=\"dataframe\">\n",
              "  <thead>\n",
              "    <tr style=\"text-align: right;\">\n",
              "      <th></th>\n",
              "      <th>Age Group</th>\n",
              "      <th>Gender</th>\n",
              "      <th>APR MDC Description</th>\n",
              "      <th>meanLOS</th>\n",
              "      <th>meanCost</th>\n",
              "    </tr>\n",
              "  </thead>\n",
              "  <tbody>\n",
              "    <tr>\n",
              "      <th>0</th>\n",
              "      <td>70 or Older</td>\n",
              "      <td>M</td>\n",
              "      <td>Burns</td>\n",
              "      <td>16.322917</td>\n",
              "      <td>191330.983021</td>\n",
              "    </tr>\n",
              "    <tr>\n",
              "      <th>1</th>\n",
              "      <td>70 or Older</td>\n",
              "      <td>F</td>\n",
              "      <td>Burns</td>\n",
              "      <td>15.252525</td>\n",
              "      <td>172326.095960</td>\n",
              "    </tr>\n",
              "    <tr>\n",
              "      <th>2</th>\n",
              "      <td>50 to 69</td>\n",
              "      <td>F</td>\n",
              "      <td>Mental Diseases and Disorders</td>\n",
              "      <td>15.143664</td>\n",
              "      <td>45418.274293</td>\n",
              "    </tr>\n",
              "    <tr>\n",
              "      <th>3</th>\n",
              "      <td>50 to 69</td>\n",
              "      <td>M</td>\n",
              "      <td>Mental Diseases and Disorders</td>\n",
              "      <td>14.462935</td>\n",
              "      <td>42155.722357</td>\n",
              "    </tr>\n",
              "    <tr>\n",
              "      <th>4</th>\n",
              "      <td>70 or Older</td>\n",
              "      <td>F</td>\n",
              "      <td>Mental Diseases and Disorders</td>\n",
              "      <td>14.055001</td>\n",
              "      <td>52200.908025</td>\n",
              "    </tr>\n",
              "    <tr>\n",
              "      <th>5</th>\n",
              "      <td>70 or Older</td>\n",
              "      <td>M</td>\n",
              "      <td>Mental Diseases and Disorders</td>\n",
              "      <td>13.254522</td>\n",
              "      <td>51114.879657</td>\n",
              "    </tr>\n",
              "    <tr>\n",
              "      <th>6</th>\n",
              "      <td>18 to 29</td>\n",
              "      <td>M</td>\n",
              "      <td>Rehabilitation, Aftercare, Other Factors Influ...</td>\n",
              "      <td>12.795508</td>\n",
              "      <td>62003.843522</td>\n",
              "    </tr>\n",
              "    <tr>\n",
              "      <th>7</th>\n",
              "      <td>0 to 17</td>\n",
              "      <td>M</td>\n",
              "      <td>Rehabilitation, Aftercare, Other Factors Influ...</td>\n",
              "      <td>12.763851</td>\n",
              "      <td>69762.720990</td>\n",
              "    </tr>\n",
              "    <tr>\n",
              "      <th>8</th>\n",
              "      <td>30 to 49</td>\n",
              "      <td>M</td>\n",
              "      <td>Multiple Significant Trauma</td>\n",
              "      <td>12.693739</td>\n",
              "      <td>138317.736548</td>\n",
              "    </tr>\n",
              "    <tr>\n",
              "      <th>9</th>\n",
              "      <td>0 to 17</td>\n",
              "      <td>F</td>\n",
              "      <td>Multiple Significant Trauma</td>\n",
              "      <td>12.534247</td>\n",
              "      <td>134928.435616</td>\n",
              "    </tr>\n",
              "    <tr>\n",
              "      <th>10</th>\n",
              "      <td>50 to 69</td>\n",
              "      <td>M</td>\n",
              "      <td>Multiple Significant Trauma</td>\n",
              "      <td>12.439239</td>\n",
              "      <td>135748.281259</td>\n",
              "    </tr>\n",
              "    <tr>\n",
              "      <th>11</th>\n",
              "      <td>30 to 49</td>\n",
              "      <td>M</td>\n",
              "      <td>Mental Diseases and Disorders</td>\n",
              "      <td>12.225793</td>\n",
              "      <td>34779.061443</td>\n",
              "    </tr>\n",
              "    <tr>\n",
              "      <th>12</th>\n",
              "      <td>18 to 29</td>\n",
              "      <td>M</td>\n",
              "      <td>Mental Diseases and Disorders</td>\n",
              "      <td>12.124022</td>\n",
              "      <td>34243.332199</td>\n",
              "    </tr>\n",
              "    <tr>\n",
              "      <th>13</th>\n",
              "      <td>0 to 17</td>\n",
              "      <td>F</td>\n",
              "      <td>Rehabilitation, Aftercare, Other Factors Influ...</td>\n",
              "      <td>12.071429</td>\n",
              "      <td>67404.564578</td>\n",
              "    </tr>\n",
              "    <tr>\n",
              "      <th>14</th>\n",
              "      <td>18 to 29</td>\n",
              "      <td>F</td>\n",
              "      <td>Lymphatic, Hematopoietic, Other Malignancies, ...</td>\n",
              "      <td>11.650407</td>\n",
              "      <td>141284.101077</td>\n",
              "    </tr>\n",
              "    <tr>\n",
              "      <th>15</th>\n",
              "      <td>70 or Older</td>\n",
              "      <td>F</td>\n",
              "      <td>Human Immunodeficiency Virus Infections</td>\n",
              "      <td>11.546392</td>\n",
              "      <td>79516.585155</td>\n",
              "    </tr>\n",
              "    <tr>\n",
              "      <th>16</th>\n",
              "      <td>70 or Older</td>\n",
              "      <td>M</td>\n",
              "      <td>Rehabilitation, Aftercare, Other Factors Influ...</td>\n",
              "      <td>11.540093</td>\n",
              "      <td>54599.047857</td>\n",
              "    </tr>\n",
              "    <tr>\n",
              "      <th>17</th>\n",
              "      <td>30 to 49</td>\n",
              "      <td>F</td>\n",
              "      <td>Mental Diseases and Disorders</td>\n",
              "      <td>11.520366</td>\n",
              "      <td>33559.208773</td>\n",
              "    </tr>\n",
              "    <tr>\n",
              "      <th>18</th>\n",
              "      <td>50 to 69</td>\n",
              "      <td>M</td>\n",
              "      <td>Rehabilitation, Aftercare, Other Factors Influ...</td>\n",
              "      <td>11.395185</td>\n",
              "      <td>57147.378772</td>\n",
              "    </tr>\n",
              "    <tr>\n",
              "      <th>19</th>\n",
              "      <td>50 to 69</td>\n",
              "      <td>F</td>\n",
              "      <td>Multiple Significant Trauma</td>\n",
              "      <td>11.371324</td>\n",
              "      <td>131745.215368</td>\n",
              "    </tr>\n",
              "  </tbody>\n",
              "</table>\n",
              "</div>\n",
              "      <button class=\"colab-df-convert\" onclick=\"convertToInteractive('df-e9424948-ddd2-468d-af18-a95d830848d8')\"\n",
              "              title=\"Convert this dataframe to an interactive table.\"\n",
              "              style=\"display:none;\">\n",
              "        \n",
              "  <svg xmlns=\"http://www.w3.org/2000/svg\" height=\"24px\"viewBox=\"0 0 24 24\"\n",
              "       width=\"24px\">\n",
              "    <path d=\"M0 0h24v24H0V0z\" fill=\"none\"/>\n",
              "    <path d=\"M18.56 5.44l.94 2.06.94-2.06 2.06-.94-2.06-.94-.94-2.06-.94 2.06-2.06.94zm-11 1L8.5 8.5l.94-2.06 2.06-.94-2.06-.94L8.5 2.5l-.94 2.06-2.06.94zm10 10l.94 2.06.94-2.06 2.06-.94-2.06-.94-.94-2.06-.94 2.06-2.06.94z\"/><path d=\"M17.41 7.96l-1.37-1.37c-.4-.4-.92-.59-1.43-.59-.52 0-1.04.2-1.43.59L10.3 9.45l-7.72 7.72c-.78.78-.78 2.05 0 2.83L4 21.41c.39.39.9.59 1.41.59.51 0 1.02-.2 1.41-.59l7.78-7.78 2.81-2.81c.8-.78.8-2.07 0-2.86zM5.41 20L4 18.59l7.72-7.72 1.47 1.35L5.41 20z\"/>\n",
              "  </svg>\n",
              "      </button>\n",
              "      \n",
              "  <style>\n",
              "    .colab-df-container {\n",
              "      display:flex;\n",
              "      flex-wrap:wrap;\n",
              "      gap: 12px;\n",
              "    }\n",
              "\n",
              "    .colab-df-convert {\n",
              "      background-color: #E8F0FE;\n",
              "      border: none;\n",
              "      border-radius: 50%;\n",
              "      cursor: pointer;\n",
              "      display: none;\n",
              "      fill: #1967D2;\n",
              "      height: 32px;\n",
              "      padding: 0 0 0 0;\n",
              "      width: 32px;\n",
              "    }\n",
              "\n",
              "    .colab-df-convert:hover {\n",
              "      background-color: #E2EBFA;\n",
              "      box-shadow: 0px 1px 2px rgba(60, 64, 67, 0.3), 0px 1px 3px 1px rgba(60, 64, 67, 0.15);\n",
              "      fill: #174EA6;\n",
              "    }\n",
              "\n",
              "    [theme=dark] .colab-df-convert {\n",
              "      background-color: #3B4455;\n",
              "      fill: #D2E3FC;\n",
              "    }\n",
              "\n",
              "    [theme=dark] .colab-df-convert:hover {\n",
              "      background-color: #434B5C;\n",
              "      box-shadow: 0px 1px 3px 1px rgba(0, 0, 0, 0.15);\n",
              "      filter: drop-shadow(0px 1px 2px rgba(0, 0, 0, 0.3));\n",
              "      fill: #FFFFFF;\n",
              "    }\n",
              "  </style>\n",
              "\n",
              "      <script>\n",
              "        const buttonEl =\n",
              "          document.querySelector('#df-e9424948-ddd2-468d-af18-a95d830848d8 button.colab-df-convert');\n",
              "        buttonEl.style.display =\n",
              "          google.colab.kernel.accessAllowed ? 'block' : 'none';\n",
              "\n",
              "        async function convertToInteractive(key) {\n",
              "          const element = document.querySelector('#df-e9424948-ddd2-468d-af18-a95d830848d8');\n",
              "          const dataTable =\n",
              "            await google.colab.kernel.invokeFunction('convertToInteractive',\n",
              "                                                     [key], {});\n",
              "          if (!dataTable) return;\n",
              "\n",
              "          const docLinkHtml = 'Like what you see? Visit the ' +\n",
              "            '<a target=\"_blank\" href=https://colab.research.google.com/notebooks/data_table.ipynb>data table notebook</a>'\n",
              "            + ' to learn more about interactive tables.';\n",
              "          element.innerHTML = '';\n",
              "          dataTable['output_type'] = 'display_data';\n",
              "          await google.colab.output.renderOutput(dataTable, element);\n",
              "          const docLink = document.createElement('div');\n",
              "          docLink.innerHTML = docLinkHtml;\n",
              "          element.appendChild(docLink);\n",
              "        }\n",
              "      </script>\n",
              "    </div>\n",
              "  </div>\n",
              "  "
            ]
          },
          "metadata": {},
          "execution_count": 32
        }
      ]
    },
    {
      "cell_type": "code",
      "execution_count": 32,
      "metadata": {
        "id": "Idu1b1loDXEp"
      },
      "outputs": [],
      "source": []
    }
  ],
  "metadata": {
    "colab": {
      "collapsed_sections": [],
      "provenance": []
    },
    "kernelspec": {
      "display_name": "Python 3",
      "name": "python3"
    },
    "language_info": {
      "name": "python"
    }
  },
  "nbformat": 4,
  "nbformat_minor": 0
}