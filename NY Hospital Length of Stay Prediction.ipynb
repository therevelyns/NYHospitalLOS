{
  "nbformat": 4,
  "nbformat_minor": 0,
  "metadata": {
    "colab": {
      "provenance": [],
      "collapsed_sections": []
    },
    "kernelspec": {
      "name": "python3",
      "display_name": "Python 3"
    },
    "language_info": {
      "name": "python"
    }
  },
  "cells": [
    {
      "cell_type": "markdown",
      "source": [
        "# New York Hospital Inpatient Discharges in 2015"
      ],
      "metadata": {
        "id": "waj417BPVRL2"
      }
    },
    {
      "cell_type": "markdown",
      "source": [
        "Hi! I'm Theresia Evelyn, A Health Data Enthusiast. This is my Final Project in order to complete Dibimbing Data Science Batch 13 Bootcamp. The dataset I use here is a public dataset provided by [New York State Department of Health](https://health.data.ny.gov/Health/Hospital-Inpatient-Discharges-SPARCS-De-Identified/82xm-y6g8).\n",
        "\n",
        "Length of Stay is a clinical metric that measures the length of time elapsed between a patient's hospital admittance and discharge. It's an important indicator of the efficiency of hospital management. Here I am trying to predict New York Hospital Inpatient Discharges Data in 2015."
      ],
      "metadata": {
        "id": "xf71Pl3AWG1y"
      }
    },
    {
      "cell_type": "markdown",
      "source": [
        "# Import Libraries"
      ],
      "metadata": {
        "id": "K7GTZMa2bvhr"
      }
    },
    {
      "cell_type": "code",
      "execution_count": 1,
      "metadata": {
        "id": "FMbRKFBMQBgY"
      },
      "outputs": [],
      "source": [
        "# First we'll import the basic libraries that we'll use in this project\n",
        "import pandas as pd\n",
        "import numpy as np\n",
        "\n",
        "# For the visualization\n",
        "import seaborn as sns\n",
        "import matplotlib.pyplot as plt\n",
        "\n",
        "# Import the library for encoding\n",
        "from sklearn import preprocessing\n",
        "\n",
        "# For splitting train test\n",
        "from sklearn.model_selection import train_test_split\n",
        "\n",
        "# VIF scores\n",
        "from statsmodels.stats.outliers_influence import variance_inflation_factor as vif \n",
        "from statsmodels.tools.tools import add_constant\n",
        "\n",
        "# For Modelling\n",
        "from sklearn.linear_model import LinearRegression\n",
        "from sklearn.model_selection import GridSearchCV\n",
        "from sklearn.linear_model import Ridge\n",
        "from sklearn.linear_model import Lasso\n",
        "\n",
        "# For Evaluation\n",
        "from sklearn.metrics import r2_score\n",
        "from sklearn.metrics import mean_squared_error\n",
        "from sklearn.metrics import mean_absolute_error\n",
        "from sklearn.metrics import mean_absolute_percentage_error\n",
        "from numpy import math\n",
        "import warnings\n",
        "warnings.filterwarnings('ignore')"
      ]
    },
    {
      "cell_type": "markdown",
      "source": [
        "# Load The Dataset"
      ],
      "metadata": {
        "id": "iiiAiPghQmDd"
      }
    },
    {
      "cell_type": "code",
      "source": [
        "from google.colab import drive\n",
        "drive.mount('/content/gdrive')"
      ],
      "metadata": {
        "colab": {
          "base_uri": "https://localhost:8080/"
        },
        "id": "947RavaXN_wI",
        "outputId": "3943b9ae-4dbd-458c-a305-c41dca2eb49e"
      },
      "execution_count": 2,
      "outputs": [
        {
          "output_type": "stream",
          "name": "stdout",
          "text": [
            "Mounted at /content/gdrive\n"
          ]
        }
      ]
    },
    {
      "cell_type": "code",
      "source": [
        "# Load the dataset we'll use here\n",
        "data = pd.read_csv('/content/gdrive/MyDrive/Dibimbing DS13/FINPRO WML/Hospital Inpatient Discharges NY 2015.csv')\n",
        "data.head()"
      ],
      "metadata": {
        "id": "-dA4qkRUepw8",
        "colab": {
          "base_uri": "https://localhost:8080/",
          "height": 525
        },
        "outputId": "9567fe6b-daa6-4a42-edd5-dd8b2cd08549"
      },
      "execution_count": 3,
      "outputs": [
        {
          "output_type": "execute_result",
          "data": {
            "text/plain": [
              "  Health Service Area Hospital County  Operating Certificate Number  \\\n",
              "0          Western NY     Cattaraugus                      401001.0   \n",
              "1          Western NY     Cattaraugus                      401001.0   \n",
              "2          Western NY     Cattaraugus                      401001.0   \n",
              "3          Western NY     Cattaraugus                      401001.0   \n",
              "4          Western NY      Chautauqua                      602001.0   \n",
              "\n",
              "   Facility Id                  Facility Name Age Group Zip Code - 3 digits  \\\n",
              "0         66.0         Olean General Hospital  50 to 69                 147   \n",
              "1         66.0         Olean General Hospital  18 to 29                 147   \n",
              "2         66.0         Olean General Hospital  30 to 49                 147   \n",
              "3         66.0         Olean General Hospital  50 to 69                 147   \n",
              "4        103.0  Woman's Christian Association  50 to 69                 147   \n",
              "\n",
              "  Gender   Race          Ethnicity  ... Payment Typology 2 Payment Typology 3  \\\n",
              "0      F  White  Not Span/Hispanic  ...                NaN                NaN   \n",
              "1      F  White  Not Span/Hispanic  ...                NaN                NaN   \n",
              "2      M  White  Not Span/Hispanic  ...                NaN                NaN   \n",
              "3      F  White  Not Span/Hispanic  ...                NaN                NaN   \n",
              "4      M  White  Not Span/Hispanic  ...                NaN                NaN   \n",
              "\n",
              "  Attending Provider License Number  Operating Provider License Number  \\\n",
              "0                          267162.0                                NaN   \n",
              "1                          275408.0                                NaN   \n",
              "2                          267162.0                                NaN   \n",
              "3                          271326.0                                NaN   \n",
              "4                          243034.0                                NaN   \n",
              "\n",
              "   Other Provider License Number Birth Weight  Abortion Edit Indicator  \\\n",
              "0                            NaN            0                        N   \n",
              "1                            NaN            0                        N   \n",
              "2                            NaN            0                        N   \n",
              "3                            NaN            0                        N   \n",
              "4                            NaN            0                        N   \n",
              "\n",
              "  Emergency Department Indicator  Total Charges Total Costs  \n",
              "0                              Y       $5620.00    $4561.28  \n",
              "1                              Y       $7404.18    $6933.94  \n",
              "2                              Y       $7931.28    $7154.85  \n",
              "3                              Y      $11304.44    $4584.11  \n",
              "4                              Y       $8330.50    $4361.74  \n",
              "\n",
              "[5 rows x 37 columns]"
            ],
            "text/html": [
              "\n",
              "  <div id=\"df-e5189d4a-7a18-4980-b201-5b68c92e7165\">\n",
              "    <div class=\"colab-df-container\">\n",
              "      <div>\n",
              "<style scoped>\n",
              "    .dataframe tbody tr th:only-of-type {\n",
              "        vertical-align: middle;\n",
              "    }\n",
              "\n",
              "    .dataframe tbody tr th {\n",
              "        vertical-align: top;\n",
              "    }\n",
              "\n",
              "    .dataframe thead th {\n",
              "        text-align: right;\n",
              "    }\n",
              "</style>\n",
              "<table border=\"1\" class=\"dataframe\">\n",
              "  <thead>\n",
              "    <tr style=\"text-align: right;\">\n",
              "      <th></th>\n",
              "      <th>Health Service Area</th>\n",
              "      <th>Hospital County</th>\n",
              "      <th>Operating Certificate Number</th>\n",
              "      <th>Facility Id</th>\n",
              "      <th>Facility Name</th>\n",
              "      <th>Age Group</th>\n",
              "      <th>Zip Code - 3 digits</th>\n",
              "      <th>Gender</th>\n",
              "      <th>Race</th>\n",
              "      <th>Ethnicity</th>\n",
              "      <th>...</th>\n",
              "      <th>Payment Typology 2</th>\n",
              "      <th>Payment Typology 3</th>\n",
              "      <th>Attending Provider License Number</th>\n",
              "      <th>Operating Provider License Number</th>\n",
              "      <th>Other Provider License Number</th>\n",
              "      <th>Birth Weight</th>\n",
              "      <th>Abortion Edit Indicator</th>\n",
              "      <th>Emergency Department Indicator</th>\n",
              "      <th>Total Charges</th>\n",
              "      <th>Total Costs</th>\n",
              "    </tr>\n",
              "  </thead>\n",
              "  <tbody>\n",
              "    <tr>\n",
              "      <th>0</th>\n",
              "      <td>Western NY</td>\n",
              "      <td>Cattaraugus</td>\n",
              "      <td>401001.0</td>\n",
              "      <td>66.0</td>\n",
              "      <td>Olean General Hospital</td>\n",
              "      <td>50 to 69</td>\n",
              "      <td>147</td>\n",
              "      <td>F</td>\n",
              "      <td>White</td>\n",
              "      <td>Not Span/Hispanic</td>\n",
              "      <td>...</td>\n",
              "      <td>NaN</td>\n",
              "      <td>NaN</td>\n",
              "      <td>267162.0</td>\n",
              "      <td>NaN</td>\n",
              "      <td>NaN</td>\n",
              "      <td>0</td>\n",
              "      <td>N</td>\n",
              "      <td>Y</td>\n",
              "      <td>$5620.00</td>\n",
              "      <td>$4561.28</td>\n",
              "    </tr>\n",
              "    <tr>\n",
              "      <th>1</th>\n",
              "      <td>Western NY</td>\n",
              "      <td>Cattaraugus</td>\n",
              "      <td>401001.0</td>\n",
              "      <td>66.0</td>\n",
              "      <td>Olean General Hospital</td>\n",
              "      <td>18 to 29</td>\n",
              "      <td>147</td>\n",
              "      <td>F</td>\n",
              "      <td>White</td>\n",
              "      <td>Not Span/Hispanic</td>\n",
              "      <td>...</td>\n",
              "      <td>NaN</td>\n",
              "      <td>NaN</td>\n",
              "      <td>275408.0</td>\n",
              "      <td>NaN</td>\n",
              "      <td>NaN</td>\n",
              "      <td>0</td>\n",
              "      <td>N</td>\n",
              "      <td>Y</td>\n",
              "      <td>$7404.18</td>\n",
              "      <td>$6933.94</td>\n",
              "    </tr>\n",
              "    <tr>\n",
              "      <th>2</th>\n",
              "      <td>Western NY</td>\n",
              "      <td>Cattaraugus</td>\n",
              "      <td>401001.0</td>\n",
              "      <td>66.0</td>\n",
              "      <td>Olean General Hospital</td>\n",
              "      <td>30 to 49</td>\n",
              "      <td>147</td>\n",
              "      <td>M</td>\n",
              "      <td>White</td>\n",
              "      <td>Not Span/Hispanic</td>\n",
              "      <td>...</td>\n",
              "      <td>NaN</td>\n",
              "      <td>NaN</td>\n",
              "      <td>267162.0</td>\n",
              "      <td>NaN</td>\n",
              "      <td>NaN</td>\n",
              "      <td>0</td>\n",
              "      <td>N</td>\n",
              "      <td>Y</td>\n",
              "      <td>$7931.28</td>\n",
              "      <td>$7154.85</td>\n",
              "    </tr>\n",
              "    <tr>\n",
              "      <th>3</th>\n",
              "      <td>Western NY</td>\n",
              "      <td>Cattaraugus</td>\n",
              "      <td>401001.0</td>\n",
              "      <td>66.0</td>\n",
              "      <td>Olean General Hospital</td>\n",
              "      <td>50 to 69</td>\n",
              "      <td>147</td>\n",
              "      <td>F</td>\n",
              "      <td>White</td>\n",
              "      <td>Not Span/Hispanic</td>\n",
              "      <td>...</td>\n",
              "      <td>NaN</td>\n",
              "      <td>NaN</td>\n",
              "      <td>271326.0</td>\n",
              "      <td>NaN</td>\n",
              "      <td>NaN</td>\n",
              "      <td>0</td>\n",
              "      <td>N</td>\n",
              "      <td>Y</td>\n",
              "      <td>$11304.44</td>\n",
              "      <td>$4584.11</td>\n",
              "    </tr>\n",
              "    <tr>\n",
              "      <th>4</th>\n",
              "      <td>Western NY</td>\n",
              "      <td>Chautauqua</td>\n",
              "      <td>602001.0</td>\n",
              "      <td>103.0</td>\n",
              "      <td>Woman's Christian Association</td>\n",
              "      <td>50 to 69</td>\n",
              "      <td>147</td>\n",
              "      <td>M</td>\n",
              "      <td>White</td>\n",
              "      <td>Not Span/Hispanic</td>\n",
              "      <td>...</td>\n",
              "      <td>NaN</td>\n",
              "      <td>NaN</td>\n",
              "      <td>243034.0</td>\n",
              "      <td>NaN</td>\n",
              "      <td>NaN</td>\n",
              "      <td>0</td>\n",
              "      <td>N</td>\n",
              "      <td>Y</td>\n",
              "      <td>$8330.50</td>\n",
              "      <td>$4361.74</td>\n",
              "    </tr>\n",
              "  </tbody>\n",
              "</table>\n",
              "<p>5 rows × 37 columns</p>\n",
              "</div>\n",
              "      <button class=\"colab-df-convert\" onclick=\"convertToInteractive('df-e5189d4a-7a18-4980-b201-5b68c92e7165')\"\n",
              "              title=\"Convert this dataframe to an interactive table.\"\n",
              "              style=\"display:none;\">\n",
              "        \n",
              "  <svg xmlns=\"http://www.w3.org/2000/svg\" height=\"24px\"viewBox=\"0 0 24 24\"\n",
              "       width=\"24px\">\n",
              "    <path d=\"M0 0h24v24H0V0z\" fill=\"none\"/>\n",
              "    <path d=\"M18.56 5.44l.94 2.06.94-2.06 2.06-.94-2.06-.94-.94-2.06-.94 2.06-2.06.94zm-11 1L8.5 8.5l.94-2.06 2.06-.94-2.06-.94L8.5 2.5l-.94 2.06-2.06.94zm10 10l.94 2.06.94-2.06 2.06-.94-2.06-.94-.94-2.06-.94 2.06-2.06.94z\"/><path d=\"M17.41 7.96l-1.37-1.37c-.4-.4-.92-.59-1.43-.59-.52 0-1.04.2-1.43.59L10.3 9.45l-7.72 7.72c-.78.78-.78 2.05 0 2.83L4 21.41c.39.39.9.59 1.41.59.51 0 1.02-.2 1.41-.59l7.78-7.78 2.81-2.81c.8-.78.8-2.07 0-2.86zM5.41 20L4 18.59l7.72-7.72 1.47 1.35L5.41 20z\"/>\n",
              "  </svg>\n",
              "      </button>\n",
              "      \n",
              "  <style>\n",
              "    .colab-df-container {\n",
              "      display:flex;\n",
              "      flex-wrap:wrap;\n",
              "      gap: 12px;\n",
              "    }\n",
              "\n",
              "    .colab-df-convert {\n",
              "      background-color: #E8F0FE;\n",
              "      border: none;\n",
              "      border-radius: 50%;\n",
              "      cursor: pointer;\n",
              "      display: none;\n",
              "      fill: #1967D2;\n",
              "      height: 32px;\n",
              "      padding: 0 0 0 0;\n",
              "      width: 32px;\n",
              "    }\n",
              "\n",
              "    .colab-df-convert:hover {\n",
              "      background-color: #E2EBFA;\n",
              "      box-shadow: 0px 1px 2px rgba(60, 64, 67, 0.3), 0px 1px 3px 1px rgba(60, 64, 67, 0.15);\n",
              "      fill: #174EA6;\n",
              "    }\n",
              "\n",
              "    [theme=dark] .colab-df-convert {\n",
              "      background-color: #3B4455;\n",
              "      fill: #D2E3FC;\n",
              "    }\n",
              "\n",
              "    [theme=dark] .colab-df-convert:hover {\n",
              "      background-color: #434B5C;\n",
              "      box-shadow: 0px 1px 3px 1px rgba(0, 0, 0, 0.15);\n",
              "      filter: drop-shadow(0px 1px 2px rgba(0, 0, 0, 0.3));\n",
              "      fill: #FFFFFF;\n",
              "    }\n",
              "  </style>\n",
              "\n",
              "      <script>\n",
              "        const buttonEl =\n",
              "          document.querySelector('#df-e5189d4a-7a18-4980-b201-5b68c92e7165 button.colab-df-convert');\n",
              "        buttonEl.style.display =\n",
              "          google.colab.kernel.accessAllowed ? 'block' : 'none';\n",
              "\n",
              "        async function convertToInteractive(key) {\n",
              "          const element = document.querySelector('#df-e5189d4a-7a18-4980-b201-5b68c92e7165');\n",
              "          const dataTable =\n",
              "            await google.colab.kernel.invokeFunction('convertToInteractive',\n",
              "                                                     [key], {});\n",
              "          if (!dataTable) return;\n",
              "\n",
              "          const docLinkHtml = 'Like what you see? Visit the ' +\n",
              "            '<a target=\"_blank\" href=https://colab.research.google.com/notebooks/data_table.ipynb>data table notebook</a>'\n",
              "            + ' to learn more about interactive tables.';\n",
              "          element.innerHTML = '';\n",
              "          dataTable['output_type'] = 'display_data';\n",
              "          await google.colab.output.renderOutput(dataTable, element);\n",
              "          const docLink = document.createElement('div');\n",
              "          docLink.innerHTML = docLinkHtml;\n",
              "          element.appendChild(docLink);\n",
              "        }\n",
              "      </script>\n",
              "    </div>\n",
              "  </div>\n",
              "  "
            ]
          },
          "metadata": {},
          "execution_count": 3
        }
      ]
    },
    {
      "cell_type": "code",
      "source": [
        "# Dig more infos about this dataset\n",
        "data.info()"
      ],
      "metadata": {
        "id": "YQ4pbb5TfUTy",
        "colab": {
          "base_uri": "https://localhost:8080/"
        },
        "outputId": "7683bd8d-7bab-4e0c-9c26-0792c3038898"
      },
      "execution_count": 4,
      "outputs": [
        {
          "output_type": "stream",
          "name": "stdout",
          "text": [
            "<class 'pandas.core.frame.DataFrame'>\n",
            "RangeIndex: 2346760 entries, 0 to 2346759\n",
            "Data columns (total 37 columns):\n",
            " #   Column                               Dtype  \n",
            "---  ------                               -----  \n",
            " 0   Health Service Area                  object \n",
            " 1   Hospital County                      object \n",
            " 2   Operating Certificate Number         float64\n",
            " 3   Facility Id                          float64\n",
            " 4   Facility Name                        object \n",
            " 5   Age Group                            object \n",
            " 6   Zip Code - 3 digits                  object \n",
            " 7   Gender                               object \n",
            " 8   Race                                 object \n",
            " 9   Ethnicity                            object \n",
            " 10  Length of Stay                       object \n",
            " 11  Type of Admission                    object \n",
            " 12  Patient Disposition                  object \n",
            " 13  Discharge Year                       int64  \n",
            " 14  CCS Diagnosis Code                   int64  \n",
            " 15  CCS Diagnosis Description            object \n",
            " 16  CCS Procedure Code                   int64  \n",
            " 17  CCS Procedure Description            object \n",
            " 18  APR DRG Code                         int64  \n",
            " 19  APR DRG Description                  object \n",
            " 20  APR MDC Code                         int64  \n",
            " 21  APR MDC Description                  object \n",
            " 22  APR Severity of Illness Code         int64  \n",
            " 23  APR Severity of Illness Description  object \n",
            " 24  APR Risk of Mortality                object \n",
            " 25  APR Medical Surgical Description     object \n",
            " 26  Payment Typology 1                   object \n",
            " 27  Payment Typology 2                   object \n",
            " 28  Payment Typology 3                   object \n",
            " 29  Attending Provider License Number    float64\n",
            " 30  Operating Provider License Number    float64\n",
            " 31  Other Provider License Number        float64\n",
            " 32  Birth Weight                         int64  \n",
            " 33  Abortion Edit Indicator              object \n",
            " 34  Emergency Department Indicator       object \n",
            " 35  Total Charges                        object \n",
            " 36  Total Costs                          object \n",
            "dtypes: float64(5), int64(7), object(25)\n",
            "memory usage: 662.5+ MB\n"
          ]
        }
      ]
    },
    {
      "cell_type": "code",
      "source": [
        "data.shape"
      ],
      "metadata": {
        "colab": {
          "base_uri": "https://localhost:8080/"
        },
        "id": "MZi4T7KZPlqE",
        "outputId": "b744e563-c01c-4060-eee1-6adef1eb4503"
      },
      "execution_count": 5,
      "outputs": [
        {
          "output_type": "execute_result",
          "data": {
            "text/plain": [
              "(2346760, 37)"
            ]
          },
          "metadata": {},
          "execution_count": 5
        }
      ]
    },
    {
      "cell_type": "markdown",
      "source": [
        "**We can conclude that:**\n",
        "\n",
        "- This dataset consists of 2.346.760 rows and 37 features\n",
        "- The target column, `Length of Stay`, is still object dtype, so we'll need to change it later\n",
        "- We'll drop `Facility Id` and `Discharge Year` later, because we won't use them\n",
        "- We'll have to encode some categorical data and\n",
        "- We'll need to check the correlation and multicollinearity among the numeric features."
      ],
      "metadata": {
        "id": "v60lqIrCiejB"
      }
    },
    {
      "cell_type": "markdown",
      "source": [
        "**Columns (Features) Understanding**\n",
        "\n",
        "- `Health Service Area`: Where the hospital is located\n",
        "- `Hospital County`: The county in which the hospital is located\n",
        "- `Facility Name`: The name of the facility\n",
        "- `Age Group`: Age in years at time of discharge\n",
        "- `Gender`: Patient gender \n",
        "- `Race`: Patient race\n",
        "- `Ethnicity`: Patient Ethnicity\n",
        "- `Length of Stay`: The total number of patient days at hospital\n",
        "- `Type of Admission`: The manner in which the patient was admitted to hospital \n",
        "- `Patient Disposition`: The patient's destination or status upon discharge\n",
        "- `CCS Diagnosis Description`: Clinical Classification Software (CCS) Diagnosis\n",
        "Category Description \n",
        "- `CCS Procedure Description`: Clinical Classification Software (CCS) Procedure\n",
        "Category Description  \n",
        "- `APR DRG Description`: APR-DRG Classification Code Description \n",
        "- `APR MDC Description`: All Patient Refined Major Diagnostic Category Description\n",
        "- `APR Severity of Illness Code`: APR-DRG Severity of Illness Code \n",
        "- `APR Severity of Illness Description`: All Patient Refined Severity of Illness (APR SOI) Description \n",
        "- `APR Risk of Mortality`: All Patient Refined Risk of Mortality \n",
        "- `APR Medical Surgical Description`: APR-DRG specific classification of Medical \n",
        "- `Payment Typology 1`: A description of the type of payment for this occurrence \n",
        "- `Birth Weight`: The neonate birth weight in grams; rounded to nearest 100g\n",
        "- `Abortion Edit Indicator`: A flag to indicate if the discharge record contains any indication of abortion \n",
        "- `Emergency Department Indicator`: If the record contained an Emergency Department revenue, the indicator is set to \"Y\", otherwise it will be “N”.\n",
        "- `Total Charges`: Total charges for the discharge\n",
        "- `Total Costs`: Total estimated costs for the discharge\n"
      ],
      "metadata": {
        "id": "ayaGHKk-hqjN"
      }
    },
    {
      "cell_type": "markdown",
      "source": [
        "# Data Prepocessing"
      ],
      "metadata": {
        "id": "OaCDVpt1yBvM"
      }
    },
    {
      "cell_type": "markdown",
      "source": [
        "## Handling Duplicated Value"
      ],
      "metadata": {
        "id": "w00uSPLZAPz_"
      }
    },
    {
      "cell_type": "code",
      "source": [
        "# Check duplicated values\n",
        "\n",
        "print('Duplicated values : ', data.duplicated().sum())\n",
        "print('Percentage of duplicated values : ', data.duplicated().sum()/len(data)*100)"
      ],
      "metadata": {
        "colab": {
          "base_uri": "https://localhost:8080/"
        },
        "id": "U6u6OcaoUBMF",
        "outputId": "d78b7d51-7509-4a53-b3c0-2241c2ac6a0d"
      },
      "execution_count": null,
      "outputs": [
        {
          "output_type": "stream",
          "name": "stdout",
          "text": [
            "Duplicated values :  2273\n",
            "Percentage of duplicated values :  0.0968569431897595\n"
          ]
        }
      ]
    },
    {
      "cell_type": "code",
      "source": [
        "print('Rows before dropping duplicated values :', len(data))"
      ],
      "metadata": {
        "colab": {
          "base_uri": "https://localhost:8080/"
        },
        "id": "zkj56KS68VNq",
        "outputId": "cce21b38-5d50-46b3-f945-e1b355101c47"
      },
      "execution_count": null,
      "outputs": [
        {
          "output_type": "stream",
          "name": "stdout",
          "text": [
            "Rows before dropping duplicated values : 2346760\n"
          ]
        }
      ]
    },
    {
      "cell_type": "code",
      "source": [
        "# Drop duplicated data\n",
        "data = data.drop_duplicates()\n",
        "print('Rows after dropping duplicated values :', len(data))"
      ],
      "metadata": {
        "id": "eO-XqXW_WNCs",
        "colab": {
          "base_uri": "https://localhost:8080/"
        },
        "outputId": "0a4ce1bc-4280-4e23-e4d8-03686743ab00"
      },
      "execution_count": null,
      "outputs": [
        {
          "output_type": "stream",
          "name": "stdout",
          "text": [
            "Rows after dropping duplicated values : 2344487\n"
          ]
        }
      ]
    },
    {
      "cell_type": "markdown",
      "source": [
        "## Handling Missing Value\n",
        "\n"
      ],
      "metadata": {
        "id": "uFsb6ZG0yLXj"
      }
    },
    {
      "cell_type": "code",
      "source": [
        "# Find out how many null data this dataset has\n",
        "# Make a dataframe of missing value for easy reading\n",
        "data_nan = data.isna().sum().reset_index()\n",
        "data_nan.columns = ['feature','missing_value']\n",
        "data_nan['percentage'] = round((data_nan['missing_value']/len(data))*100,2)\n",
        "data_nan = data_nan.sort_values('percentage', ascending=False).reset_index(drop=True)\n",
        "data_nan = data_nan[data_nan['percentage']>0]\n",
        "data_nan"
      ],
      "metadata": {
        "colab": {
          "base_uri": "https://localhost:8080/"
        },
        "id": "RsjcxcjXvSjJ",
        "outputId": "5945346e-a237-4090-9e6c-fefc0fe54dea"
      },
      "execution_count": null,
      "outputs": [
        {
          "output_type": "execute_result",
          "data": {
            "text/plain": [
              "                             feature  missing_value  percentage\n",
              "0      Other Provider License Number        2273151       96.96\n",
              "1                 Payment Typology 3        1644073       70.13\n",
              "2                 Payment Typology 2         761749       32.49\n",
              "3  Operating Provider License Number         612265       26.12\n",
              "4                Zip Code - 3 digits           4425        0.19\n",
              "5                    Hospital County           2911        0.12\n",
              "6  Attending Provider License Number           2911        0.12\n",
              "7                Health Service Area           2911        0.12\n",
              "8                        Facility Id           2911        0.12\n",
              "9       Operating Certificate Number           2911        0.12"
            ],
            "text/html": [
              "\n",
              "  <div id=\"df-bcdad7d4-c5e3-417a-b903-32eca1ff1685\">\n",
              "    <div class=\"colab-df-container\">\n",
              "      <div>\n",
              "<style scoped>\n",
              "    .dataframe tbody tr th:only-of-type {\n",
              "        vertical-align: middle;\n",
              "    }\n",
              "\n",
              "    .dataframe tbody tr th {\n",
              "        vertical-align: top;\n",
              "    }\n",
              "\n",
              "    .dataframe thead th {\n",
              "        text-align: right;\n",
              "    }\n",
              "</style>\n",
              "<table border=\"1\" class=\"dataframe\">\n",
              "  <thead>\n",
              "    <tr style=\"text-align: right;\">\n",
              "      <th></th>\n",
              "      <th>feature</th>\n",
              "      <th>missing_value</th>\n",
              "      <th>percentage</th>\n",
              "    </tr>\n",
              "  </thead>\n",
              "  <tbody>\n",
              "    <tr>\n",
              "      <th>0</th>\n",
              "      <td>Other Provider License Number</td>\n",
              "      <td>2273151</td>\n",
              "      <td>96.96</td>\n",
              "    </tr>\n",
              "    <tr>\n",
              "      <th>1</th>\n",
              "      <td>Payment Typology 3</td>\n",
              "      <td>1644073</td>\n",
              "      <td>70.13</td>\n",
              "    </tr>\n",
              "    <tr>\n",
              "      <th>2</th>\n",
              "      <td>Payment Typology 2</td>\n",
              "      <td>761749</td>\n",
              "      <td>32.49</td>\n",
              "    </tr>\n",
              "    <tr>\n",
              "      <th>3</th>\n",
              "      <td>Operating Provider License Number</td>\n",
              "      <td>612265</td>\n",
              "      <td>26.12</td>\n",
              "    </tr>\n",
              "    <tr>\n",
              "      <th>4</th>\n",
              "      <td>Zip Code - 3 digits</td>\n",
              "      <td>4425</td>\n",
              "      <td>0.19</td>\n",
              "    </tr>\n",
              "    <tr>\n",
              "      <th>5</th>\n",
              "      <td>Hospital County</td>\n",
              "      <td>2911</td>\n",
              "      <td>0.12</td>\n",
              "    </tr>\n",
              "    <tr>\n",
              "      <th>6</th>\n",
              "      <td>Attending Provider License Number</td>\n",
              "      <td>2911</td>\n",
              "      <td>0.12</td>\n",
              "    </tr>\n",
              "    <tr>\n",
              "      <th>7</th>\n",
              "      <td>Health Service Area</td>\n",
              "      <td>2911</td>\n",
              "      <td>0.12</td>\n",
              "    </tr>\n",
              "    <tr>\n",
              "      <th>8</th>\n",
              "      <td>Facility Id</td>\n",
              "      <td>2911</td>\n",
              "      <td>0.12</td>\n",
              "    </tr>\n",
              "    <tr>\n",
              "      <th>9</th>\n",
              "      <td>Operating Certificate Number</td>\n",
              "      <td>2911</td>\n",
              "      <td>0.12</td>\n",
              "    </tr>\n",
              "  </tbody>\n",
              "</table>\n",
              "</div>\n",
              "      <button class=\"colab-df-convert\" onclick=\"convertToInteractive('df-bcdad7d4-c5e3-417a-b903-32eca1ff1685')\"\n",
              "              title=\"Convert this dataframe to an interactive table.\"\n",
              "              style=\"display:none;\">\n",
              "        \n",
              "  <svg xmlns=\"http://www.w3.org/2000/svg\" height=\"24px\"viewBox=\"0 0 24 24\"\n",
              "       width=\"24px\">\n",
              "    <path d=\"M0 0h24v24H0V0z\" fill=\"none\"/>\n",
              "    <path d=\"M18.56 5.44l.94 2.06.94-2.06 2.06-.94-2.06-.94-.94-2.06-.94 2.06-2.06.94zm-11 1L8.5 8.5l.94-2.06 2.06-.94-2.06-.94L8.5 2.5l-.94 2.06-2.06.94zm10 10l.94 2.06.94-2.06 2.06-.94-2.06-.94-.94-2.06-.94 2.06-2.06.94z\"/><path d=\"M17.41 7.96l-1.37-1.37c-.4-.4-.92-.59-1.43-.59-.52 0-1.04.2-1.43.59L10.3 9.45l-7.72 7.72c-.78.78-.78 2.05 0 2.83L4 21.41c.39.39.9.59 1.41.59.51 0 1.02-.2 1.41-.59l7.78-7.78 2.81-2.81c.8-.78.8-2.07 0-2.86zM5.41 20L4 18.59l7.72-7.72 1.47 1.35L5.41 20z\"/>\n",
              "  </svg>\n",
              "      </button>\n",
              "      \n",
              "  <style>\n",
              "    .colab-df-container {\n",
              "      display:flex;\n",
              "      flex-wrap:wrap;\n",
              "      gap: 12px;\n",
              "    }\n",
              "\n",
              "    .colab-df-convert {\n",
              "      background-color: #E8F0FE;\n",
              "      border: none;\n",
              "      border-radius: 50%;\n",
              "      cursor: pointer;\n",
              "      display: none;\n",
              "      fill: #1967D2;\n",
              "      height: 32px;\n",
              "      padding: 0 0 0 0;\n",
              "      width: 32px;\n",
              "    }\n",
              "\n",
              "    .colab-df-convert:hover {\n",
              "      background-color: #E2EBFA;\n",
              "      box-shadow: 0px 1px 2px rgba(60, 64, 67, 0.3), 0px 1px 3px 1px rgba(60, 64, 67, 0.15);\n",
              "      fill: #174EA6;\n",
              "    }\n",
              "\n",
              "    [theme=dark] .colab-df-convert {\n",
              "      background-color: #3B4455;\n",
              "      fill: #D2E3FC;\n",
              "    }\n",
              "\n",
              "    [theme=dark] .colab-df-convert:hover {\n",
              "      background-color: #434B5C;\n",
              "      box-shadow: 0px 1px 3px 1px rgba(0, 0, 0, 0.15);\n",
              "      filter: drop-shadow(0px 1px 2px rgba(0, 0, 0, 0.3));\n",
              "      fill: #FFFFFF;\n",
              "    }\n",
              "  </style>\n",
              "\n",
              "      <script>\n",
              "        const buttonEl =\n",
              "          document.querySelector('#df-bcdad7d4-c5e3-417a-b903-32eca1ff1685 button.colab-df-convert');\n",
              "        buttonEl.style.display =\n",
              "          google.colab.kernel.accessAllowed ? 'block' : 'none';\n",
              "\n",
              "        async function convertToInteractive(key) {\n",
              "          const element = document.querySelector('#df-bcdad7d4-c5e3-417a-b903-32eca1ff1685');\n",
              "          const dataTable =\n",
              "            await google.colab.kernel.invokeFunction('convertToInteractive',\n",
              "                                                     [key], {});\n",
              "          if (!dataTable) return;\n",
              "\n",
              "          const docLinkHtml = 'Like what you see? Visit the ' +\n",
              "            '<a target=\"_blank\" href=https://colab.research.google.com/notebooks/data_table.ipynb>data table notebook</a>'\n",
              "            + ' to learn more about interactive tables.';\n",
              "          element.innerHTML = '';\n",
              "          dataTable['output_type'] = 'display_data';\n",
              "          await google.colab.output.renderOutput(dataTable, element);\n",
              "          const docLink = document.createElement('div');\n",
              "          docLink.innerHTML = docLinkHtml;\n",
              "          element.appendChild(docLink);\n",
              "        }\n",
              "      </script>\n",
              "    </div>\n",
              "  </div>\n",
              "  "
            ]
          },
          "metadata": {},
          "execution_count": 9
        }
      ]
    },
    {
      "cell_type": "markdown",
      "source": [
        "**We'll need to drop `Other Provider License Number`, `Payment Typology 3`, `Payment Typology 2` and `Operating Provider License Number` because they contain too much Null value (more than 5%).**"
      ],
      "metadata": {
        "id": "o-gK-N-Bn-2q"
      }
    },
    {
      "cell_type": "code",
      "source": [
        "print('Rows before dropping missing values and redundant feature :', len(data))"
      ],
      "metadata": {
        "colab": {
          "base_uri": "https://localhost:8080/"
        },
        "id": "0krJ-ycAC09f",
        "outputId": "9a30b60e-ac78-4364-8b19-62daae007d97"
      },
      "execution_count": null,
      "outputs": [
        {
          "output_type": "stream",
          "name": "stdout",
          "text": [
            "Rows before dropping missing values and redundant feature : 2344487\n"
          ]
        }
      ]
    },
    {
      "cell_type": "code",
      "source": [
        "# We are dropping `Other Provider License Number`, `Payment Typology 3`, `Operating Provider License Number` and `Payment Typology 2` features\n",
        "\n",
        "data = data.drop('Other Provider License Number', axis=1)\n",
        "data = data.drop('Payment Typology 3', axis=1)\n",
        "data = data.drop('Operating Provider License Number', axis=1)\n",
        "data = data.drop('Payment Typology 2', axis=1)"
      ],
      "metadata": {
        "id": "GUmuwMy0rOW9"
      },
      "execution_count": null,
      "outputs": []
    },
    {
      "cell_type": "code",
      "source": [
        "# How many null value we have now, after dropping those four redundant features? \n",
        "data_nan = data.isna().sum().reset_index()\n",
        "data_nan.columns = ['feature','missing_value']\n",
        "data_nan['percentage'] = round((data_nan['missing_value']/len(data))*100,2)\n",
        "data_nan = data_nan.sort_values('percentage', ascending=False).reset_index(drop=True)\n",
        "data_nan = data_nan[data_nan['percentage']>0]\n",
        "data_nan"
      ],
      "metadata": {
        "colab": {
          "base_uri": "https://localhost:8080/"
        },
        "id": "s5dwec7su-yz",
        "outputId": "876b8a6d-3c28-4e7d-f9bb-374429b053d8"
      },
      "execution_count": null,
      "outputs": [
        {
          "output_type": "execute_result",
          "data": {
            "text/plain": [
              "                             feature  missing_value  percentage\n",
              "0                Zip Code - 3 digits           4425        0.19\n",
              "1                Health Service Area           2911        0.12\n",
              "2                    Hospital County           2911        0.12\n",
              "3  Attending Provider License Number           2911        0.12\n",
              "4                        Facility Id           2911        0.12\n",
              "5       Operating Certificate Number           2911        0.12"
            ],
            "text/html": [
              "\n",
              "  <div id=\"df-a0a730b7-332a-40df-a96e-4dad90cdb452\">\n",
              "    <div class=\"colab-df-container\">\n",
              "      <div>\n",
              "<style scoped>\n",
              "    .dataframe tbody tr th:only-of-type {\n",
              "        vertical-align: middle;\n",
              "    }\n",
              "\n",
              "    .dataframe tbody tr th {\n",
              "        vertical-align: top;\n",
              "    }\n",
              "\n",
              "    .dataframe thead th {\n",
              "        text-align: right;\n",
              "    }\n",
              "</style>\n",
              "<table border=\"1\" class=\"dataframe\">\n",
              "  <thead>\n",
              "    <tr style=\"text-align: right;\">\n",
              "      <th></th>\n",
              "      <th>feature</th>\n",
              "      <th>missing_value</th>\n",
              "      <th>percentage</th>\n",
              "    </tr>\n",
              "  </thead>\n",
              "  <tbody>\n",
              "    <tr>\n",
              "      <th>0</th>\n",
              "      <td>Zip Code - 3 digits</td>\n",
              "      <td>4425</td>\n",
              "      <td>0.19</td>\n",
              "    </tr>\n",
              "    <tr>\n",
              "      <th>1</th>\n",
              "      <td>Health Service Area</td>\n",
              "      <td>2911</td>\n",
              "      <td>0.12</td>\n",
              "    </tr>\n",
              "    <tr>\n",
              "      <th>2</th>\n",
              "      <td>Hospital County</td>\n",
              "      <td>2911</td>\n",
              "      <td>0.12</td>\n",
              "    </tr>\n",
              "    <tr>\n",
              "      <th>3</th>\n",
              "      <td>Attending Provider License Number</td>\n",
              "      <td>2911</td>\n",
              "      <td>0.12</td>\n",
              "    </tr>\n",
              "    <tr>\n",
              "      <th>4</th>\n",
              "      <td>Facility Id</td>\n",
              "      <td>2911</td>\n",
              "      <td>0.12</td>\n",
              "    </tr>\n",
              "    <tr>\n",
              "      <th>5</th>\n",
              "      <td>Operating Certificate Number</td>\n",
              "      <td>2911</td>\n",
              "      <td>0.12</td>\n",
              "    </tr>\n",
              "  </tbody>\n",
              "</table>\n",
              "</div>\n",
              "      <button class=\"colab-df-convert\" onclick=\"convertToInteractive('df-a0a730b7-332a-40df-a96e-4dad90cdb452')\"\n",
              "              title=\"Convert this dataframe to an interactive table.\"\n",
              "              style=\"display:none;\">\n",
              "        \n",
              "  <svg xmlns=\"http://www.w3.org/2000/svg\" height=\"24px\"viewBox=\"0 0 24 24\"\n",
              "       width=\"24px\">\n",
              "    <path d=\"M0 0h24v24H0V0z\" fill=\"none\"/>\n",
              "    <path d=\"M18.56 5.44l.94 2.06.94-2.06 2.06-.94-2.06-.94-.94-2.06-.94 2.06-2.06.94zm-11 1L8.5 8.5l.94-2.06 2.06-.94-2.06-.94L8.5 2.5l-.94 2.06-2.06.94zm10 10l.94 2.06.94-2.06 2.06-.94-2.06-.94-.94-2.06-.94 2.06-2.06.94z\"/><path d=\"M17.41 7.96l-1.37-1.37c-.4-.4-.92-.59-1.43-.59-.52 0-1.04.2-1.43.59L10.3 9.45l-7.72 7.72c-.78.78-.78 2.05 0 2.83L4 21.41c.39.39.9.59 1.41.59.51 0 1.02-.2 1.41-.59l7.78-7.78 2.81-2.81c.8-.78.8-2.07 0-2.86zM5.41 20L4 18.59l7.72-7.72 1.47 1.35L5.41 20z\"/>\n",
              "  </svg>\n",
              "      </button>\n",
              "      \n",
              "  <style>\n",
              "    .colab-df-container {\n",
              "      display:flex;\n",
              "      flex-wrap:wrap;\n",
              "      gap: 12px;\n",
              "    }\n",
              "\n",
              "    .colab-df-convert {\n",
              "      background-color: #E8F0FE;\n",
              "      border: none;\n",
              "      border-radius: 50%;\n",
              "      cursor: pointer;\n",
              "      display: none;\n",
              "      fill: #1967D2;\n",
              "      height: 32px;\n",
              "      padding: 0 0 0 0;\n",
              "      width: 32px;\n",
              "    }\n",
              "\n",
              "    .colab-df-convert:hover {\n",
              "      background-color: #E2EBFA;\n",
              "      box-shadow: 0px 1px 2px rgba(60, 64, 67, 0.3), 0px 1px 3px 1px rgba(60, 64, 67, 0.15);\n",
              "      fill: #174EA6;\n",
              "    }\n",
              "\n",
              "    [theme=dark] .colab-df-convert {\n",
              "      background-color: #3B4455;\n",
              "      fill: #D2E3FC;\n",
              "    }\n",
              "\n",
              "    [theme=dark] .colab-df-convert:hover {\n",
              "      background-color: #434B5C;\n",
              "      box-shadow: 0px 1px 3px 1px rgba(0, 0, 0, 0.15);\n",
              "      filter: drop-shadow(0px 1px 2px rgba(0, 0, 0, 0.3));\n",
              "      fill: #FFFFFF;\n",
              "    }\n",
              "  </style>\n",
              "\n",
              "      <script>\n",
              "        const buttonEl =\n",
              "          document.querySelector('#df-a0a730b7-332a-40df-a96e-4dad90cdb452 button.colab-df-convert');\n",
              "        buttonEl.style.display =\n",
              "          google.colab.kernel.accessAllowed ? 'block' : 'none';\n",
              "\n",
              "        async function convertToInteractive(key) {\n",
              "          const element = document.querySelector('#df-a0a730b7-332a-40df-a96e-4dad90cdb452');\n",
              "          const dataTable =\n",
              "            await google.colab.kernel.invokeFunction('convertToInteractive',\n",
              "                                                     [key], {});\n",
              "          if (!dataTable) return;\n",
              "\n",
              "          const docLinkHtml = 'Like what you see? Visit the ' +\n",
              "            '<a target=\"_blank\" href=https://colab.research.google.com/notebooks/data_table.ipynb>data table notebook</a>'\n",
              "            + ' to learn more about interactive tables.';\n",
              "          element.innerHTML = '';\n",
              "          dataTable['output_type'] = 'display_data';\n",
              "          await google.colab.output.renderOutput(dataTable, element);\n",
              "          const docLink = document.createElement('div');\n",
              "          docLink.innerHTML = docLinkHtml;\n",
              "          element.appendChild(docLink);\n",
              "        }\n",
              "      </script>\n",
              "    </div>\n",
              "  </div>\n",
              "  "
            ]
          },
          "metadata": {},
          "execution_count": 12
        }
      ]
    },
    {
      "cell_type": "code",
      "source": [
        "# Check the last missing value percentage\n",
        "\n",
        "(data_nan['missing_value'].sum()/len(data))*100"
      ],
      "metadata": {
        "colab": {
          "base_uri": "https://localhost:8080/"
        },
        "id": "Y7QC-jlnzBfI",
        "outputId": "72c6a9a6-77b1-4f09-ce25-c85bd22d0bb8"
      },
      "execution_count": null,
      "outputs": [
        {
          "output_type": "execute_result",
          "data": {
            "text/plain": [
              "0.8095587648811872"
            ]
          },
          "metadata": {},
          "execution_count": 13
        }
      ]
    },
    {
      "cell_type": "markdown",
      "source": [
        "**Now we can drop the missing value, because it's only less than 1%.**"
      ],
      "metadata": {
        "id": "1erFiZgpwudw"
      }
    },
    {
      "cell_type": "code",
      "source": [
        "# Drop missing values\n",
        "\n",
        "data = data.dropna()\n",
        "print('Rows after dropping missing values : ', len(data))"
      ],
      "metadata": {
        "colab": {
          "base_uri": "https://localhost:8080/"
        },
        "id": "XxGDc7L6yCmB",
        "outputId": "13468551-d683-448c-afaf-bcf69dae7a7b"
      },
      "execution_count": null,
      "outputs": [
        {
          "output_type": "stream",
          "name": "stdout",
          "text": [
            "Rows after dropping missing values :  2339950\n"
          ]
        }
      ]
    },
    {
      "cell_type": "markdown",
      "source": [
        "## Data Wrangling"
      ],
      "metadata": {
        "id": "1AvT5my32NLf"
      }
    },
    {
      "cell_type": "code",
      "source": [
        "# After doing a recheck, we're dropping these redundant and unusable features, mostly because we won't use it later on\n",
        "data = data.drop('Facility Id', axis=1)\n",
        "data = data.drop('Discharge Year', axis=1)\n",
        "data = data.drop('Operating Certificate Number', axis=1)\n",
        "data = data.drop('Zip Code - 3 digits', axis=1)\n",
        "data = data.drop('CCS Diagnosis Code', axis=1)\n",
        "data = data.drop('CCS Procedure Code', axis=1)\n",
        "data = data.drop('APR DRG Code', axis=1)\n",
        "data = data.drop('APR MDC Code', axis=1)\n",
        "data = data.drop('Attending Provider License Number', axis=1)\n",
        "data = data.drop('Total Costs', axis=1)\n",
        "data = data.drop('Abortion Edit Indicator', axis=1)\n",
        "data = data.drop('APR Severity of Illness Code', axis=1)"
      ],
      "metadata": {
        "id": "GJgWwQhzgFIs"
      },
      "execution_count": null,
      "outputs": []
    },
    {
      "cell_type": "code",
      "source": [
        "data['Gender'].value_counts()"
      ],
      "metadata": {
        "colab": {
          "base_uri": "https://localhost:8080/"
        },
        "id": "sXkDo7hLdcKm",
        "outputId": "82a3c188-0a5b-4863-834d-8c4e1299c118"
      },
      "execution_count": null,
      "outputs": [
        {
          "output_type": "execute_result",
          "data": {
            "text/plain": [
              "F    1302219\n",
              "M    1037692\n",
              "U         39\n",
              "Name: Gender, dtype: int64"
            ]
          },
          "metadata": {},
          "execution_count": 40
        }
      ]
    },
    {
      "cell_type": "code",
      "source": [
        "data['Gender'] = data['Gender'].replace('U', 'F')"
      ],
      "metadata": {
        "id": "ETfFA3CxdsoA"
      },
      "execution_count": null,
      "outputs": []
    },
    {
      "cell_type": "code",
      "source": [
        "# Recheck how many features we have now\n",
        "data.info()"
      ],
      "metadata": {
        "colab": {
          "base_uri": "https://localhost:8080/"
        },
        "id": "u9wY7l4uzOmg",
        "outputId": "c7fc8366-bda4-4714-9d1d-9cd0986f4829"
      },
      "execution_count": null,
      "outputs": [
        {
          "output_type": "stream",
          "name": "stdout",
          "text": [
            "<class 'pandas.core.frame.DataFrame'>\n",
            "Int64Index: 2339950 entries, 0 to 2346759\n",
            "Data columns (total 21 columns):\n",
            " #   Column                               Dtype \n",
            "---  ------                               ----- \n",
            " 0   Health Service Area                  object\n",
            " 1   Hospital County                      object\n",
            " 2   Facility Name                        object\n",
            " 3   Age Group                            object\n",
            " 4   Gender                               object\n",
            " 5   Race                                 object\n",
            " 6   Ethnicity                            object\n",
            " 7   Length of Stay                       object\n",
            " 8   Type of Admission                    object\n",
            " 9   Patient Disposition                  object\n",
            " 10  CCS Diagnosis Description            object\n",
            " 11  CCS Procedure Description            object\n",
            " 12  APR DRG Description                  object\n",
            " 13  APR MDC Description                  object\n",
            " 14  APR Severity of Illness Description  object\n",
            " 15  APR Risk of Mortality                object\n",
            " 16  APR Medical Surgical Description     object\n",
            " 17  Payment Typology 1                   object\n",
            " 18  Birth Weight                         int64 \n",
            " 19  Emergency Department Indicator       object\n",
            " 20  Total Charges                        object\n",
            "dtypes: int64(1), object(20)\n",
            "memory usage: 392.8+ MB\n"
          ]
        }
      ]
    },
    {
      "cell_type": "markdown",
      "source": [
        "We have successfully dropped missing values, duplicated data and redundant features. **Our previous rows were 2.346.760, now we have 2.339.950 rows and 21 columns.**\n",
        "\n",
        "Now we need to transform several incorrect dtype such as: `Length of Stay` (the target itself) and `Total Charges`. We'll need to check their unique values first."
      ],
      "metadata": {
        "id": "2ZKMRlmnznUz"
      }
    },
    {
      "cell_type": "code",
      "source": [
        "# Find out the possibility of incorrect values or format in `Length of Stay`\n",
        "data['Length of Stay'].unique()"
      ],
      "metadata": {
        "colab": {
          "base_uri": "https://localhost:8080/"
        },
        "id": "gIpCvDWZ0CK0",
        "outputId": "a2d4e16b-c5ae-4967-a70d-b7ad64781044"
      },
      "execution_count": null,
      "outputs": [
        {
          "output_type": "execute_result",
          "data": {
            "text/plain": [
              "array(['5', '8', '4', '3', '2', '9', '1', '59', '10', '17', '35', '15',\n",
              "       '12', '7', '98', '26', '6', '46', '32', '16', '21', '22', '13',\n",
              "       '77', '14', '58', '28', '11', '18', '19', '29', '27', '42', '24',\n",
              "       '23', '31', '37', '57', '25', '20', '30', '63', '43', '49', '45',\n",
              "       '102', '56', '33', '40', '34', '55', '100', '47', '38', '61', '53',\n",
              "       '117', '62', '120 +', '80', '48', '70', '44', '51', '41', '64',\n",
              "       '50', '36', '107', '68', '74', '39', '87', '83', '54', '105', '81',\n",
              "       '112', '76', '91', '86', '66', '72', '94', '93', '67', '69', '73',\n",
              "       '119', '115', '75', '97', '92', '95', '60', '65', '82', '79', '71',\n",
              "       '84', '109', '103', '118', '52', '101', '85', '110', '106', '88',\n",
              "       '111', '104', '89', '78', '116', '90', '113', '108', '114', '96',\n",
              "       '99', 22, 4, 3, 10, 8, 2, 7, 16, 1, 18, 5, 6, 9, 14, 17, 12, 15,\n",
              "       11, 27, 30, 65, 41, 28, 21, 13, 36, 20, 49, 32, 45, 29, 25, 50, 70,\n",
              "       47, 44, 43, 33, 46, 80, 19, 40, 23, 63, 51, 35, 26, 74, 39, 38, 34,\n",
              "       83, 24, 86, 48, 69, 42, 54, 75, 57, 77, 76, 56, 53, 31, 58, 72, 59,\n",
              "       37, 52, 60, 82, 62, 64, 93, 113, 84, 68, 102, 95, 73, 71, 94, 101,\n",
              "       55, 88, 81, 92, 85, 91, 112, 66, 61, 67, 99, 118, 107, 109, 103],\n",
              "      dtype=object)"
            ]
          },
          "metadata": {},
          "execution_count": 17
        }
      ]
    },
    {
      "cell_type": "code",
      "source": [
        "# Find out the possibility of incorrect values or format in `Total Costs`\n",
        "data['Total Charges'].unique()"
      ],
      "metadata": {
        "colab": {
          "base_uri": "https://localhost:8080/"
        },
        "id": "d05f2ptH6Fm1",
        "outputId": "fe694b26-866b-40ed-bbc4-3966cab435d9"
      },
      "execution_count": null,
      "outputs": [
        {
          "output_type": "execute_result",
          "data": {
            "text/plain": [
              "array(['$5620.00', '$7404.18', '$7931.28', ..., '$177142.00', '$17567.20',\n",
              "       '$109189.00'], dtype=object)"
            ]
          },
          "metadata": {},
          "execution_count": 18
        }
      ]
    },
    {
      "cell_type": "code",
      "source": [
        "# Change incorrect format inside the dataset so that we can change their inappropriate dtype\n",
        "data['Length of Stay'] = data['Length of Stay'].replace('120 +', '120')\n",
        "data['Total Charges'] = data['Total Charges'].str.replace('$', '')"
      ],
      "metadata": {
        "id": "v9OUoGRz5AFW"
      },
      "execution_count": null,
      "outputs": []
    },
    {
      "cell_type": "code",
      "source": [
        "# Change the incorrect dtype\n",
        "data['Length of Stay'] = data['Length of Stay'].astype(float)\n",
        "data['Total Charges'] = data['Total Charges'].astype(float)"
      ],
      "metadata": {
        "id": "iaxtxvQeDrKd"
      },
      "execution_count": null,
      "outputs": []
    },
    {
      "cell_type": "code",
      "source": [
        "# Recheck the data\n",
        "data.info()"
      ],
      "metadata": {
        "colab": {
          "base_uri": "https://localhost:8080/"
        },
        "id": "H-nLb7IWMVcp",
        "outputId": "726139af-16e9-4d1e-d63d-560b3980fae2"
      },
      "execution_count": null,
      "outputs": [
        {
          "output_type": "stream",
          "name": "stdout",
          "text": [
            "<class 'pandas.core.frame.DataFrame'>\n",
            "Int64Index: 2339950 entries, 0 to 2346759\n",
            "Data columns (total 21 columns):\n",
            " #   Column                               Dtype  \n",
            "---  ------                               -----  \n",
            " 0   Health Service Area                  object \n",
            " 1   Hospital County                      object \n",
            " 2   Facility Name                        object \n",
            " 3   Age Group                            object \n",
            " 4   Gender                               object \n",
            " 5   Race                                 object \n",
            " 6   Ethnicity                            object \n",
            " 7   Length of Stay                       float64\n",
            " 8   Type of Admission                    object \n",
            " 9   Patient Disposition                  object \n",
            " 10  CCS Diagnosis Description            object \n",
            " 11  CCS Procedure Description            object \n",
            " 12  APR DRG Description                  object \n",
            " 13  APR MDC Description                  object \n",
            " 14  APR Severity of Illness Description  object \n",
            " 15  APR Risk of Mortality                object \n",
            " 16  APR Medical Surgical Description     object \n",
            " 17  Payment Typology 1                   object \n",
            " 18  Birth Weight                         int64  \n",
            " 19  Emergency Department Indicator       object \n",
            " 20  Total Charges                        float64\n",
            "dtypes: float64(2), int64(1), object(18)\n",
            "memory usage: 392.8+ MB\n"
          ]
        }
      ]
    },
    {
      "cell_type": "markdown",
      "source": [
        "We've successfully change the incorrect dtype (`Length of Stay` and `Total Charges`)."
      ],
      "metadata": {
        "id": "741DddbTNKv0"
      }
    },
    {
      "cell_type": "markdown",
      "source": [
        "## Statistical Summary"
      ],
      "metadata": {
        "id": "XB2RrT9VUK6u"
      }
    },
    {
      "cell_type": "code",
      "source": [
        "# Categorize the data to simplifiy the Statistical Summary\n",
        "cat1 = ['Health Service Area', 'Hospital County', 'Facility Name', 'Age Group', 'Gender', 'Race', 'Ethnicity', 'Type of Admission',\n",
        "       'Patient Disposition', 'CCS Diagnosis Description', 'CCS Procedure Description', 'APR DRG Description', 'APR MDC Description',\n",
        "       'APR Severity of Illness Description', 'APR Risk of Mortality', 'APR Medical Surgical Description', 'Payment Typology 1', 'Emergency Department Indicator']\n",
        "num = ['Length of Stay', 'Birth Weight', 'Total Charges']"
      ],
      "metadata": {
        "id": "QQ8FJA3VONSw"
      },
      "execution_count": null,
      "outputs": []
    },
    {
      "cell_type": "code",
      "source": [
        "data[num].describe()"
      ],
      "metadata": {
        "colab": {
          "base_uri": "https://localhost:8080/",
          "height": 300
        },
        "id": "-rUrSsUMho0h",
        "outputId": "48720586-25a9-4514-b5b9-b806cf837e1f"
      },
      "execution_count": null,
      "outputs": [
        {
          "output_type": "execute_result",
          "data": {
            "text/plain": [
              "       Length of Stay  Birth Weight  Total Charges\n",
              "count    2.339950e+06  2.339950e+06   2.339950e+06\n",
              "mean     5.483206e+00  3.241779e+02   4.326461e+04\n",
              "std      8.038450e+00  9.972320e+02   8.049209e+04\n",
              "min      1.000000e+00  0.000000e+00   1.000000e-02\n",
              "25%      2.000000e+00  0.000000e+00   1.205801e+04\n",
              "50%      3.000000e+00  0.000000e+00   2.352841e+04\n",
              "75%      6.000000e+00  0.000000e+00   4.668045e+04\n",
              "max      1.200000e+02  9.900000e+03   7.248391e+06"
            ],
            "text/html": [
              "\n",
              "  <div id=\"df-c2076316-e996-48ee-8d30-e2a6c74297c9\">\n",
              "    <div class=\"colab-df-container\">\n",
              "      <div>\n",
              "<style scoped>\n",
              "    .dataframe tbody tr th:only-of-type {\n",
              "        vertical-align: middle;\n",
              "    }\n",
              "\n",
              "    .dataframe tbody tr th {\n",
              "        vertical-align: top;\n",
              "    }\n",
              "\n",
              "    .dataframe thead th {\n",
              "        text-align: right;\n",
              "    }\n",
              "</style>\n",
              "<table border=\"1\" class=\"dataframe\">\n",
              "  <thead>\n",
              "    <tr style=\"text-align: right;\">\n",
              "      <th></th>\n",
              "      <th>Length of Stay</th>\n",
              "      <th>Birth Weight</th>\n",
              "      <th>Total Charges</th>\n",
              "    </tr>\n",
              "  </thead>\n",
              "  <tbody>\n",
              "    <tr>\n",
              "      <th>count</th>\n",
              "      <td>2.339950e+06</td>\n",
              "      <td>2.339950e+06</td>\n",
              "      <td>2.339950e+06</td>\n",
              "    </tr>\n",
              "    <tr>\n",
              "      <th>mean</th>\n",
              "      <td>5.483206e+00</td>\n",
              "      <td>3.241779e+02</td>\n",
              "      <td>4.326461e+04</td>\n",
              "    </tr>\n",
              "    <tr>\n",
              "      <th>std</th>\n",
              "      <td>8.038450e+00</td>\n",
              "      <td>9.972320e+02</td>\n",
              "      <td>8.049209e+04</td>\n",
              "    </tr>\n",
              "    <tr>\n",
              "      <th>min</th>\n",
              "      <td>1.000000e+00</td>\n",
              "      <td>0.000000e+00</td>\n",
              "      <td>1.000000e-02</td>\n",
              "    </tr>\n",
              "    <tr>\n",
              "      <th>25%</th>\n",
              "      <td>2.000000e+00</td>\n",
              "      <td>0.000000e+00</td>\n",
              "      <td>1.205801e+04</td>\n",
              "    </tr>\n",
              "    <tr>\n",
              "      <th>50%</th>\n",
              "      <td>3.000000e+00</td>\n",
              "      <td>0.000000e+00</td>\n",
              "      <td>2.352841e+04</td>\n",
              "    </tr>\n",
              "    <tr>\n",
              "      <th>75%</th>\n",
              "      <td>6.000000e+00</td>\n",
              "      <td>0.000000e+00</td>\n",
              "      <td>4.668045e+04</td>\n",
              "    </tr>\n",
              "    <tr>\n",
              "      <th>max</th>\n",
              "      <td>1.200000e+02</td>\n",
              "      <td>9.900000e+03</td>\n",
              "      <td>7.248391e+06</td>\n",
              "    </tr>\n",
              "  </tbody>\n",
              "</table>\n",
              "</div>\n",
              "      <button class=\"colab-df-convert\" onclick=\"convertToInteractive('df-c2076316-e996-48ee-8d30-e2a6c74297c9')\"\n",
              "              title=\"Convert this dataframe to an interactive table.\"\n",
              "              style=\"display:none;\">\n",
              "        \n",
              "  <svg xmlns=\"http://www.w3.org/2000/svg\" height=\"24px\"viewBox=\"0 0 24 24\"\n",
              "       width=\"24px\">\n",
              "    <path d=\"M0 0h24v24H0V0z\" fill=\"none\"/>\n",
              "    <path d=\"M18.56 5.44l.94 2.06.94-2.06 2.06-.94-2.06-.94-.94-2.06-.94 2.06-2.06.94zm-11 1L8.5 8.5l.94-2.06 2.06-.94-2.06-.94L8.5 2.5l-.94 2.06-2.06.94zm10 10l.94 2.06.94-2.06 2.06-.94-2.06-.94-.94-2.06-.94 2.06-2.06.94z\"/><path d=\"M17.41 7.96l-1.37-1.37c-.4-.4-.92-.59-1.43-.59-.52 0-1.04.2-1.43.59L10.3 9.45l-7.72 7.72c-.78.78-.78 2.05 0 2.83L4 21.41c.39.39.9.59 1.41.59.51 0 1.02-.2 1.41-.59l7.78-7.78 2.81-2.81c.8-.78.8-2.07 0-2.86zM5.41 20L4 18.59l7.72-7.72 1.47 1.35L5.41 20z\"/>\n",
              "  </svg>\n",
              "      </button>\n",
              "      \n",
              "  <style>\n",
              "    .colab-df-container {\n",
              "      display:flex;\n",
              "      flex-wrap:wrap;\n",
              "      gap: 12px;\n",
              "    }\n",
              "\n",
              "    .colab-df-convert {\n",
              "      background-color: #E8F0FE;\n",
              "      border: none;\n",
              "      border-radius: 50%;\n",
              "      cursor: pointer;\n",
              "      display: none;\n",
              "      fill: #1967D2;\n",
              "      height: 32px;\n",
              "      padding: 0 0 0 0;\n",
              "      width: 32px;\n",
              "    }\n",
              "\n",
              "    .colab-df-convert:hover {\n",
              "      background-color: #E2EBFA;\n",
              "      box-shadow: 0px 1px 2px rgba(60, 64, 67, 0.3), 0px 1px 3px 1px rgba(60, 64, 67, 0.15);\n",
              "      fill: #174EA6;\n",
              "    }\n",
              "\n",
              "    [theme=dark] .colab-df-convert {\n",
              "      background-color: #3B4455;\n",
              "      fill: #D2E3FC;\n",
              "    }\n",
              "\n",
              "    [theme=dark] .colab-df-convert:hover {\n",
              "      background-color: #434B5C;\n",
              "      box-shadow: 0px 1px 3px 1px rgba(0, 0, 0, 0.15);\n",
              "      filter: drop-shadow(0px 1px 2px rgba(0, 0, 0, 0.3));\n",
              "      fill: #FFFFFF;\n",
              "    }\n",
              "  </style>\n",
              "\n",
              "      <script>\n",
              "        const buttonEl =\n",
              "          document.querySelector('#df-c2076316-e996-48ee-8d30-e2a6c74297c9 button.colab-df-convert');\n",
              "        buttonEl.style.display =\n",
              "          google.colab.kernel.accessAllowed ? 'block' : 'none';\n",
              "\n",
              "        async function convertToInteractive(key) {\n",
              "          const element = document.querySelector('#df-c2076316-e996-48ee-8d30-e2a6c74297c9');\n",
              "          const dataTable =\n",
              "            await google.colab.kernel.invokeFunction('convertToInteractive',\n",
              "                                                     [key], {});\n",
              "          if (!dataTable) return;\n",
              "\n",
              "          const docLinkHtml = 'Like what you see? Visit the ' +\n",
              "            '<a target=\"_blank\" href=https://colab.research.google.com/notebooks/data_table.ipynb>data table notebook</a>'\n",
              "            + ' to learn more about interactive tables.';\n",
              "          element.innerHTML = '';\n",
              "          dataTable['output_type'] = 'display_data';\n",
              "          await google.colab.output.renderOutput(dataTable, element);\n",
              "          const docLink = document.createElement('div');\n",
              "          docLink.innerHTML = docLinkHtml;\n",
              "          element.appendChild(docLink);\n",
              "        }\n",
              "      </script>\n",
              "    </div>\n",
              "  </div>\n",
              "  "
            ]
          },
          "metadata": {},
          "execution_count": 23
        }
      ]
    },
    {
      "cell_type": "markdown",
      "source": [
        "**Observations :**\n",
        "\n",
        "- Mean is not any close to 50% (Median) in `Birth Weight` and `Total Charges` column, somehow indicating not symmetrical distribution."
      ],
      "metadata": {
        "id": "Z_hC-djfNBeS"
      }
    },
    {
      "cell_type": "code",
      "source": [
        "data[cat1].describe()"
      ],
      "metadata": {
        "colab": {
          "base_uri": "https://localhost:8080/",
          "height": 378
        },
        "id": "IQkROuPa_4mR",
        "outputId": "b41138b2-d3bf-4df6-a22b-607e9df73f90"
      },
      "execution_count": null,
      "outputs": [
        {
          "output_type": "execute_result",
          "data": {
            "text/plain": [
              "       Health Service Area Hospital County         Facility Name Age Group  \\\n",
              "count              2339950         2339950               2339950   2339950   \n",
              "unique                   8              57                   214         5   \n",
              "top          New York City       Manhattan  Mount Sinai Hospital  50 to 69   \n",
              "freq               1089014          399233                 55586    644728   \n",
              "\n",
              "         Gender     Race          Ethnicity Type of Admission  \\\n",
              "count   2339950  2339950            2339950           2339950   \n",
              "unique        3        4                  4                 6   \n",
              "top           F    White  Not Span/Hispanic         Emergency   \n",
              "freq    1302219  1332217            1949313           1485048   \n",
              "\n",
              "       Patient Disposition CCS Diagnosis Description  \\\n",
              "count              2339950                   2339950   \n",
              "unique                  19                       263   \n",
              "top      Home or Self Care                  Liveborn   \n",
              "freq               1565881                    224507   \n",
              "\n",
              "       CCS Procedure Description  \\\n",
              "count                    2339950   \n",
              "unique                       232   \n",
              "top                      NO PROC   \n",
              "freq                      609106   \n",
              "\n",
              "                                      APR DRG Description  \\\n",
              "count                                             2339950   \n",
              "unique                                                314   \n",
              "top     Neonate birthwt >2499g, normal newborn or neon...   \n",
              "freq                                               195955   \n",
              "\n",
              "                                     APR MDC Description  \\\n",
              "count                                            2339950   \n",
              "unique                                                25   \n",
              "top     Diseases and Disorders of the Circulatory System   \n",
              "freq                                              289403   \n",
              "\n",
              "       APR Severity of Illness Description APR Risk of Mortality  \\\n",
              "count                              2339950               2339950   \n",
              "unique                                   4                     4   \n",
              "top                               Moderate                 Minor   \n",
              "freq                                895403               1383646   \n",
              "\n",
              "       APR Medical Surgical Description Payment Typology 1  \\\n",
              "count                           2339950            2339950   \n",
              "unique                                2                 10   \n",
              "top                             Medical           Medicare   \n",
              "freq                            1774836             875774   \n",
              "\n",
              "       Emergency Department Indicator  \n",
              "count                         2339950  \n",
              "unique                              2  \n",
              "top                                 Y  \n",
              "freq                          1366213  "
            ],
            "text/html": [
              "\n",
              "  <div id=\"df-d35b88a2-76f0-4061-90ae-0fe7e8df7787\">\n",
              "    <div class=\"colab-df-container\">\n",
              "      <div>\n",
              "<style scoped>\n",
              "    .dataframe tbody tr th:only-of-type {\n",
              "        vertical-align: middle;\n",
              "    }\n",
              "\n",
              "    .dataframe tbody tr th {\n",
              "        vertical-align: top;\n",
              "    }\n",
              "\n",
              "    .dataframe thead th {\n",
              "        text-align: right;\n",
              "    }\n",
              "</style>\n",
              "<table border=\"1\" class=\"dataframe\">\n",
              "  <thead>\n",
              "    <tr style=\"text-align: right;\">\n",
              "      <th></th>\n",
              "      <th>Health Service Area</th>\n",
              "      <th>Hospital County</th>\n",
              "      <th>Facility Name</th>\n",
              "      <th>Age Group</th>\n",
              "      <th>Gender</th>\n",
              "      <th>Race</th>\n",
              "      <th>Ethnicity</th>\n",
              "      <th>Type of Admission</th>\n",
              "      <th>Patient Disposition</th>\n",
              "      <th>CCS Diagnosis Description</th>\n",
              "      <th>CCS Procedure Description</th>\n",
              "      <th>APR DRG Description</th>\n",
              "      <th>APR MDC Description</th>\n",
              "      <th>APR Severity of Illness Description</th>\n",
              "      <th>APR Risk of Mortality</th>\n",
              "      <th>APR Medical Surgical Description</th>\n",
              "      <th>Payment Typology 1</th>\n",
              "      <th>Emergency Department Indicator</th>\n",
              "    </tr>\n",
              "  </thead>\n",
              "  <tbody>\n",
              "    <tr>\n",
              "      <th>count</th>\n",
              "      <td>2339950</td>\n",
              "      <td>2339950</td>\n",
              "      <td>2339950</td>\n",
              "      <td>2339950</td>\n",
              "      <td>2339950</td>\n",
              "      <td>2339950</td>\n",
              "      <td>2339950</td>\n",
              "      <td>2339950</td>\n",
              "      <td>2339950</td>\n",
              "      <td>2339950</td>\n",
              "      <td>2339950</td>\n",
              "      <td>2339950</td>\n",
              "      <td>2339950</td>\n",
              "      <td>2339950</td>\n",
              "      <td>2339950</td>\n",
              "      <td>2339950</td>\n",
              "      <td>2339950</td>\n",
              "      <td>2339950</td>\n",
              "    </tr>\n",
              "    <tr>\n",
              "      <th>unique</th>\n",
              "      <td>8</td>\n",
              "      <td>57</td>\n",
              "      <td>214</td>\n",
              "      <td>5</td>\n",
              "      <td>3</td>\n",
              "      <td>4</td>\n",
              "      <td>4</td>\n",
              "      <td>6</td>\n",
              "      <td>19</td>\n",
              "      <td>263</td>\n",
              "      <td>232</td>\n",
              "      <td>314</td>\n",
              "      <td>25</td>\n",
              "      <td>4</td>\n",
              "      <td>4</td>\n",
              "      <td>2</td>\n",
              "      <td>10</td>\n",
              "      <td>2</td>\n",
              "    </tr>\n",
              "    <tr>\n",
              "      <th>top</th>\n",
              "      <td>New York City</td>\n",
              "      <td>Manhattan</td>\n",
              "      <td>Mount Sinai Hospital</td>\n",
              "      <td>50 to 69</td>\n",
              "      <td>F</td>\n",
              "      <td>White</td>\n",
              "      <td>Not Span/Hispanic</td>\n",
              "      <td>Emergency</td>\n",
              "      <td>Home or Self Care</td>\n",
              "      <td>Liveborn</td>\n",
              "      <td>NO PROC</td>\n",
              "      <td>Neonate birthwt &gt;2499g, normal newborn or neon...</td>\n",
              "      <td>Diseases and Disorders of the Circulatory System</td>\n",
              "      <td>Moderate</td>\n",
              "      <td>Minor</td>\n",
              "      <td>Medical</td>\n",
              "      <td>Medicare</td>\n",
              "      <td>Y</td>\n",
              "    </tr>\n",
              "    <tr>\n",
              "      <th>freq</th>\n",
              "      <td>1089014</td>\n",
              "      <td>399233</td>\n",
              "      <td>55586</td>\n",
              "      <td>644728</td>\n",
              "      <td>1302219</td>\n",
              "      <td>1332217</td>\n",
              "      <td>1949313</td>\n",
              "      <td>1485048</td>\n",
              "      <td>1565881</td>\n",
              "      <td>224507</td>\n",
              "      <td>609106</td>\n",
              "      <td>195955</td>\n",
              "      <td>289403</td>\n",
              "      <td>895403</td>\n",
              "      <td>1383646</td>\n",
              "      <td>1774836</td>\n",
              "      <td>875774</td>\n",
              "      <td>1366213</td>\n",
              "    </tr>\n",
              "  </tbody>\n",
              "</table>\n",
              "</div>\n",
              "      <button class=\"colab-df-convert\" onclick=\"convertToInteractive('df-d35b88a2-76f0-4061-90ae-0fe7e8df7787')\"\n",
              "              title=\"Convert this dataframe to an interactive table.\"\n",
              "              style=\"display:none;\">\n",
              "        \n",
              "  <svg xmlns=\"http://www.w3.org/2000/svg\" height=\"24px\"viewBox=\"0 0 24 24\"\n",
              "       width=\"24px\">\n",
              "    <path d=\"M0 0h24v24H0V0z\" fill=\"none\"/>\n",
              "    <path d=\"M18.56 5.44l.94 2.06.94-2.06 2.06-.94-2.06-.94-.94-2.06-.94 2.06-2.06.94zm-11 1L8.5 8.5l.94-2.06 2.06-.94-2.06-.94L8.5 2.5l-.94 2.06-2.06.94zm10 10l.94 2.06.94-2.06 2.06-.94-2.06-.94-.94-2.06-.94 2.06-2.06.94z\"/><path d=\"M17.41 7.96l-1.37-1.37c-.4-.4-.92-.59-1.43-.59-.52 0-1.04.2-1.43.59L10.3 9.45l-7.72 7.72c-.78.78-.78 2.05 0 2.83L4 21.41c.39.39.9.59 1.41.59.51 0 1.02-.2 1.41-.59l7.78-7.78 2.81-2.81c.8-.78.8-2.07 0-2.86zM5.41 20L4 18.59l7.72-7.72 1.47 1.35L5.41 20z\"/>\n",
              "  </svg>\n",
              "      </button>\n",
              "      \n",
              "  <style>\n",
              "    .colab-df-container {\n",
              "      display:flex;\n",
              "      flex-wrap:wrap;\n",
              "      gap: 12px;\n",
              "    }\n",
              "\n",
              "    .colab-df-convert {\n",
              "      background-color: #E8F0FE;\n",
              "      border: none;\n",
              "      border-radius: 50%;\n",
              "      cursor: pointer;\n",
              "      display: none;\n",
              "      fill: #1967D2;\n",
              "      height: 32px;\n",
              "      padding: 0 0 0 0;\n",
              "      width: 32px;\n",
              "    }\n",
              "\n",
              "    .colab-df-convert:hover {\n",
              "      background-color: #E2EBFA;\n",
              "      box-shadow: 0px 1px 2px rgba(60, 64, 67, 0.3), 0px 1px 3px 1px rgba(60, 64, 67, 0.15);\n",
              "      fill: #174EA6;\n",
              "    }\n",
              "\n",
              "    [theme=dark] .colab-df-convert {\n",
              "      background-color: #3B4455;\n",
              "      fill: #D2E3FC;\n",
              "    }\n",
              "\n",
              "    [theme=dark] .colab-df-convert:hover {\n",
              "      background-color: #434B5C;\n",
              "      box-shadow: 0px 1px 3px 1px rgba(0, 0, 0, 0.15);\n",
              "      filter: drop-shadow(0px 1px 2px rgba(0, 0, 0, 0.3));\n",
              "      fill: #FFFFFF;\n",
              "    }\n",
              "  </style>\n",
              "\n",
              "      <script>\n",
              "        const buttonEl =\n",
              "          document.querySelector('#df-d35b88a2-76f0-4061-90ae-0fe7e8df7787 button.colab-df-convert');\n",
              "        buttonEl.style.display =\n",
              "          google.colab.kernel.accessAllowed ? 'block' : 'none';\n",
              "\n",
              "        async function convertToInteractive(key) {\n",
              "          const element = document.querySelector('#df-d35b88a2-76f0-4061-90ae-0fe7e8df7787');\n",
              "          const dataTable =\n",
              "            await google.colab.kernel.invokeFunction('convertToInteractive',\n",
              "                                                     [key], {});\n",
              "          if (!dataTable) return;\n",
              "\n",
              "          const docLinkHtml = 'Like what you see? Visit the ' +\n",
              "            '<a target=\"_blank\" href=https://colab.research.google.com/notebooks/data_table.ipynb>data table notebook</a>'\n",
              "            + ' to learn more about interactive tables.';\n",
              "          element.innerHTML = '';\n",
              "          dataTable['output_type'] = 'display_data';\n",
              "          await google.colab.output.renderOutput(dataTable, element);\n",
              "          const docLink = document.createElement('div');\n",
              "          docLink.innerHTML = docLinkHtml;\n",
              "          element.appendChild(docLink);\n",
              "        }\n",
              "      </script>\n",
              "    </div>\n",
              "  </div>\n",
              "  "
            ]
          },
          "metadata": {},
          "execution_count": 24
        }
      ]
    },
    {
      "cell_type": "markdown",
      "source": [
        "**Observations:**\n",
        "- Some columns have hundred categories\n",
        "- 17% of the populations were from Manhattan\n",
        "- 28% Patients are between 50 to 69 years old\n",
        "- Half of the patients are female\n",
        "- 64% Patients were admitted from emergency\n",
        "- Patients mostly continue their treatment in Home or Self Care\n",
        "- Based on the ICD-9 (Clinical Classification), 9,5% of the patients were Liveborn\n",
        "- 26% of the patients were given No Procedure, and\n",
        "- Referring to National Association of Children’s Hospitals\n",
        "and Related Institutions, most of the patients were having Moderate Severity, with Minor Risk of Mortalilty.\n"
      ],
      "metadata": {
        "id": "EoYgc1J0CrQs"
      }
    },
    {
      "cell_type": "code",
      "source": [
        "# Additional check the target feature\n",
        "data['Length of Stay'].value_counts()"
      ],
      "metadata": {
        "colab": {
          "base_uri": "https://localhost:8080/"
        },
        "id": "S1Lo27VzL8yB",
        "outputId": "07a39979-1e30-4fc0-f16b-bd9a6ac22b9a"
      },
      "execution_count": null,
      "outputs": [
        {
          "output_type": "execute_result",
          "data": {
            "text/plain": [
              "2.0      540638\n",
              "3.0      423817\n",
              "1.0      336983\n",
              "4.0      247310\n",
              "5.0      160519\n",
              "          ...  \n",
              "111.0        41\n",
              "119.0        41\n",
              "115.0        37\n",
              "116.0        31\n",
              "108.0        26\n",
              "Name: Length of Stay, Length: 120, dtype: int64"
            ]
          },
          "metadata": {},
          "execution_count": 25
        }
      ]
    },
    {
      "cell_type": "markdown",
      "source": [
        "**We can conclude that even if there is a few patients that need to stay for more than 120 days, 73% among the patients are staying for around 5 days. The distribution would definitely asymmetrical, we need to reduce the skewness later.**"
      ],
      "metadata": {
        "id": "4WcBDc4HMjZ4"
      }
    },
    {
      "cell_type": "markdown",
      "source": [
        "## Target Distribution Skewness"
      ],
      "metadata": {
        "id": "_Z2iTuXCispI"
      }
    },
    {
      "cell_type": "code",
      "source": [
        "data['Length of Stay'].describe()"
      ],
      "metadata": {
        "colab": {
          "base_uri": "https://localhost:8080/"
        },
        "id": "gH62EgibpnVR",
        "outputId": "016eec4e-8254-4f84-9304-ba8c2925aed9"
      },
      "execution_count": null,
      "outputs": [
        {
          "output_type": "execute_result",
          "data": {
            "text/plain": [
              "count    2.339950e+06\n",
              "mean     5.483206e+00\n",
              "std      8.038450e+00\n",
              "min      1.000000e+00\n",
              "25%      2.000000e+00\n",
              "50%      3.000000e+00\n",
              "75%      6.000000e+00\n",
              "max      1.200000e+02\n",
              "Name: Length of Stay, dtype: float64"
            ]
          },
          "metadata": {},
          "execution_count": 31
        }
      ]
    },
    {
      "cell_type": "code",
      "source": [
        "# Distribution plot of Length of Stay\n",
        "\n",
        "plt.figure(figsize=(7,3))\n",
        "plt.xlabel('Length of Stay')\n",
        "plt.ylabel('Density')\n",
        "ax=sns.distplot(data['Length of Stay'],hist=True ,color=\"darkblue\")\n",
        "plt.show()"
      ],
      "metadata": {
        "colab": {
          "base_uri": "https://localhost:8080/"
        },
        "id": "RuHBB9buimTJ",
        "outputId": "cecf8d58-754e-4497-d969-b59673c44a1f"
      },
      "execution_count": null,
      "outputs": [
        {
          "output_type": "display_data",
          "data": {
            "text/plain": [
              "<Figure size 504x216 with 1 Axes>"
            ],
            "image/png": "[encoded data removed]"
          },
          "metadata": {
            "needs_background": "light"
          }
        }
      ]
    },
    {
      "cell_type": "code",
      "source": [
        "#Applying square root to Length of Stay to reduce skewness\n",
        "\n",
        "plt.figure(figsize=(6,6))\n",
        "plt.xlabel('Length of Stay')\n",
        "plt.ylabel('Density')\n",
        "\n",
        "ax=sns.distplot(np.sqrt(data['Length of Stay']), color=\"darkblue\")\n",
        "\n",
        "plt.show()"
      ],
      "metadata": {
        "colab": {
          "base_uri": "https://localhost:8080/"
        },
        "id": "5qYON1dcir7W",
        "outputId": "a7523196-c957-4ca4-bc2b-6d035854aa53"
      },
      "execution_count": null,
      "outputs": [
        {
          "output_type": "display_data",
          "data": {
            "text/plain": [
              "<Figure size 432x432 with 1 Axes>"
            ],
            "image/png": "[encoded data removed]"
          },
          "metadata": {
            "needs_background": "light"
          }
        }
      ]
    },
    {
      "cell_type": "markdown",
      "source": [
        "# Feature Engineering"
      ],
      "metadata": {
        "id": "GhRhT7vFu0bA"
      }
    },
    {
      "cell_type": "markdown",
      "source": [
        "### Handling Categorical Data"
      ],
      "metadata": {
        "id": "1OovuS7fMdzY"
      }
    },
    {
      "cell_type": "markdown",
      "source": [
        "As Machine Learning Model works better with numeric than categorical, we will encode several categorical feature, so then we'll try finding its correlation with the target feature."
      ],
      "metadata": {
        "id": "U0Tie1VXyvtG"
      }
    },
    {
      "cell_type": "code",
      "source": [
        "data['APR Medical Surgical Description'].value_counts()"
      ],
      "metadata": {
        "colab": {
          "base_uri": "https://localhost:8080/"
        },
        "id": "ibBfwVvIV4tr",
        "outputId": "1fc06260-1568-4d64-817d-9a401cf1f85b"
      },
      "execution_count": null,
      "outputs": [
        {
          "output_type": "execute_result",
          "data": {
            "text/plain": [
              "Medical     1774836\n",
              "Surgical     565114\n",
              "Name: APR Medical Surgical Description, dtype: int64"
            ]
          },
          "metadata": {},
          "execution_count": 34
        }
      ]
    },
    {
      "cell_type": "code",
      "source": [
        "# Handling `APR Medical Surgical Description` category\n",
        "data['APR Medical Surgical Description'] = data['APR Medical Surgical Description'].replace(\"Medical\", 1).replace(\"Surgical\", 0)\n",
        "data['APR Medical Surgical Description'] = data['APR Medical Surgical Description'].astype(float)"
      ],
      "metadata": {
        "id": "RyfGfH9NXOZ0"
      },
      "execution_count": null,
      "outputs": []
    },
    {
      "cell_type": "code",
      "source": [
        "data['Emergency Department Indicator'].value_counts()"
      ],
      "metadata": {
        "colab": {
          "base_uri": "https://localhost:8080/"
        },
        "id": "GeNkG8zqWBjg",
        "outputId": "46948f94-5a92-40d2-8027-e90690d82ab3"
      },
      "execution_count": null,
      "outputs": [
        {
          "output_type": "execute_result",
          "data": {
            "text/plain": [
              "Y    1366213\n",
              "N     973737\n",
              "Name: Emergency Department Indicator, dtype: int64"
            ]
          },
          "metadata": {},
          "execution_count": 36
        }
      ]
    },
    {
      "cell_type": "code",
      "source": [
        "# Handling `Emergency Department Indicator` category\n",
        "data['Emergency Department Indicator'] = data['Emergency Department Indicator'].replace(\"Y\", 1).replace(\"N\", 0)\n",
        "data['Emergency Department Indicator'] = data['Emergency Department Indicator'].astype(float)"
      ],
      "metadata": {
        "id": "RWevDh4QWkAt"
      },
      "execution_count": null,
      "outputs": []
    },
    {
      "cell_type": "markdown",
      "source": [
        "### Label Encoding"
      ],
      "metadata": {
        "id": "Azl6j9J5Qy0e"
      }
    },
    {
      "cell_type": "code",
      "source": [
        "# Import the library for encoding\n",
        "from sklearn import preprocessing"
      ],
      "metadata": {
        "id": "7wMR_fkoTZDe"
      },
      "execution_count": null,
      "outputs": []
    },
    {
      "cell_type": "code",
      "source": [
        "# Label Encoding features with more than 10 categories, groupping those for easier encoding process\n",
        "le_columns = ['Health Service Area', 'Hospital County', 'Facility Name', 'Patient Disposition', 'Gender', 'Race', 'Ethnicity', 'Type of Admission',\n",
        "              'CCS Diagnosis Description','CCS Procedure Description', 'APR DRG Description', 'APR MDC Description', 'Payment Typology 1',\n",
        "              'Age Group', 'APR Severity of Illness Description', 'APR Risk of Mortality']\n",
        "\n",
        "# encode le_columns using label encoding.\n",
        "data[le_columns] = data[le_columns].transform(preprocessing.LabelEncoder().fit_transform)"
      ],
      "metadata": {
        "id": "TajvyQbiTaCP"
      },
      "execution_count": null,
      "outputs": []
    },
    {
      "cell_type": "code",
      "source": [
        "data.head()"
      ],
      "metadata": {
        "colab": {
          "base_uri": "https://localhost:8080/"
        },
        "id": "33opxKiYpBQ-",
        "outputId": "c16e8f3b-0870-4d89-d611-d435044a5449"
      },
      "execution_count": null,
      "outputs": [
        {
          "output_type": "execute_result",
          "data": {
            "text/plain": [
              "   Health Service Area  Hospital County  Facility Name  Age Group  Gender  \\\n",
              "0                    7                4            132          3       0   \n",
              "1                    7                4            132          1       0   \n",
              "2                    7                4            132          2       1   \n",
              "3                    7                4            132          3       0   \n",
              "4                    7                6            208          3       1   \n",
              "\n",
              "   Race  Ethnicity  Length of Stay  Type of Admission  Patient Disposition  \\\n",
              "0     3          1             5.0                  1                    7   \n",
              "1     3          1             8.0                  1                    7   \n",
              "2     3          1             8.0                  1                    7   \n",
              "3     3          1             4.0                  1                    7   \n",
              "4     3          1             3.0                  1                    7   \n",
              "\n",
              "   ...  CCS Procedure Description  APR DRG Description  APR MDC Description  \\\n",
              "0  ...                        119                   20                   19   \n",
              "1  ...                        119                   20                   19   \n",
              "2  ...                        119                   20                   19   \n",
              "3  ...                        119                   16                   12   \n",
              "4  ...                        119                  279                   11   \n",
              "\n",
              "   APR Severity of Illness Description  APR Risk of Mortality  \\\n",
              "0                                    2                      2   \n",
              "1                                    3                      2   \n",
              "2                                    2                      2   \n",
              "3                                    2                      2   \n",
              "4                                    3                      3   \n",
              "\n",
              "   APR Medical Surgical Description  Payment Typology 1  Birth Weight  \\\n",
              "0                               1.0                   4             0   \n",
              "1                               1.0                   4             0   \n",
              "2                               1.0                   4             0   \n",
              "3                               1.0                   5             0   \n",
              "4                               1.0                   4             0   \n",
              "\n",
              "   Emergency Department Indicator  Total Charges  \n",
              "0                             1.0        5620.00  \n",
              "1                             1.0        7404.18  \n",
              "2                             1.0        7931.28  \n",
              "3                             1.0       11304.44  \n",
              "4                             1.0        8330.50  \n",
              "\n",
              "[5 rows x 21 columns]"
            ],
            "text/html": [
              "\n",
              "  <div id=\"df-d6653829-0ae1-4288-95b5-9bb5499aba62\">\n",
              "    <div class=\"colab-df-container\">\n",
              "      <div>\n",
              "<style scoped>\n",
              "    .dataframe tbody tr th:only-of-type {\n",
              "        vertical-align: middle;\n",
              "    }\n",
              "\n",
              "    .dataframe tbody tr th {\n",
              "        vertical-align: top;\n",
              "    }\n",
              "\n",
              "    .dataframe thead th {\n",
              "        text-align: right;\n",
              "    }\n",
              "</style>\n",
              "<table border=\"1\" class=\"dataframe\">\n",
              "  <thead>\n",
              "    <tr style=\"text-align: right;\">\n",
              "      <th></th>\n",
              "      <th>Health Service Area</th>\n",
              "      <th>Hospital County</th>\n",
              "      <th>Facility Name</th>\n",
              "      <th>Age Group</th>\n",
              "      <th>Gender</th>\n",
              "      <th>Race</th>\n",
              "      <th>Ethnicity</th>\n",
              "      <th>Length of Stay</th>\n",
              "      <th>Type of Admission</th>\n",
              "      <th>Patient Disposition</th>\n",
              "      <th>...</th>\n",
              "      <th>CCS Procedure Description</th>\n",
              "      <th>APR DRG Description</th>\n",
              "      <th>APR MDC Description</th>\n",
              "      <th>APR Severity of Illness Description</th>\n",
              "      <th>APR Risk of Mortality</th>\n",
              "      <th>APR Medical Surgical Description</th>\n",
              "      <th>Payment Typology 1</th>\n",
              "      <th>Birth Weight</th>\n",
              "      <th>Emergency Department Indicator</th>\n",
              "      <th>Total Charges</th>\n",
              "    </tr>\n",
              "  </thead>\n",
              "  <tbody>\n",
              "    <tr>\n",
              "      <th>0</th>\n",
              "      <td>7</td>\n",
              "      <td>4</td>\n",
              "      <td>132</td>\n",
              "      <td>3</td>\n",
              "      <td>0</td>\n",
              "      <td>3</td>\n",
              "      <td>1</td>\n",
              "      <td>5.0</td>\n",
              "      <td>1</td>\n",
              "      <td>7</td>\n",
              "      <td>...</td>\n",
              "      <td>119</td>\n",
              "      <td>20</td>\n",
              "      <td>19</td>\n",
              "      <td>2</td>\n",
              "      <td>2</td>\n",
              "      <td>1.0</td>\n",
              "      <td>4</td>\n",
              "      <td>0</td>\n",
              "      <td>1.0</td>\n",
              "      <td>5620.00</td>\n",
              "    </tr>\n",
              "    <tr>\n",
              "      <th>1</th>\n",
              "      <td>7</td>\n",
              "      <td>4</td>\n",
              "      <td>132</td>\n",
              "      <td>1</td>\n",
              "      <td>0</td>\n",
              "      <td>3</td>\n",
              "      <td>1</td>\n",
              "      <td>8.0</td>\n",
              "      <td>1</td>\n",
              "      <td>7</td>\n",
              "      <td>...</td>\n",
              "      <td>119</td>\n",
              "      <td>20</td>\n",
              "      <td>19</td>\n",
              "      <td>3</td>\n",
              "      <td>2</td>\n",
              "      <td>1.0</td>\n",
              "      <td>4</td>\n",
              "      <td>0</td>\n",
              "      <td>1.0</td>\n",
              "      <td>7404.18</td>\n",
              "    </tr>\n",
              "    <tr>\n",
              "      <th>2</th>\n",
              "      <td>7</td>\n",
              "      <td>4</td>\n",
              "      <td>132</td>\n",
              "      <td>2</td>\n",
              "      <td>1</td>\n",
              "      <td>3</td>\n",
              "      <td>1</td>\n",
              "      <td>8.0</td>\n",
              "      <td>1</td>\n",
              "      <td>7</td>\n",
              "      <td>...</td>\n",
              "      <td>119</td>\n",
              "      <td>20</td>\n",
              "      <td>19</td>\n",
              "      <td>2</td>\n",
              "      <td>2</td>\n",
              "      <td>1.0</td>\n",
              "      <td>4</td>\n",
              "      <td>0</td>\n",
              "      <td>1.0</td>\n",
              "      <td>7931.28</td>\n",
              "    </tr>\n",
              "    <tr>\n",
              "      <th>3</th>\n",
              "      <td>7</td>\n",
              "      <td>4</td>\n",
              "      <td>132</td>\n",
              "      <td>3</td>\n",
              "      <td>0</td>\n",
              "      <td>3</td>\n",
              "      <td>1</td>\n",
              "      <td>4.0</td>\n",
              "      <td>1</td>\n",
              "      <td>7</td>\n",
              "      <td>...</td>\n",
              "      <td>119</td>\n",
              "      <td>16</td>\n",
              "      <td>12</td>\n",
              "      <td>2</td>\n",
              "      <td>2</td>\n",
              "      <td>1.0</td>\n",
              "      <td>5</td>\n",
              "      <td>0</td>\n",
              "      <td>1.0</td>\n",
              "      <td>11304.44</td>\n",
              "    </tr>\n",
              "    <tr>\n",
              "      <th>4</th>\n",
              "      <td>7</td>\n",
              "      <td>6</td>\n",
              "      <td>208</td>\n",
              "      <td>3</td>\n",
              "      <td>1</td>\n",
              "      <td>3</td>\n",
              "      <td>1</td>\n",
              "      <td>3.0</td>\n",
              "      <td>1</td>\n",
              "      <td>7</td>\n",
              "      <td>...</td>\n",
              "      <td>119</td>\n",
              "      <td>279</td>\n",
              "      <td>11</td>\n",
              "      <td>3</td>\n",
              "      <td>3</td>\n",
              "      <td>1.0</td>\n",
              "      <td>4</td>\n",
              "      <td>0</td>\n",
              "      <td>1.0</td>\n",
              "      <td>8330.50</td>\n",
              "    </tr>\n",
              "  </tbody>\n",
              "</table>\n",
              "<p>5 rows × 21 columns</p>\n",
              "</div>\n",
              "      <button class=\"colab-df-convert\" onclick=\"convertToInteractive('df-d6653829-0ae1-4288-95b5-9bb5499aba62')\"\n",
              "              title=\"Convert this dataframe to an interactive table.\"\n",
              "              style=\"display:none;\">\n",
              "        \n",
              "  <svg xmlns=\"http://www.w3.org/2000/svg\" height=\"24px\"viewBox=\"0 0 24 24\"\n",
              "       width=\"24px\">\n",
              "    <path d=\"M0 0h24v24H0V0z\" fill=\"none\"/>\n",
              "    <path d=\"M18.56 5.44l.94 2.06.94-2.06 2.06-.94-2.06-.94-.94-2.06-.94 2.06-2.06.94zm-11 1L8.5 8.5l.94-2.06 2.06-.94-2.06-.94L8.5 2.5l-.94 2.06-2.06.94zm10 10l.94 2.06.94-2.06 2.06-.94-2.06-.94-.94-2.06-.94 2.06-2.06.94z\"/><path d=\"M17.41 7.96l-1.37-1.37c-.4-.4-.92-.59-1.43-.59-.52 0-1.04.2-1.43.59L10.3 9.45l-7.72 7.72c-.78.78-.78 2.05 0 2.83L4 21.41c.39.39.9.59 1.41.59.51 0 1.02-.2 1.41-.59l7.78-7.78 2.81-2.81c.8-.78.8-2.07 0-2.86zM5.41 20L4 18.59l7.72-7.72 1.47 1.35L5.41 20z\"/>\n",
              "  </svg>\n",
              "      </button>\n",
              "      \n",
              "  <style>\n",
              "    .colab-df-container {\n",
              "      display:flex;\n",
              "      flex-wrap:wrap;\n",
              "      gap: 12px;\n",
              "    }\n",
              "\n",
              "    .colab-df-convert {\n",
              "      background-color: #E8F0FE;\n",
              "      border: none;\n",
              "      border-radius: 50%;\n",
              "      cursor: pointer;\n",
              "      display: none;\n",
              "      fill: #1967D2;\n",
              "      height: 32px;\n",
              "      padding: 0 0 0 0;\n",
              "      width: 32px;\n",
              "    }\n",
              "\n",
              "    .colab-df-convert:hover {\n",
              "      background-color: #E2EBFA;\n",
              "      box-shadow: 0px 1px 2px rgba(60, 64, 67, 0.3), 0px 1px 3px 1px rgba(60, 64, 67, 0.15);\n",
              "      fill: #174EA6;\n",
              "    }\n",
              "\n",
              "    [theme=dark] .colab-df-convert {\n",
              "      background-color: #3B4455;\n",
              "      fill: #D2E3FC;\n",
              "    }\n",
              "\n",
              "    [theme=dark] .colab-df-convert:hover {\n",
              "      background-color: #434B5C;\n",
              "      box-shadow: 0px 1px 3px 1px rgba(0, 0, 0, 0.15);\n",
              "      filter: drop-shadow(0px 1px 2px rgba(0, 0, 0, 0.3));\n",
              "      fill: #FFFFFF;\n",
              "    }\n",
              "  </style>\n",
              "\n",
              "      <script>\n",
              "        const buttonEl =\n",
              "          document.querySelector('#df-d6653829-0ae1-4288-95b5-9bb5499aba62 button.colab-df-convert');\n",
              "        buttonEl.style.display =\n",
              "          google.colab.kernel.accessAllowed ? 'block' : 'none';\n",
              "\n",
              "        async function convertToInteractive(key) {\n",
              "          const element = document.querySelector('#df-d6653829-0ae1-4288-95b5-9bb5499aba62');\n",
              "          const dataTable =\n",
              "            await google.colab.kernel.invokeFunction('convertToInteractive',\n",
              "                                                     [key], {});\n",
              "          if (!dataTable) return;\n",
              "\n",
              "          const docLinkHtml = 'Like what you see? Visit the ' +\n",
              "            '<a target=\"_blank\" href=https://colab.research.google.com/notebooks/data_table.ipynb>data table notebook</a>'\n",
              "            + ' to learn more about interactive tables.';\n",
              "          element.innerHTML = '';\n",
              "          dataTable['output_type'] = 'display_data';\n",
              "          await google.colab.output.renderOutput(dataTable, element);\n",
              "          const docLink = document.createElement('div');\n",
              "          docLink.innerHTML = docLinkHtml;\n",
              "          element.appendChild(docLink);\n",
              "        }\n",
              "      </script>\n",
              "    </div>\n",
              "  </div>\n",
              "  "
            ]
          },
          "metadata": {},
          "execution_count": 40
        }
      ]
    },
    {
      "cell_type": "code",
      "source": [
        "data.info()"
      ],
      "metadata": {
        "colab": {
          "base_uri": "https://localhost:8080/"
        },
        "id": "ReQVdBOypHxq",
        "outputId": "7040374b-c262-425b-c6f1-f3036271130d"
      },
      "execution_count": null,
      "outputs": [
        {
          "output_type": "stream",
          "name": "stdout",
          "text": [
            "<class 'pandas.core.frame.DataFrame'>\n",
            "Int64Index: 2339950 entries, 0 to 2346759\n",
            "Data columns (total 21 columns):\n",
            " #   Column                               Dtype  \n",
            "---  ------                               -----  \n",
            " 0   Health Service Area                  int64  \n",
            " 1   Hospital County                      int64  \n",
            " 2   Facility Name                        int64  \n",
            " 3   Age Group                            int64  \n",
            " 4   Gender                               int64  \n",
            " 5   Race                                 int64  \n",
            " 6   Ethnicity                            int64  \n",
            " 7   Length of Stay                       float64\n",
            " 8   Type of Admission                    int64  \n",
            " 9   Patient Disposition                  int64  \n",
            " 10  CCS Diagnosis Description            int64  \n",
            " 11  CCS Procedure Description            int64  \n",
            " 12  APR DRG Description                  int64  \n",
            " 13  APR MDC Description                  int64  \n",
            " 14  APR Severity of Illness Description  int64  \n",
            " 15  APR Risk of Mortality                int64  \n",
            " 16  APR Medical Surgical Description     float64\n",
            " 17  Payment Typology 1                   int64  \n",
            " 18  Birth Weight                         int64  \n",
            " 19  Emergency Department Indicator       float64\n",
            " 20  Total Charges                        float64\n",
            "dtypes: float64(4), int64(17)\n",
            "memory usage: 392.8 MB\n"
          ]
        }
      ]
    },
    {
      "cell_type": "markdown",
      "source": [
        "### Split Data (Training & Testing)"
      ],
      "metadata": {
        "id": "vYu8nUhTprrA"
      }
    },
    {
      "cell_type": "markdown",
      "source": [
        "In order to keep the real data, we need to split the data into test and train data, and will work on the train data."
      ],
      "metadata": {
        "id": "TchUzwOJprrA"
      }
    },
    {
      "cell_type": "code",
      "source": [
        "# Split the data\n",
        "X = data.drop(columns = ['Length of Stay','Total Charges'])\n",
        "Y = data['Length of Stay']\n",
        "\n",
        "X_train, X_test, Y_train, Y_test = train_test_split(X, Y, test_size=0.20, random_state=42)"
      ],
      "metadata": {
        "id": "8SJx3Z76prrA"
      },
      "execution_count": null,
      "outputs": []
    },
    {
      "cell_type": "code",
      "execution_count": null,
      "metadata": {
        "colab": {
          "base_uri": "https://localhost:8080/"
        },
        "id": "Vy2Gip6aXcE9",
        "outputId": "39acd10d-0e15-46ff-f4a0-8e9b708d77c8"
      },
      "outputs": [
        {
          "output_type": "stream",
          "name": "stdout",
          "text": [
            "X_train shape : (1871960, 19)\n",
            "X_test shape : (467990, 19)\n",
            "Y_train shape : (1871960,)\n",
            "Y_test shape : (467990,)\n"
          ]
        }
      ],
      "source": [
        "print('X_train shape :', X_train.shape)\n",
        "print('X_test shape :', X_test.shape)\n",
        "print('Y_train shape :', Y_train.shape)\n",
        "print('Y_test shape :', Y_test.shape)"
      ]
    },
    {
      "cell_type": "markdown",
      "source": [
        "# Modelling"
      ],
      "metadata": {
        "id": "0PZ3L3aCu_rO"
      }
    },
    {
      "cell_type": "markdown",
      "source": [
        "### Multicollinearity"
      ],
      "metadata": {
        "id": "NwJsy0Y-bf_i"
      }
    },
    {
      "cell_type": "code",
      "source": [
        "# Find out the correlation between `target data` with the features\n",
        "LOS_train = pd.concat([X_train, Y_train], axis=1)\n",
        "correlation = LOS_train.corr()\n",
        "plt.figure(figsize=(15,15))\n",
        "sns.heatmap(correlation, annot=True, fmt='.2f')\n",
        "plt.show"
      ],
      "metadata": {
        "colab": {
          "base_uri": "https://localhost:8080/",
          "height": 1000
        },
        "id": "qEFCJeN7Rxk4",
        "outputId": "d8677485-4fb5-4dc8-f918-618ca37465fb"
      },
      "execution_count": null,
      "outputs": [
        {
          "output_type": "execute_result",
          "data": {
            "text/plain": [
              "<function matplotlib.pyplot.show(*args, **kw)>"
            ]
          },
          "metadata": {},
          "execution_count": 44
        },
        {
          "output_type": "display_data",
          "data": {
            "text/plain": [
              "<Figure size 1080x1080 with 2 Axes>"
            ],
            "image/png": "[encoded data removed]"
          },
          "metadata": {
            "needs_background": "light"
          }
        }
      ]
    },
    {
      "cell_type": "code",
      "source": [
        "X = add_constant(X_train)\n",
        "\n",
        "vif_df = pd.DataFrame([vif(X.values, i) \n",
        "               for i in range(X.shape[1])], \n",
        "              index=X.columns).reset_index()\n",
        "vif_df.columns = ['feature','vif_score']\n",
        "vif_df = vif_df.loc[vif_df.feature!='const'].sort_values('vif_score', ascending=False)\n",
        "vif_df"
      ],
      "metadata": {
        "colab": {
          "base_uri": "https://localhost:8080/",
          "height": 645
        },
        "id": "83UIB_VveJvb",
        "outputId": "eabeb701-85b6-4e82-dc31-7864b896dea3"
      },
      "execution_count": null,
      "outputs": [
        {
          "output_type": "execute_result",
          "data": {
            "text/plain": [
              "                                feature  vif_score\n",
              "4                             Age Group   1.894633\n",
              "18                         Birth Weight   1.781909\n",
              "13                  APR MDC Description   1.661561\n",
              "19       Emergency Department Indicator   1.496010\n",
              "14  APR Severity of Illness Description   1.390781\n",
              "15                APR Risk of Mortality   1.350340\n",
              "16     APR Medical Surgical Description   1.285451\n",
              "10            CCS Diagnosis Description   1.245521\n",
              "12                  APR DRG Description   1.223864\n",
              "9                   Patient Disposition   1.122663\n",
              "11            CCS Procedure Description   1.107425\n",
              "8                     Type of Admission   1.095275\n",
              "1                   Health Service Area   1.086659\n",
              "2                       Hospital County   1.080837\n",
              "6                                  Race   1.080650\n",
              "5                                Gender   1.055790\n",
              "3                         Facility Name   1.042051\n",
              "17                   Payment Typology 1   1.031448\n",
              "7                             Ethnicity   1.025005"
            ],
            "text/html": [
              "\n",
              "  <div id=\"df-07f2f3db-cd9c-4627-b30b-759a81f51eda\">\n",
              "    <div class=\"colab-df-container\">\n",
              "      <div>\n",
              "<style scoped>\n",
              "    .dataframe tbody tr th:only-of-type {\n",
              "        vertical-align: middle;\n",
              "    }\n",
              "\n",
              "    .dataframe tbody tr th {\n",
              "        vertical-align: top;\n",
              "    }\n",
              "\n",
              "    .dataframe thead th {\n",
              "        text-align: right;\n",
              "    }\n",
              "</style>\n",
              "<table border=\"1\" class=\"dataframe\">\n",
              "  <thead>\n",
              "    <tr style=\"text-align: right;\">\n",
              "      <th></th>\n",
              "      <th>feature</th>\n",
              "      <th>vif_score</th>\n",
              "    </tr>\n",
              "  </thead>\n",
              "  <tbody>\n",
              "    <tr>\n",
              "      <th>4</th>\n",
              "      <td>Age Group</td>\n",
              "      <td>1.894633</td>\n",
              "    </tr>\n",
              "    <tr>\n",
              "      <th>18</th>\n",
              "      <td>Birth Weight</td>\n",
              "      <td>1.781909</td>\n",
              "    </tr>\n",
              "    <tr>\n",
              "      <th>13</th>\n",
              "      <td>APR MDC Description</td>\n",
              "      <td>1.661561</td>\n",
              "    </tr>\n",
              "    <tr>\n",
              "      <th>19</th>\n",
              "      <td>Emergency Department Indicator</td>\n",
              "      <td>1.496010</td>\n",
              "    </tr>\n",
              "    <tr>\n",
              "      <th>14</th>\n",
              "      <td>APR Severity of Illness Description</td>\n",
              "      <td>1.390781</td>\n",
              "    </tr>\n",
              "    <tr>\n",
              "      <th>15</th>\n",
              "      <td>APR Risk of Mortality</td>\n",
              "      <td>1.350340</td>\n",
              "    </tr>\n",
              "    <tr>\n",
              "      <th>16</th>\n",
              "      <td>APR Medical Surgical Description</td>\n",
              "      <td>1.285451</td>\n",
              "    </tr>\n",
              "    <tr>\n",
              "      <th>10</th>\n",
              "      <td>CCS Diagnosis Description</td>\n",
              "      <td>1.245521</td>\n",
              "    </tr>\n",
              "    <tr>\n",
              "      <th>12</th>\n",
              "      <td>APR DRG Description</td>\n",
              "      <td>1.223864</td>\n",
              "    </tr>\n",
              "    <tr>\n",
              "      <th>9</th>\n",
              "      <td>Patient Disposition</td>\n",
              "      <td>1.122663</td>\n",
              "    </tr>\n",
              "    <tr>\n",
              "      <th>11</th>\n",
              "      <td>CCS Procedure Description</td>\n",
              "      <td>1.107425</td>\n",
              "    </tr>\n",
              "    <tr>\n",
              "      <th>8</th>\n",
              "      <td>Type of Admission</td>\n",
              "      <td>1.095275</td>\n",
              "    </tr>\n",
              "    <tr>\n",
              "      <th>1</th>\n",
              "      <td>Health Service Area</td>\n",
              "      <td>1.086659</td>\n",
              "    </tr>\n",
              "    <tr>\n",
              "      <th>2</th>\n",
              "      <td>Hospital County</td>\n",
              "      <td>1.080837</td>\n",
              "    </tr>\n",
              "    <tr>\n",
              "      <th>6</th>\n",
              "      <td>Race</td>\n",
              "      <td>1.080650</td>\n",
              "    </tr>\n",
              "    <tr>\n",
              "      <th>5</th>\n",
              "      <td>Gender</td>\n",
              "      <td>1.055790</td>\n",
              "    </tr>\n",
              "    <tr>\n",
              "      <th>3</th>\n",
              "      <td>Facility Name</td>\n",
              "      <td>1.042051</td>\n",
              "    </tr>\n",
              "    <tr>\n",
              "      <th>17</th>\n",
              "      <td>Payment Typology 1</td>\n",
              "      <td>1.031448</td>\n",
              "    </tr>\n",
              "    <tr>\n",
              "      <th>7</th>\n",
              "      <td>Ethnicity</td>\n",
              "      <td>1.025005</td>\n",
              "    </tr>\n",
              "  </tbody>\n",
              "</table>\n",
              "</div>\n",
              "      <button class=\"colab-df-convert\" onclick=\"convertToInteractive('df-07f2f3db-cd9c-4627-b30b-759a81f51eda')\"\n",
              "              title=\"Convert this dataframe to an interactive table.\"\n",
              "              style=\"display:none;\">\n",
              "        \n",
              "  <svg xmlns=\"http://www.w3.org/2000/svg\" height=\"24px\"viewBox=\"0 0 24 24\"\n",
              "       width=\"24px\">\n",
              "    <path d=\"M0 0h24v24H0V0z\" fill=\"none\"/>\n",
              "    <path d=\"M18.56 5.44l.94 2.06.94-2.06 2.06-.94-2.06-.94-.94-2.06-.94 2.06-2.06.94zm-11 1L8.5 8.5l.94-2.06 2.06-.94-2.06-.94L8.5 2.5l-.94 2.06-2.06.94zm10 10l.94 2.06.94-2.06 2.06-.94-2.06-.94-.94-2.06-.94 2.06-2.06.94z\"/><path d=\"M17.41 7.96l-1.37-1.37c-.4-.4-.92-.59-1.43-.59-.52 0-1.04.2-1.43.59L10.3 9.45l-7.72 7.72c-.78.78-.78 2.05 0 2.83L4 21.41c.39.39.9.59 1.41.59.51 0 1.02-.2 1.41-.59l7.78-7.78 2.81-2.81c.8-.78.8-2.07 0-2.86zM5.41 20L4 18.59l7.72-7.72 1.47 1.35L5.41 20z\"/>\n",
              "  </svg>\n",
              "      </button>\n",
              "      \n",
              "  <style>\n",
              "    .colab-df-container {\n",
              "      display:flex;\n",
              "      flex-wrap:wrap;\n",
              "      gap: 12px;\n",
              "    }\n",
              "\n",
              "    .colab-df-convert {\n",
              "      background-color: #E8F0FE;\n",
              "      border: none;\n",
              "      border-radius: 50%;\n",
              "      cursor: pointer;\n",
              "      display: none;\n",
              "      fill: #1967D2;\n",
              "      height: 32px;\n",
              "      padding: 0 0 0 0;\n",
              "      width: 32px;\n",
              "    }\n",
              "\n",
              "    .colab-df-convert:hover {\n",
              "      background-color: #E2EBFA;\n",
              "      box-shadow: 0px 1px 2px rgba(60, 64, 67, 0.3), 0px 1px 3px 1px rgba(60, 64, 67, 0.15);\n",
              "      fill: #174EA6;\n",
              "    }\n",
              "\n",
              "    [theme=dark] .colab-df-convert {\n",
              "      background-color: #3B4455;\n",
              "      fill: #D2E3FC;\n",
              "    }\n",
              "\n",
              "    [theme=dark] .colab-df-convert:hover {\n",
              "      background-color: #434B5C;\n",
              "      box-shadow: 0px 1px 3px 1px rgba(0, 0, 0, 0.15);\n",
              "      filter: drop-shadow(0px 1px 2px rgba(0, 0, 0, 0.3));\n",
              "      fill: #FFFFFF;\n",
              "    }\n",
              "  </style>\n",
              "\n",
              "      <script>\n",
              "        const buttonEl =\n",
              "          document.querySelector('#df-07f2f3db-cd9c-4627-b30b-759a81f51eda button.colab-df-convert');\n",
              "        buttonEl.style.display =\n",
              "          google.colab.kernel.accessAllowed ? 'block' : 'none';\n",
              "\n",
              "        async function convertToInteractive(key) {\n",
              "          const element = document.querySelector('#df-07f2f3db-cd9c-4627-b30b-759a81f51eda');\n",
              "          const dataTable =\n",
              "            await google.colab.kernel.invokeFunction('convertToInteractive',\n",
              "                                                     [key], {});\n",
              "          if (!dataTable) return;\n",
              "\n",
              "          const docLinkHtml = 'Like what you see? Visit the ' +\n",
              "            '<a target=\"_blank\" href=https://colab.research.google.com/notebooks/data_table.ipynb>data table notebook</a>'\n",
              "            + ' to learn more about interactive tables.';\n",
              "          element.innerHTML = '';\n",
              "          dataTable['output_type'] = 'display_data';\n",
              "          await google.colab.output.renderOutput(dataTable, element);\n",
              "          const docLink = document.createElement('div');\n",
              "          docLink.innerHTML = docLinkHtml;\n",
              "          element.appendChild(docLink);\n",
              "        }\n",
              "      </script>\n",
              "    </div>\n",
              "  </div>\n",
              "  "
            ]
          },
          "metadata": {},
          "execution_count": 45
        }
      ]
    },
    {
      "cell_type": "markdown",
      "source": [
        "**Observation:**\n",
        "\n",
        "**Based on the heatmap correlation, there are no feature with high correlation (>= 0.8).**"
      ],
      "metadata": {
        "id": "NrS-f0G0LrrJ"
      }
    },
    {
      "cell_type": "markdown",
      "source": [
        "## Linear Regression"
      ],
      "metadata": {
        "id": "CxlRzmn-thHo"
      }
    },
    {
      "cell_type": "code",
      "execution_count": null,
      "metadata": {
        "id": "hf9YHny_FluP"
      },
      "outputs": [],
      "source": [
        "X_train_nump = X_train.to_numpy()\n",
        "y_train_nump = Y_train.to_numpy()\n",
        "y_train_nump = y_train_nump.reshape(len(y_train_nump),)"
      ]
    },
    {
      "cell_type": "code",
      "execution_count": null,
      "metadata": {
        "id": "YwFtNH4-H2kJ"
      },
      "outputs": [],
      "source": [
        "X_test_nump = X_test.to_numpy()\n",
        "y_test_nump = Y_test.to_numpy()\n",
        "y_test_nump = y_test_nump.reshape(len(y_test_nump),)"
      ]
    },
    {
      "cell_type": "code",
      "execution_count": null,
      "metadata": {
        "colab": {
          "base_uri": "https://localhost:8080/"
        },
        "id": "CIatvbkJZV5E",
        "outputId": "91660b89-ce1c-4f1d-cda1-20a024297b64"
      },
      "outputs": [
        {
          "output_type": "execute_result",
          "data": {
            "text/plain": [
              "LinearRegression()"
            ]
          },
          "metadata": {},
          "execution_count": 48
        }
      ],
      "source": [
        "# Fitting onto Linear regression Model \n",
        "\n",
        "reg= LinearRegression()\n",
        "\n",
        "reg.fit(X_train_nump, y_train_nump)"
      ]
    },
    {
      "cell_type": "code",
      "execution_count": null,
      "metadata": {
        "id": "D2nLFgJxZ7Xz"
      },
      "outputs": [],
      "source": [
        "# Getting the X_train and X-test value\n",
        "\n",
        "y_pred_train=reg.predict(X_train_nump)\n",
        "\n",
        "y_pred_test=reg.predict(X_test_nump)"
      ]
    },
    {
      "cell_type": "markdown",
      "source": [
        "### Evaluation"
      ],
      "metadata": {
        "id": "8OZ1kaxSt94U"
      }
    },
    {
      "cell_type": "code",
      "execution_count": null,
      "metadata": {
        "id": "V1Oi6s2wag8Z"
      },
      "outputs": [],
      "source": [
        "# Calculate RMSE, MAE, R2 for training data\n",
        "\n",
        "R2LR = r2_score(y_train_nump, y_pred_train)\n",
        "RMSELR = (np.sqrt(mean_squared_error((y_train_nump), (y_pred_train))))\n",
        "MAELR= mean_absolute_error(y_train_nump, y_pred_train)\n",
        "MAPELR= mean_absolute_percentage_error(y_train_nump, y_pred_train)"
      ]
    },
    {
      "cell_type": "code",
      "execution_count": null,
      "metadata": {
        "id": "tfO6fGcre-1-"
      },
      "outputs": [],
      "source": [
        "# Calculate RMSE, MAE, R2 for testing data\n",
        "\n",
        "R2testLR = r2_score(y_test_nump, y_pred_test)\n",
        "RMSEtestLR = (np.sqrt(mean_squared_error((y_test_nump), (y_pred_test))))\n",
        "MAEtestLR= mean_absolute_error(y_test_nump, y_pred_test)\n",
        "MAPEtestLR= mean_absolute_percentage_error(y_test_nump, y_pred_test)"
      ]
    },
    {
      "cell_type": "code",
      "execution_count": null,
      "metadata": {
        "colab": {
          "base_uri": "https://localhost:8080/"
        },
        "id": "n0HMOiVwbIqq",
        "outputId": "45b67ee7-bc61-42bf-ea85-238b456e9ff4"
      },
      "outputs": [
        {
          "output_type": "stream",
          "name": "stdout",
          "text": [
            "Training Errors\n",
            "RMSE: 7.591946544707485 \n",
            "MAE: 3.8047455223892435 \n",
            "MAPE: 1.160524807464563 \n",
            "R2: 0.109\n",
            "\n",
            "\n",
            "Testing Errors\n",
            "RMSE: 7.563023798792461 \n",
            "MAE: 3.796370274241646 \n",
            "MAPE: 1.15969199442953 \n",
            "R2: 0.11\n"
          ]
        }
      ],
      "source": [
        "# Printing Errors\n",
        "\n",
        "print('Training Errors\\nRMSE:', RMSELR , '\\nMAE:' , MAELR , '\\nMAPE:' , MAPELR , '\\nR2:',round((R2LR),3))\n",
        "print('\\n\\nTesting Errors\\nRMSE:', RMSEtestLR , '\\nMAE:' , MAEtestLR , '\\nMAPE:' , MAPEtestLR , '\\nR2:',round((R2testLR),3))"
      ]
    },
    {
      "cell_type": "code",
      "source": [],
      "metadata": {
        "id": "_I0VcKo1Ceq2"
      },
      "execution_count": null,
      "outputs": []
    },
    {
      "cell_type": "markdown",
      "metadata": {
        "id": "O5O7xpRJBdpi"
      },
      "source": [
        "## Ridge Regression"
      ]
    },
    {
      "cell_type": "code",
      "metadata": {
        "id": "Gm3GQuCxCBJa"
      },
      "source": [
        "# Import library for regression model\n",
        "from sklearn.linear_model import Ridge\n",
        "\n",
        "ridge_reg = Ridge(random_state=42)"
      ],
      "execution_count": null,
      "outputs": []
    },
    {
      "cell_type": "code",
      "metadata": {
        "colab": {
          "base_uri": "https://localhost:8080/"
        },
        "id": "PgWwP9Cv-XFU",
        "outputId": "5ef9d3e4-15a4-45b6-b665-332fcfb6dc97"
      },
      "source": [
        "# tune lambda (denote as 'alpha' in sklearn)\n",
        "# using GridSearchCV\n",
        "from sklearn.model_selection import GridSearchCV\n",
        "\n",
        "# hyperparameter values we want to tune\n",
        "parameters = {\n",
        "    'alpha': (0.000001,0.00001,0.0001,0.001, \n",
        "              0.01, 0.1, 1, 5, 10, 20, 50, 100)\n",
        "}\n",
        "\n",
        "# the tuning\n",
        "ridge_reg_gridcv = GridSearchCV(ridge_reg, parameters, cv=5, \n",
        "                                scoring='neg_root_mean_squared_error')\n",
        "ridge_reg_gridcv.fit(X_train, Y_train)"
      ],
      "execution_count": null,
      "outputs": [
        {
          "output_type": "execute_result",
          "data": {
            "text/plain": [
              "GridSearchCV(cv=5, estimator=Ridge(random_state=42),\n",
              "             param_grid={'alpha': (1e-06, 1e-05, 0.0001, 0.001, 0.01, 0.1, 1, 5,\n",
              "                                   10, 20, 50, 100)},\n",
              "             scoring='neg_root_mean_squared_error')"
            ]
          },
          "metadata": {},
          "execution_count": 54
        }
      ]
    },
    {
      "cell_type": "code",
      "metadata": {
        "colab": {
          "base_uri": "https://localhost:8080/",
          "height": 698
        },
        "id": "Efc99pQs9eoz",
        "outputId": "bc72a9b3-222a-401d-f9b9-f2c3724dea27"
      },
      "source": [
        "# the complete results\n",
        "pd.DataFrame(ridge_reg_gridcv.cv_results_)"
      ],
      "execution_count": null,
      "outputs": [
        {
          "output_type": "execute_result",
          "data": {
            "text/plain": [
              "    mean_fit_time  std_fit_time  mean_score_time  std_score_time param_alpha  \\\n",
              "0        0.503402      0.014678         0.043410        0.004154    0.000001   \n",
              "1        0.503664      0.005900         0.043788        0.004360     0.00001   \n",
              "2        0.508643      0.007007         0.041707        0.000590      0.0001   \n",
              "3        0.507031      0.009666         0.042944        0.001892       0.001   \n",
              "4        0.494246      0.013528         0.040077        0.001293        0.01   \n",
              "5        0.507164      0.019864         0.042770        0.004700         0.1   \n",
              "6        0.503804      0.004391         0.041526        0.000633           1   \n",
              "7        0.494598      0.014413         0.042132        0.002580           5   \n",
              "8        0.505638      0.015863         0.041838        0.001832          10   \n",
              "9        0.498818      0.018419         0.039928        0.001360          20   \n",
              "10       0.504136      0.011939         0.041367        0.001156          50   \n",
              "11       0.507270      0.005719         0.042201        0.001045         100   \n",
              "\n",
              "               params  split0_test_score  split1_test_score  \\\n",
              "0    {'alpha': 1e-06}          -7.622191          -7.520869   \n",
              "1    {'alpha': 1e-05}          -7.622191          -7.520869   \n",
              "2   {'alpha': 0.0001}          -7.622191          -7.520869   \n",
              "3    {'alpha': 0.001}          -7.622191          -7.520869   \n",
              "4     {'alpha': 0.01}          -7.622191          -7.520869   \n",
              "5      {'alpha': 0.1}          -7.622191          -7.520869   \n",
              "6        {'alpha': 1}          -7.622191          -7.520869   \n",
              "7        {'alpha': 5}          -7.622191          -7.520869   \n",
              "8       {'alpha': 10}          -7.622191          -7.520869   \n",
              "9       {'alpha': 20}          -7.622191          -7.520869   \n",
              "10      {'alpha': 50}          -7.622191          -7.520869   \n",
              "11     {'alpha': 100}          -7.622190          -7.520869   \n",
              "\n",
              "    split2_test_score  split3_test_score  split4_test_score  mean_test_score  \\\n",
              "0           -7.613072          -7.602413          -7.601423        -7.591994   \n",
              "1           -7.613072          -7.602413          -7.601423        -7.591994   \n",
              "2           -7.613072          -7.602413          -7.601423        -7.591994   \n",
              "3           -7.613072          -7.602413          -7.601423        -7.591994   \n",
              "4           -7.613072          -7.602413          -7.601423        -7.591994   \n",
              "5           -7.613072          -7.602413          -7.601423        -7.591994   \n",
              "6           -7.613072          -7.602413          -7.601423        -7.591994   \n",
              "7           -7.613072          -7.602413          -7.601423        -7.591994   \n",
              "8           -7.613072          -7.602413          -7.601423        -7.591994   \n",
              "9           -7.613073          -7.602413          -7.601423        -7.591994   \n",
              "10          -7.613073          -7.602413          -7.601423        -7.591994   \n",
              "11          -7.613074          -7.602412          -7.601422        -7.591994   \n",
              "\n",
              "    std_test_score  rank_test_score  \n",
              "0         0.036366               11  \n",
              "1         0.036366               11  \n",
              "2         0.036366               10  \n",
              "3         0.036366                9  \n",
              "4         0.036366                8  \n",
              "5         0.036366                7  \n",
              "6         0.036366                6  \n",
              "7         0.036366                5  \n",
              "8         0.036366                4  \n",
              "9         0.036366                3  \n",
              "10        0.036366                2  \n",
              "11        0.036366                1  "
            ],
            "text/html": [
              "\n",
              "  <div id=\"df-9bccde36-3a87-407e-b38b-45ca8876cf0d\">\n",
              "    <div class=\"colab-df-container\">\n",
              "      <div>\n",
              "<style scoped>\n",
              "    .dataframe tbody tr th:only-of-type {\n",
              "        vertical-align: middle;\n",
              "    }\n",
              "\n",
              "    .dataframe tbody tr th {\n",
              "        vertical-align: top;\n",
              "    }\n",
              "\n",
              "    .dataframe thead th {\n",
              "        text-align: right;\n",
              "    }\n",
              "</style>\n",
              "<table border=\"1\" class=\"dataframe\">\n",
              "  <thead>\n",
              "    <tr style=\"text-align: right;\">\n",
              "      <th></th>\n",
              "      <th>mean_fit_time</th>\n",
              "      <th>std_fit_time</th>\n",
              "      <th>mean_score_time</th>\n",
              "      <th>std_score_time</th>\n",
              "      <th>param_alpha</th>\n",
              "      <th>params</th>\n",
              "      <th>split0_test_score</th>\n",
              "      <th>split1_test_score</th>\n",
              "      <th>split2_test_score</th>\n",
              "      <th>split3_test_score</th>\n",
              "      <th>split4_test_score</th>\n",
              "      <th>mean_test_score</th>\n",
              "      <th>std_test_score</th>\n",
              "      <th>rank_test_score</th>\n",
              "    </tr>\n",
              "  </thead>\n",
              "  <tbody>\n",
              "    <tr>\n",
              "      <th>0</th>\n",
              "      <td>0.503402</td>\n",
              "      <td>0.014678</td>\n",
              "      <td>0.043410</td>\n",
              "      <td>0.004154</td>\n",
              "      <td>0.000001</td>\n",
              "      <td>{'alpha': 1e-06}</td>\n",
              "      <td>-7.622191</td>\n",
              "      <td>-7.520869</td>\n",
              "      <td>-7.613072</td>\n",
              "      <td>-7.602413</td>\n",
              "      <td>-7.601423</td>\n",
              "      <td>-7.591994</td>\n",
              "      <td>0.036366</td>\n",
              "      <td>11</td>\n",
              "    </tr>\n",
              "    <tr>\n",
              "      <th>1</th>\n",
              "      <td>0.503664</td>\n",
              "      <td>0.005900</td>\n",
              "      <td>0.043788</td>\n",
              "      <td>0.004360</td>\n",
              "      <td>0.00001</td>\n",
              "      <td>{'alpha': 1e-05}</td>\n",
              "      <td>-7.622191</td>\n",
              "      <td>-7.520869</td>\n",
              "      <td>-7.613072</td>\n",
              "      <td>-7.602413</td>\n",
              "      <td>-7.601423</td>\n",
              "      <td>-7.591994</td>\n",
              "      <td>0.036366</td>\n",
              "      <td>11</td>\n",
              "    </tr>\n",
              "    <tr>\n",
              "      <th>2</th>\n",
              "      <td>0.508643</td>\n",
              "      <td>0.007007</td>\n",
              "      <td>0.041707</td>\n",
              "      <td>0.000590</td>\n",
              "      <td>0.0001</td>\n",
              "      <td>{'alpha': 0.0001}</td>\n",
              "      <td>-7.622191</td>\n",
              "      <td>-7.520869</td>\n",
              "      <td>-7.613072</td>\n",
              "      <td>-7.602413</td>\n",
              "      <td>-7.601423</td>\n",
              "      <td>-7.591994</td>\n",
              "      <td>0.036366</td>\n",
              "      <td>10</td>\n",
              "    </tr>\n",
              "    <tr>\n",
              "      <th>3</th>\n",
              "      <td>0.507031</td>\n",
              "      <td>0.009666</td>\n",
              "      <td>0.042944</td>\n",
              "      <td>0.001892</td>\n",
              "      <td>0.001</td>\n",
              "      <td>{'alpha': 0.001}</td>\n",
              "      <td>-7.622191</td>\n",
              "      <td>-7.520869</td>\n",
              "      <td>-7.613072</td>\n",
              "      <td>-7.602413</td>\n",
              "      <td>-7.601423</td>\n",
              "      <td>-7.591994</td>\n",
              "      <td>0.036366</td>\n",
              "      <td>9</td>\n",
              "    </tr>\n",
              "    <tr>\n",
              "      <th>4</th>\n",
              "      <td>0.494246</td>\n",
              "      <td>0.013528</td>\n",
              "      <td>0.040077</td>\n",
              "      <td>0.001293</td>\n",
              "      <td>0.01</td>\n",
              "      <td>{'alpha': 0.01}</td>\n",
              "      <td>-7.622191</td>\n",
              "      <td>-7.520869</td>\n",
              "      <td>-7.613072</td>\n",
              "      <td>-7.602413</td>\n",
              "      <td>-7.601423</td>\n",
              "      <td>-7.591994</td>\n",
              "      <td>0.036366</td>\n",
              "      <td>8</td>\n",
              "    </tr>\n",
              "    <tr>\n",
              "      <th>5</th>\n",
              "      <td>0.507164</td>\n",
              "      <td>0.019864</td>\n",
              "      <td>0.042770</td>\n",
              "      <td>0.004700</td>\n",
              "      <td>0.1</td>\n",
              "      <td>{'alpha': 0.1}</td>\n",
              "      <td>-7.622191</td>\n",
              "      <td>-7.520869</td>\n",
              "      <td>-7.613072</td>\n",
              "      <td>-7.602413</td>\n",
              "      <td>-7.601423</td>\n",
              "      <td>-7.591994</td>\n",
              "      <td>0.036366</td>\n",
              "      <td>7</td>\n",
              "    </tr>\n",
              "    <tr>\n",
              "      <th>6</th>\n",
              "      <td>0.503804</td>\n",
              "      <td>0.004391</td>\n",
              "      <td>0.041526</td>\n",
              "      <td>0.000633</td>\n",
              "      <td>1</td>\n",
              "      <td>{'alpha': 1}</td>\n",
              "      <td>-7.622191</td>\n",
              "      <td>-7.520869</td>\n",
              "      <td>-7.613072</td>\n",
              "      <td>-7.602413</td>\n",
              "      <td>-7.601423</td>\n",
              "      <td>-7.591994</td>\n",
              "      <td>0.036366</td>\n",
              "      <td>6</td>\n",
              "    </tr>\n",
              "    <tr>\n",
              "      <th>7</th>\n",
              "      <td>0.494598</td>\n",
              "      <td>0.014413</td>\n",
              "      <td>0.042132</td>\n",
              "      <td>0.002580</td>\n",
              "      <td>5</td>\n",
              "      <td>{'alpha': 5}</td>\n",
              "      <td>-7.622191</td>\n",
              "      <td>-7.520869</td>\n",
              "      <td>-7.613072</td>\n",
              "      <td>-7.602413</td>\n",
              "      <td>-7.601423</td>\n",
              "      <td>-7.591994</td>\n",
              "      <td>0.036366</td>\n",
              "      <td>5</td>\n",
              "    </tr>\n",
              "    <tr>\n",
              "      <th>8</th>\n",
              "      <td>0.505638</td>\n",
              "      <td>0.015863</td>\n",
              "      <td>0.041838</td>\n",
              "      <td>0.001832</td>\n",
              "      <td>10</td>\n",
              "      <td>{'alpha': 10}</td>\n",
              "      <td>-7.622191</td>\n",
              "      <td>-7.520869</td>\n",
              "      <td>-7.613072</td>\n",
              "      <td>-7.602413</td>\n",
              "      <td>-7.601423</td>\n",
              "      <td>-7.591994</td>\n",
              "      <td>0.036366</td>\n",
              "      <td>4</td>\n",
              "    </tr>\n",
              "    <tr>\n",
              "      <th>9</th>\n",
              "      <td>0.498818</td>\n",
              "      <td>0.018419</td>\n",
              "      <td>0.039928</td>\n",
              "      <td>0.001360</td>\n",
              "      <td>20</td>\n",
              "      <td>{'alpha': 20}</td>\n",
              "      <td>-7.622191</td>\n",
              "      <td>-7.520869</td>\n",
              "      <td>-7.613073</td>\n",
              "      <td>-7.602413</td>\n",
              "      <td>-7.601423</td>\n",
              "      <td>-7.591994</td>\n",
              "      <td>0.036366</td>\n",
              "      <td>3</td>\n",
              "    </tr>\n",
              "    <tr>\n",
              "      <th>10</th>\n",
              "      <td>0.504136</td>\n",
              "      <td>0.011939</td>\n",
              "      <td>0.041367</td>\n",
              "      <td>0.001156</td>\n",
              "      <td>50</td>\n",
              "      <td>{'alpha': 50}</td>\n",
              "      <td>-7.622191</td>\n",
              "      <td>-7.520869</td>\n",
              "      <td>-7.613073</td>\n",
              "      <td>-7.602413</td>\n",
              "      <td>-7.601423</td>\n",
              "      <td>-7.591994</td>\n",
              "      <td>0.036366</td>\n",
              "      <td>2</td>\n",
              "    </tr>\n",
              "    <tr>\n",
              "      <th>11</th>\n",
              "      <td>0.507270</td>\n",
              "      <td>0.005719</td>\n",
              "      <td>0.042201</td>\n",
              "      <td>0.001045</td>\n",
              "      <td>100</td>\n",
              "      <td>{'alpha': 100}</td>\n",
              "      <td>-7.622190</td>\n",
              "      <td>-7.520869</td>\n",
              "      <td>-7.613074</td>\n",
              "      <td>-7.602412</td>\n",
              "      <td>-7.601422</td>\n",
              "      <td>-7.591994</td>\n",
              "      <td>0.036366</td>\n",
              "      <td>1</td>\n",
              "    </tr>\n",
              "  </tbody>\n",
              "</table>\n",
              "</div>\n",
              "      <button class=\"colab-df-convert\" onclick=\"convertToInteractive('df-9bccde36-3a87-407e-b38b-45ca8876cf0d')\"\n",
              "              title=\"Convert this dataframe to an interactive table.\"\n",
              "              style=\"display:none;\">\n",
              "        \n",
              "  <svg xmlns=\"http://www.w3.org/2000/svg\" height=\"24px\"viewBox=\"0 0 24 24\"\n",
              "       width=\"24px\">\n",
              "    <path d=\"M0 0h24v24H0V0z\" fill=\"none\"/>\n",
              "    <path d=\"M18.56 5.44l.94 2.06.94-2.06 2.06-.94-2.06-.94-.94-2.06-.94 2.06-2.06.94zm-11 1L8.5 8.5l.94-2.06 2.06-.94-2.06-.94L8.5 2.5l-.94 2.06-2.06.94zm10 10l.94 2.06.94-2.06 2.06-.94-2.06-.94-.94-2.06-.94 2.06-2.06.94z\"/><path d=\"M17.41 7.96l-1.37-1.37c-.4-.4-.92-.59-1.43-.59-.52 0-1.04.2-1.43.59L10.3 9.45l-7.72 7.72c-.78.78-.78 2.05 0 2.83L4 21.41c.39.39.9.59 1.41.59.51 0 1.02-.2 1.41-.59l7.78-7.78 2.81-2.81c.8-.78.8-2.07 0-2.86zM5.41 20L4 18.59l7.72-7.72 1.47 1.35L5.41 20z\"/>\n",
              "  </svg>\n",
              "      </button>\n",
              "      \n",
              "  <style>\n",
              "    .colab-df-container {\n",
              "      display:flex;\n",
              "      flex-wrap:wrap;\n",
              "      gap: 12px;\n",
              "    }\n",
              "\n",
              "    .colab-df-convert {\n",
              "      background-color: #E8F0FE;\n",
              "      border: none;\n",
              "      border-radius: 50%;\n",
              "      cursor: pointer;\n",
              "      display: none;\n",
              "      fill: #1967D2;\n",
              "      height: 32px;\n",
              "      padding: 0 0 0 0;\n",
              "      width: 32px;\n",
              "    }\n",
              "\n",
              "    .colab-df-convert:hover {\n",
              "      background-color: #E2EBFA;\n",
              "      box-shadow: 0px 1px 2px rgba(60, 64, 67, 0.3), 0px 1px 3px 1px rgba(60, 64, 67, 0.15);\n",
              "      fill: #174EA6;\n",
              "    }\n",
              "\n",
              "    [theme=dark] .colab-df-convert {\n",
              "      background-color: #3B4455;\n",
              "      fill: #D2E3FC;\n",
              "    }\n",
              "\n",
              "    [theme=dark] .colab-df-convert:hover {\n",
              "      background-color: #434B5C;\n",
              "      box-shadow: 0px 1px 3px 1px rgba(0, 0, 0, 0.15);\n",
              "      filter: drop-shadow(0px 1px 2px rgba(0, 0, 0, 0.3));\n",
              "      fill: #FFFFFF;\n",
              "    }\n",
              "  </style>\n",
              "\n",
              "      <script>\n",
              "        const buttonEl =\n",
              "          document.querySelector('#df-9bccde36-3a87-407e-b38b-45ca8876cf0d button.colab-df-convert');\n",
              "        buttonEl.style.display =\n",
              "          google.colab.kernel.accessAllowed ? 'block' : 'none';\n",
              "\n",
              "        async function convertToInteractive(key) {\n",
              "          const element = document.querySelector('#df-9bccde36-3a87-407e-b38b-45ca8876cf0d');\n",
              "          const dataTable =\n",
              "            await google.colab.kernel.invokeFunction('convertToInteractive',\n",
              "                                                     [key], {});\n",
              "          if (!dataTable) return;\n",
              "\n",
              "          const docLinkHtml = 'Like what you see? Visit the ' +\n",
              "            '<a target=\"_blank\" href=https://colab.research.google.com/notebooks/data_table.ipynb>data table notebook</a>'\n",
              "            + ' to learn more about interactive tables.';\n",
              "          element.innerHTML = '';\n",
              "          dataTable['output_type'] = 'display_data';\n",
              "          await google.colab.output.renderOutput(dataTable, element);\n",
              "          const docLink = document.createElement('div');\n",
              "          docLink.innerHTML = docLinkHtml;\n",
              "          element.appendChild(docLink);\n",
              "        }\n",
              "      </script>\n",
              "    </div>\n",
              "  </div>\n",
              "  "
            ]
          },
          "metadata": {},
          "execution_count": 55
        }
      ]
    },
    {
      "cell_type": "code",
      "metadata": {
        "colab": {
          "base_uri": "https://localhost:8080/",
          "height": 426
        },
        "id": "mrDb-1KyDqZ8",
        "outputId": "b7fbbd83-6419-48dd-f06e-5d57ae17f50c"
      },
      "source": [
        "# only show the most important columns\n",
        "retain_cols = ['params','mean_test_score','rank_test_score']\n",
        "cv_result = pd.DataFrame(ridge_reg_gridcv.cv_results_)\n",
        "cv_result[retain_cols]"
      ],
      "execution_count": null,
      "outputs": [
        {
          "output_type": "execute_result",
          "data": {
            "text/plain": [
              "               params  mean_test_score  rank_test_score\n",
              "0    {'alpha': 1e-06}        -7.591994               11\n",
              "1    {'alpha': 1e-05}        -7.591994               11\n",
              "2   {'alpha': 0.0001}        -7.591994               10\n",
              "3    {'alpha': 0.001}        -7.591994                9\n",
              "4     {'alpha': 0.01}        -7.591994                8\n",
              "5      {'alpha': 0.1}        -7.591994                7\n",
              "6        {'alpha': 1}        -7.591994                6\n",
              "7        {'alpha': 5}        -7.591994                5\n",
              "8       {'alpha': 10}        -7.591994                4\n",
              "9       {'alpha': 20}        -7.591994                3\n",
              "10      {'alpha': 50}        -7.591994                2\n",
              "11     {'alpha': 100}        -7.591994                1"
            ],
            "text/html": [
              "\n",
              "  <div id=\"df-00c70403-4cd5-473c-a0bb-47de7a06ee3e\">\n",
              "    <div class=\"colab-df-container\">\n",
              "      <div>\n",
              "<style scoped>\n",
              "    .dataframe tbody tr th:only-of-type {\n",
              "        vertical-align: middle;\n",
              "    }\n",
              "\n",
              "    .dataframe tbody tr th {\n",
              "        vertical-align: top;\n",
              "    }\n",
              "\n",
              "    .dataframe thead th {\n",
              "        text-align: right;\n",
              "    }\n",
              "</style>\n",
              "<table border=\"1\" class=\"dataframe\">\n",
              "  <thead>\n",
              "    <tr style=\"text-align: right;\">\n",
              "      <th></th>\n",
              "      <th>params</th>\n",
              "      <th>mean_test_score</th>\n",
              "      <th>rank_test_score</th>\n",
              "    </tr>\n",
              "  </thead>\n",
              "  <tbody>\n",
              "    <tr>\n",
              "      <th>0</th>\n",
              "      <td>{'alpha': 1e-06}</td>\n",
              "      <td>-7.591994</td>\n",
              "      <td>11</td>\n",
              "    </tr>\n",
              "    <tr>\n",
              "      <th>1</th>\n",
              "      <td>{'alpha': 1e-05}</td>\n",
              "      <td>-7.591994</td>\n",
              "      <td>11</td>\n",
              "    </tr>\n",
              "    <tr>\n",
              "      <th>2</th>\n",
              "      <td>{'alpha': 0.0001}</td>\n",
              "      <td>-7.591994</td>\n",
              "      <td>10</td>\n",
              "    </tr>\n",
              "    <tr>\n",
              "      <th>3</th>\n",
              "      <td>{'alpha': 0.001}</td>\n",
              "      <td>-7.591994</td>\n",
              "      <td>9</td>\n",
              "    </tr>\n",
              "    <tr>\n",
              "      <th>4</th>\n",
              "      <td>{'alpha': 0.01}</td>\n",
              "      <td>-7.591994</td>\n",
              "      <td>8</td>\n",
              "    </tr>\n",
              "    <tr>\n",
              "      <th>5</th>\n",
              "      <td>{'alpha': 0.1}</td>\n",
              "      <td>-7.591994</td>\n",
              "      <td>7</td>\n",
              "    </tr>\n",
              "    <tr>\n",
              "      <th>6</th>\n",
              "      <td>{'alpha': 1}</td>\n",
              "      <td>-7.591994</td>\n",
              "      <td>6</td>\n",
              "    </tr>\n",
              "    <tr>\n",
              "      <th>7</th>\n",
              "      <td>{'alpha': 5}</td>\n",
              "      <td>-7.591994</td>\n",
              "      <td>5</td>\n",
              "    </tr>\n",
              "    <tr>\n",
              "      <th>8</th>\n",
              "      <td>{'alpha': 10}</td>\n",
              "      <td>-7.591994</td>\n",
              "      <td>4</td>\n",
              "    </tr>\n",
              "    <tr>\n",
              "      <th>9</th>\n",
              "      <td>{'alpha': 20}</td>\n",
              "      <td>-7.591994</td>\n",
              "      <td>3</td>\n",
              "    </tr>\n",
              "    <tr>\n",
              "      <th>10</th>\n",
              "      <td>{'alpha': 50}</td>\n",
              "      <td>-7.591994</td>\n",
              "      <td>2</td>\n",
              "    </tr>\n",
              "    <tr>\n",
              "      <th>11</th>\n",
              "      <td>{'alpha': 100}</td>\n",
              "      <td>-7.591994</td>\n",
              "      <td>1</td>\n",
              "    </tr>\n",
              "  </tbody>\n",
              "</table>\n",
              "</div>\n",
              "      <button class=\"colab-df-convert\" onclick=\"convertToInteractive('df-00c70403-4cd5-473c-a0bb-47de7a06ee3e')\"\n",
              "              title=\"Convert this dataframe to an interactive table.\"\n",
              "              style=\"display:none;\">\n",
              "        \n",
              "  <svg xmlns=\"http://www.w3.org/2000/svg\" height=\"24px\"viewBox=\"0 0 24 24\"\n",
              "       width=\"24px\">\n",
              "    <path d=\"M0 0h24v24H0V0z\" fill=\"none\"/>\n",
              "    <path d=\"M18.56 5.44l.94 2.06.94-2.06 2.06-.94-2.06-.94-.94-2.06-.94 2.06-2.06.94zm-11 1L8.5 8.5l.94-2.06 2.06-.94-2.06-.94L8.5 2.5l-.94 2.06-2.06.94zm10 10l.94 2.06.94-2.06 2.06-.94-2.06-.94-.94-2.06-.94 2.06-2.06.94z\"/><path d=\"M17.41 7.96l-1.37-1.37c-.4-.4-.92-.59-1.43-.59-.52 0-1.04.2-1.43.59L10.3 9.45l-7.72 7.72c-.78.78-.78 2.05 0 2.83L4 21.41c.39.39.9.59 1.41.59.51 0 1.02-.2 1.41-.59l7.78-7.78 2.81-2.81c.8-.78.8-2.07 0-2.86zM5.41 20L4 18.59l7.72-7.72 1.47 1.35L5.41 20z\"/>\n",
              "  </svg>\n",
              "      </button>\n",
              "      \n",
              "  <style>\n",
              "    .colab-df-container {\n",
              "      display:flex;\n",
              "      flex-wrap:wrap;\n",
              "      gap: 12px;\n",
              "    }\n",
              "\n",
              "    .colab-df-convert {\n",
              "      background-color: #E8F0FE;\n",
              "      border: none;\n",
              "      border-radius: 50%;\n",
              "      cursor: pointer;\n",
              "      display: none;\n",
              "      fill: #1967D2;\n",
              "      height: 32px;\n",
              "      padding: 0 0 0 0;\n",
              "      width: 32px;\n",
              "    }\n",
              "\n",
              "    .colab-df-convert:hover {\n",
              "      background-color: #E2EBFA;\n",
              "      box-shadow: 0px 1px 2px rgba(60, 64, 67, 0.3), 0px 1px 3px 1px rgba(60, 64, 67, 0.15);\n",
              "      fill: #174EA6;\n",
              "    }\n",
              "\n",
              "    [theme=dark] .colab-df-convert {\n",
              "      background-color: #3B4455;\n",
              "      fill: #D2E3FC;\n",
              "    }\n",
              "\n",
              "    [theme=dark] .colab-df-convert:hover {\n",
              "      background-color: #434B5C;\n",
              "      box-shadow: 0px 1px 3px 1px rgba(0, 0, 0, 0.15);\n",
              "      filter: drop-shadow(0px 1px 2px rgba(0, 0, 0, 0.3));\n",
              "      fill: #FFFFFF;\n",
              "    }\n",
              "  </style>\n",
              "\n",
              "      <script>\n",
              "        const buttonEl =\n",
              "          document.querySelector('#df-00c70403-4cd5-473c-a0bb-47de7a06ee3e button.colab-df-convert');\n",
              "        buttonEl.style.display =\n",
              "          google.colab.kernel.accessAllowed ? 'block' : 'none';\n",
              "\n",
              "        async function convertToInteractive(key) {\n",
              "          const element = document.querySelector('#df-00c70403-4cd5-473c-a0bb-47de7a06ee3e');\n",
              "          const dataTable =\n",
              "            await google.colab.kernel.invokeFunction('convertToInteractive',\n",
              "                                                     [key], {});\n",
              "          if (!dataTable) return;\n",
              "\n",
              "          const docLinkHtml = 'Like what you see? Visit the ' +\n",
              "            '<a target=\"_blank\" href=https://colab.research.google.com/notebooks/data_table.ipynb>data table notebook</a>'\n",
              "            + ' to learn more about interactive tables.';\n",
              "          element.innerHTML = '';\n",
              "          dataTable['output_type'] = 'display_data';\n",
              "          await google.colab.output.renderOutput(dataTable, element);\n",
              "          const docLink = document.createElement('div');\n",
              "          docLink.innerHTML = docLinkHtml;\n",
              "          element.appendChild(docLink);\n",
              "        }\n",
              "      </script>\n",
              "    </div>\n",
              "  </div>\n",
              "  "
            ]
          },
          "metadata": {},
          "execution_count": 56
        }
      ]
    },
    {
      "cell_type": "markdown",
      "metadata": {
        "id": "paa_XyDX3C0s"
      },
      "source": [
        "**Finding: the best alpha (lambda) is 100**"
      ]
    },
    {
      "cell_type": "code",
      "metadata": {
        "colab": {
          "base_uri": "https://localhost:8080/"
        },
        "id": "icaEe34PEVPW",
        "outputId": "652ba6ce-0f5d-4d72-cd92-f3b9a35c297f"
      },
      "source": [
        "# the best model\n",
        "ridge_reg_gridcv.best_estimator_"
      ],
      "execution_count": null,
      "outputs": [
        {
          "output_type": "execute_result",
          "data": {
            "text/plain": [
              "Ridge(alpha=100, random_state=42)"
            ]
          },
          "metadata": {},
          "execution_count": 57
        }
      ]
    },
    {
      "cell_type": "code",
      "execution_count": null,
      "metadata": {
        "id": "MKj-epE1xTwj"
      },
      "outputs": [],
      "source": [
        "# Putting Best possible paramteres into model\n",
        "\n",
        "ridge_optimal_model = ridge_reg_gridcv.best_estimator_"
      ]
    },
    {
      "cell_type": "code",
      "execution_count": null,
      "metadata": {
        "id": "mtuIz-YaxTwj"
      },
      "outputs": [],
      "source": [
        "# Making predictions on train and test data\n",
        "\n",
        "y_pred_trainRidge = ridge_optimal_model.predict(X_train_nump)\n",
        "y_predRidge= ridge_optimal_model.predict(X_test_nump)"
      ]
    },
    {
      "cell_type": "code",
      "source": [],
      "metadata": {
        "id": "OdxaNGZkEHPW"
      },
      "execution_count": null,
      "outputs": []
    },
    {
      "cell_type": "markdown",
      "source": [
        "### Evaluation"
      ],
      "metadata": {
        "id": "hs277LXaYMZJ"
      }
    },
    {
      "cell_type": "code",
      "source": [
        "# Calculate RMSE, MAE, R2 for training data\n",
        "\n",
        "RMSER = (np.sqrt(mean_squared_error((y_train_nump), (y_pred_trainRidge))))\n",
        "MAER = mean_absolute_error(y_train_nump, y_pred_trainRidge)\n",
        "MAPER = mean_absolute_percentage_error(y_train_nump, y_pred_trainRidge)\n",
        "R2R = r2_score(y_train_nump, y_pred_trainRidge)"
      ],
      "metadata": {
        "id": "ceuPd9gHNrFt"
      },
      "execution_count": null,
      "outputs": []
    },
    {
      "cell_type": "code",
      "source": [
        "# Calculate RMSE, MAE, R2 for testing data\n",
        "\n",
        "RMSEtestR = (np.sqrt(mean_squared_error((y_test_nump), (y_predRidge))))\n",
        "MAEtestR = mean_absolute_error(y_test_nump, y_predRidge)\n",
        "MAPEtestR = mean_absolute_percentage_error(y_test_nump, y_predRidge)\n",
        "R2testR = r2_score(y_test_nump, y_predRidge)"
      ],
      "metadata": {
        "id": "I3BwuspzNrFt"
      },
      "execution_count": null,
      "outputs": []
    },
    {
      "cell_type": "code",
      "source": [
        "# Printing Errors\n",
        "\n",
        "print('Training Errors\\nRMSE:', RMSER , '\\nMAE:' , MAER ,'\\nMAPE:' , MAPER , '\\nR2:',round((R2R),3))\n",
        "print('\\n\\nTesting Errors\\nRMSE:', RMSEtestR , '\\nMAE:' , MAEtestR , '\\nMAPE:' , MAPEtestR ,'\\nR2:',round((R2testR),3))"
      ],
      "metadata": {
        "colab": {
          "base_uri": "https://localhost:8080/"
        },
        "id": "f8rylnRMNrFu",
        "outputId": "781c9827-9078-43f0-94ce-a998b5b05f75"
      },
      "execution_count": null,
      "outputs": [
        {
          "output_type": "stream",
          "name": "stdout",
          "text": [
            "Training Errors\n",
            "RMSE: 7.591946547420676 \n",
            "MAE: 3.804727120003813 \n",
            "MAPE: 1.1605217724747572 \n",
            "R2: 0.109\n",
            "\n",
            "\n",
            "Testing Errors\n",
            "RMSE: 7.56302292574024 \n",
            "MAE: 3.7963518495469497 \n",
            "MAPE: 1.1596890776888422 \n",
            "R2: 0.11\n"
          ]
        }
      ]
    },
    {
      "cell_type": "markdown",
      "source": [
        "Observasi:\n",
        "\n",
        "- Secara rata-rata, penyimpangan model (ridge) prediksi dari data aktual `Length of Stay` adalah sebesar 3.8 satuan (MAE).\n",
        "\n",
        "- Penyimpangan sebesar 3.8 satuan tesebut setara dengan penyimpangan sebesar 1.16% (pada MAPE) dari data aktual `Length of Stay`.\n",
        "\n",
        "- Model (Ridge) yang dibuat, tidak under-fitting ataupun over-fitting karena selisih MAPE pada testing & training error yang kecil dan masih di bawah 30%."
      ],
      "metadata": {
        "id": "PFW7y5ZNLfxB"
      }
    },
    {
      "cell_type": "code",
      "metadata": {
        "colab": {
          "base_uri": "https://localhost:8080/"
        },
        "id": "-X0M6_ItFf3z",
        "outputId": "199d2a4d-aa3f-4327-9f02-2486327ee800"
      },
      "source": [
        "# the coefficients of the best estimator (exclude intercept)\n",
        "ridge_reg_gridcv.best_estimator_.coef_"
      ],
      "execution_count": null,
      "outputs": [
        {
          "output_type": "execute_result",
          "data": {
            "text/plain": [
              "array([ 9.49253204e-03,  7.26607766e-03, -8.17221237e-04,  2.98772393e-01,\n",
              "        9.73444770e-01, -3.82131092e-01, -1.07703569e-01,  1.91222185e-01,\n",
              "        2.51343076e-01,  4.39672040e-03,  5.38140565e-03, -2.20690040e-03,\n",
              "        6.80067955e-02, -1.61037262e+00, -1.08204114e+00, -9.60341445e-01,\n",
              "        3.04207700e-02, -2.89252581e-04,  7.40069759e-02])"
            ]
          },
          "metadata": {},
          "execution_count": 63
        }
      ]
    },
    {
      "cell_type": "code",
      "metadata": {
        "colab": {
          "base_uri": "https://localhost:8080/"
        },
        "id": "vwHb1nDmG03w",
        "outputId": "565d1776-bf70-4ee9-886e-e5894e6135ac"
      },
      "source": [
        "# the intercept of the best estimator\n",
        "ridge_reg_gridcv.best_estimator_.intercept_"
      ],
      "execution_count": null,
      "outputs": [
        {
          "output_type": "execute_result",
          "data": {
            "text/plain": [
              "7.077226900210933"
            ]
          },
          "metadata": {},
          "execution_count": 64
        }
      ]
    },
    {
      "cell_type": "code",
      "metadata": {
        "colab": {
          "base_uri": "https://localhost:8080/",
          "height": 677
        },
        "id": "dNQABhfaGH0v",
        "outputId": "47909648-511c-4c21-fcf7-f5dc81b467a8"
      },
      "source": [
        "# show as a nice dataframe\n",
        "coef_df = pd.DataFrame({\n",
        "    'feature':['intercept'] + data.drop(columns=['Length of Stay','Total Charges']).columns.tolist(),\n",
        "    'coefficient':[ridge_reg_gridcv.best_estimator_.intercept_] + list(ridge_reg_gridcv.best_estimator_.coef_)\n",
        "})\n",
        "\n",
        "coef_df = coef_df.sort_values('coefficient', ascending=False)\n",
        "coef_df\n"
      ],
      "execution_count": null,
      "outputs": [
        {
          "output_type": "execute_result",
          "data": {
            "text/plain": [
              "                                feature  coefficient\n",
              "0                             intercept     7.077227\n",
              "5                                Gender     0.973445\n",
              "4                             Age Group     0.298772\n",
              "9                   Patient Disposition     0.251343\n",
              "8                     Type of Admission     0.191222\n",
              "19       Emergency Department Indicator     0.074007\n",
              "13                  APR MDC Description     0.068007\n",
              "17                   Payment Typology 1     0.030421\n",
              "1                   Health Service Area     0.009493\n",
              "2                       Hospital County     0.007266\n",
              "11            CCS Procedure Description     0.005381\n",
              "10            CCS Diagnosis Description     0.004397\n",
              "18                         Birth Weight    -0.000289\n",
              "3                         Facility Name    -0.000817\n",
              "12                  APR DRG Description    -0.002207\n",
              "7                             Ethnicity    -0.107704\n",
              "6                                  Race    -0.382131\n",
              "16     APR Medical Surgical Description    -0.960341\n",
              "15                APR Risk of Mortality    -1.082041\n",
              "14  APR Severity of Illness Description    -1.610373"
            ],
            "text/html": [
              "\n",
              "  <div id=\"df-06277683-2a64-410f-9369-0f2a81cbda18\">\n",
              "    <div class=\"colab-df-container\">\n",
              "      <div>\n",
              "<style scoped>\n",
              "    .dataframe tbody tr th:only-of-type {\n",
              "        vertical-align: middle;\n",
              "    }\n",
              "\n",
              "    .dataframe tbody tr th {\n",
              "        vertical-align: top;\n",
              "    }\n",
              "\n",
              "    .dataframe thead th {\n",
              "        text-align: right;\n",
              "    }\n",
              "</style>\n",
              "<table border=\"1\" class=\"dataframe\">\n",
              "  <thead>\n",
              "    <tr style=\"text-align: right;\">\n",
              "      <th></th>\n",
              "      <th>feature</th>\n",
              "      <th>coefficient</th>\n",
              "    </tr>\n",
              "  </thead>\n",
              "  <tbody>\n",
              "    <tr>\n",
              "      <th>0</th>\n",
              "      <td>intercept</td>\n",
              "      <td>7.077227</td>\n",
              "    </tr>\n",
              "    <tr>\n",
              "      <th>5</th>\n",
              "      <td>Gender</td>\n",
              "      <td>0.973445</td>\n",
              "    </tr>\n",
              "    <tr>\n",
              "      <th>4</th>\n",
              "      <td>Age Group</td>\n",
              "      <td>0.298772</td>\n",
              "    </tr>\n",
              "    <tr>\n",
              "      <th>9</th>\n",
              "      <td>Patient Disposition</td>\n",
              "      <td>0.251343</td>\n",
              "    </tr>\n",
              "    <tr>\n",
              "      <th>8</th>\n",
              "      <td>Type of Admission</td>\n",
              "      <td>0.191222</td>\n",
              "    </tr>\n",
              "    <tr>\n",
              "      <th>19</th>\n",
              "      <td>Emergency Department Indicator</td>\n",
              "      <td>0.074007</td>\n",
              "    </tr>\n",
              "    <tr>\n",
              "      <th>13</th>\n",
              "      <td>APR MDC Description</td>\n",
              "      <td>0.068007</td>\n",
              "    </tr>\n",
              "    <tr>\n",
              "      <th>17</th>\n",
              "      <td>Payment Typology 1</td>\n",
              "      <td>0.030421</td>\n",
              "    </tr>\n",
              "    <tr>\n",
              "      <th>1</th>\n",
              "      <td>Health Service Area</td>\n",
              "      <td>0.009493</td>\n",
              "    </tr>\n",
              "    <tr>\n",
              "      <th>2</th>\n",
              "      <td>Hospital County</td>\n",
              "      <td>0.007266</td>\n",
              "    </tr>\n",
              "    <tr>\n",
              "      <th>11</th>\n",
              "      <td>CCS Procedure Description</td>\n",
              "      <td>0.005381</td>\n",
              "    </tr>\n",
              "    <tr>\n",
              "      <th>10</th>\n",
              "      <td>CCS Diagnosis Description</td>\n",
              "      <td>0.004397</td>\n",
              "    </tr>\n",
              "    <tr>\n",
              "      <th>18</th>\n",
              "      <td>Birth Weight</td>\n",
              "      <td>-0.000289</td>\n",
              "    </tr>\n",
              "    <tr>\n",
              "      <th>3</th>\n",
              "      <td>Facility Name</td>\n",
              "      <td>-0.000817</td>\n",
              "    </tr>\n",
              "    <tr>\n",
              "      <th>12</th>\n",
              "      <td>APR DRG Description</td>\n",
              "      <td>-0.002207</td>\n",
              "    </tr>\n",
              "    <tr>\n",
              "      <th>7</th>\n",
              "      <td>Ethnicity</td>\n",
              "      <td>-0.107704</td>\n",
              "    </tr>\n",
              "    <tr>\n",
              "      <th>6</th>\n",
              "      <td>Race</td>\n",
              "      <td>-0.382131</td>\n",
              "    </tr>\n",
              "    <tr>\n",
              "      <th>16</th>\n",
              "      <td>APR Medical Surgical Description</td>\n",
              "      <td>-0.960341</td>\n",
              "    </tr>\n",
              "    <tr>\n",
              "      <th>15</th>\n",
              "      <td>APR Risk of Mortality</td>\n",
              "      <td>-1.082041</td>\n",
              "    </tr>\n",
              "    <tr>\n",
              "      <th>14</th>\n",
              "      <td>APR Severity of Illness Description</td>\n",
              "      <td>-1.610373</td>\n",
              "    </tr>\n",
              "  </tbody>\n",
              "</table>\n",
              "</div>\n",
              "      <button class=\"colab-df-convert\" onclick=\"convertToInteractive('df-06277683-2a64-410f-9369-0f2a81cbda18')\"\n",
              "              title=\"Convert this dataframe to an interactive table.\"\n",
              "              style=\"display:none;\">\n",
              "        \n",
              "  <svg xmlns=\"http://www.w3.org/2000/svg\" height=\"24px\"viewBox=\"0 0 24 24\"\n",
              "       width=\"24px\">\n",
              "    <path d=\"M0 0h24v24H0V0z\" fill=\"none\"/>\n",
              "    <path d=\"M18.56 5.44l.94 2.06.94-2.06 2.06-.94-2.06-.94-.94-2.06-.94 2.06-2.06.94zm-11 1L8.5 8.5l.94-2.06 2.06-.94-2.06-.94L8.5 2.5l-.94 2.06-2.06.94zm10 10l.94 2.06.94-2.06 2.06-.94-2.06-.94-.94-2.06-.94 2.06-2.06.94z\"/><path d=\"M17.41 7.96l-1.37-1.37c-.4-.4-.92-.59-1.43-.59-.52 0-1.04.2-1.43.59L10.3 9.45l-7.72 7.72c-.78.78-.78 2.05 0 2.83L4 21.41c.39.39.9.59 1.41.59.51 0 1.02-.2 1.41-.59l7.78-7.78 2.81-2.81c.8-.78.8-2.07 0-2.86zM5.41 20L4 18.59l7.72-7.72 1.47 1.35L5.41 20z\"/>\n",
              "  </svg>\n",
              "      </button>\n",
              "      \n",
              "  <style>\n",
              "    .colab-df-container {\n",
              "      display:flex;\n",
              "      flex-wrap:wrap;\n",
              "      gap: 12px;\n",
              "    }\n",
              "\n",
              "    .colab-df-convert {\n",
              "      background-color: #E8F0FE;\n",
              "      border: none;\n",
              "      border-radius: 50%;\n",
              "      cursor: pointer;\n",
              "      display: none;\n",
              "      fill: #1967D2;\n",
              "      height: 32px;\n",
              "      padding: 0 0 0 0;\n",
              "      width: 32px;\n",
              "    }\n",
              "\n",
              "    .colab-df-convert:hover {\n",
              "      background-color: #E2EBFA;\n",
              "      box-shadow: 0px 1px 2px rgba(60, 64, 67, 0.3), 0px 1px 3px 1px rgba(60, 64, 67, 0.15);\n",
              "      fill: #174EA6;\n",
              "    }\n",
              "\n",
              "    [theme=dark] .colab-df-convert {\n",
              "      background-color: #3B4455;\n",
              "      fill: #D2E3FC;\n",
              "    }\n",
              "\n",
              "    [theme=dark] .colab-df-convert:hover {\n",
              "      background-color: #434B5C;\n",
              "      box-shadow: 0px 1px 3px 1px rgba(0, 0, 0, 0.15);\n",
              "      filter: drop-shadow(0px 1px 2px rgba(0, 0, 0, 0.3));\n",
              "      fill: #FFFFFF;\n",
              "    }\n",
              "  </style>\n",
              "\n",
              "      <script>\n",
              "        const buttonEl =\n",
              "          document.querySelector('#df-06277683-2a64-410f-9369-0f2a81cbda18 button.colab-df-convert');\n",
              "        buttonEl.style.display =\n",
              "          google.colab.kernel.accessAllowed ? 'block' : 'none';\n",
              "\n",
              "        async function convertToInteractive(key) {\n",
              "          const element = document.querySelector('#df-06277683-2a64-410f-9369-0f2a81cbda18');\n",
              "          const dataTable =\n",
              "            await google.colab.kernel.invokeFunction('convertToInteractive',\n",
              "                                                     [key], {});\n",
              "          if (!dataTable) return;\n",
              "\n",
              "          const docLinkHtml = 'Like what you see? Visit the ' +\n",
              "            '<a target=\"_blank\" href=https://colab.research.google.com/notebooks/data_table.ipynb>data table notebook</a>'\n",
              "            + ' to learn more about interactive tables.';\n",
              "          element.innerHTML = '';\n",
              "          dataTable['output_type'] = 'display_data';\n",
              "          await google.colab.output.renderOutput(dataTable, element);\n",
              "          const docLink = document.createElement('div');\n",
              "          docLink.innerHTML = docLinkHtml;\n",
              "          element.appendChild(docLink);\n",
              "        }\n",
              "      </script>\n",
              "    </div>\n",
              "  </div>\n",
              "  "
            ]
          },
          "metadata": {},
          "execution_count": 65
        }
      ]
    },
    {
      "cell_type": "markdown",
      "source": [
        "`Length of Stay` = 7.07 + 0.97 `Gender` + 0.29 `Age Group` + 0.25 `Patient Disposition` + 0.19 `Type of Admission` + *dst*\n",
        "\n",
        "**Penambahan 1 Poin pada `Gender`, dengan catatan variabel lain bernilai tetap, berasosiasi dengan penambahan 0.97 poin pada `Length of Stay`.**"
      ],
      "metadata": {
        "id": "j2vWqA5kMpbt"
      }
    },
    {
      "cell_type": "code",
      "source": [],
      "metadata": {
        "id": "Idu1b1loDXEp"
      },
      "execution_count": null,
      "outputs": []
    },
    {
      "cell_type": "markdown",
      "metadata": {
        "id": "kE6fcurzGfn_"
      },
      "source": [
        "## Lasso Regression"
      ]
    },
    {
      "cell_type": "code",
      "metadata": {
        "id": "rxmsFRvHGfoA"
      },
      "source": [
        "# Import library for regression model\n",
        "Lasso_reg = Lasso(random_state=42)"
      ],
      "execution_count": null,
      "outputs": []
    },
    {
      "cell_type": "code",
      "metadata": {
        "colab": {
          "base_uri": "https://localhost:8080/"
        },
        "outputId": "6b438fa1-9635-4a11-814b-75086749de7a",
        "id": "2OAoCyuAGfoB"
      },
      "source": [
        "# tune lambda (denote as 'alpha' in sklearn)\n",
        "# using GridSearchCV\n",
        "from sklearn.model_selection import GridSearchCV\n",
        "\n",
        "# hyperparameter values we want to tune\n",
        "parameters = {\n",
        "    'alpha': (0.1, 1, 5, 10, 20, 50, 100)\n",
        "}\n",
        "\n",
        "# the tuning\n",
        "lasso_reg_gridcv = GridSearchCV(Lasso_reg, parameters, cv=5, \n",
        "                                scoring='neg_root_mean_squared_error')\n",
        "lasso_reg_gridcv.fit(X_train, Y_train)"
      ],
      "execution_count": null,
      "outputs": [
        {
          "output_type": "execute_result",
          "data": {
            "text/plain": [
              "GridSearchCV(cv=5, estimator=Lasso(random_state=42),\n",
              "             param_grid={'alpha': (0.1, 1, 5, 10, 20, 50, 100)},\n",
              "             scoring='neg_root_mean_squared_error')"
            ]
          },
          "metadata": {},
          "execution_count": 85
        }
      ]
    },
    {
      "cell_type": "code",
      "metadata": {
        "colab": {
          "base_uri": "https://localhost:8080/",
          "height": 454
        },
        "outputId": "2f7e9e59-64b3-4ef7-e96a-1c0a696817b4",
        "id": "iLDlphCPGfoC"
      },
      "source": [
        "# the complete results\n",
        "pd.DataFrame(lasso_reg_gridcv.cv_results_)"
      ],
      "execution_count": null,
      "outputs": [
        {
          "output_type": "execute_result",
          "data": {
            "text/plain": [
              "   mean_fit_time  std_fit_time  mean_score_time  std_score_time param_alpha  \\\n",
              "0       1.666770      0.053815         0.055952        0.006796         0.1   \n",
              "1       1.149133      0.019625         0.055475        0.003881           1   \n",
              "2       1.157272      0.298446         0.052411        0.005089           5   \n",
              "3       0.814569      0.046338         0.053106        0.005320          10   \n",
              "4       0.771511      0.060108         0.049452        0.005087          20   \n",
              "5       0.702246      0.062719         0.050876        0.007348          50   \n",
              "6       0.700476      0.050953         0.051343        0.004079         100   \n",
              "\n",
              "           params  split0_test_score  split1_test_score  split2_test_score  \\\n",
              "0  {'alpha': 0.1}          -7.632052          -7.531566          -7.626876   \n",
              "1    {'alpha': 1}          -7.771868          -7.671554          -7.776066   \n",
              "2    {'alpha': 5}          -8.034432          -7.932729          -8.035819   \n",
              "3   {'alpha': 10}          -8.036234          -7.934421          -8.037379   \n",
              "4   {'alpha': 20}          -8.043358          -7.941383          -8.044033   \n",
              "5   {'alpha': 50}          -8.056427          -7.954652          -8.056928   \n",
              "6  {'alpha': 100}          -8.056684          -7.955093          -8.057299   \n",
              "\n",
              "   split3_test_score  split4_test_score  mean_test_score  std_test_score  \\\n",
              "0          -7.612720          -7.611521        -7.602947        0.036562   \n",
              "1          -7.755901          -7.753240        -7.745726        0.038120   \n",
              "2          -8.017906          -8.013023        -8.006782        0.038090   \n",
              "3          -8.019712          -8.015015        -8.008552        0.038102   \n",
              "4          -8.026846          -8.022530        -8.015630        0.038109   \n",
              "5          -8.040267          -8.035954        -8.028845        0.038039   \n",
              "6          -8.041071          -8.036426        -8.029314        0.038026   \n",
              "\n",
              "   rank_test_score  \n",
              "0                1  \n",
              "1                2  \n",
              "2                3  \n",
              "3                4  \n",
              "4                5  \n",
              "5                6  \n",
              "6                7  "
            ],
            "text/html": [
              "\n",
              "  <div id=\"df-f08f9336-d968-4629-8eb3-8e00f87ed896\">\n",
              "    <div class=\"colab-df-container\">\n",
              "      <div>\n",
              "<style scoped>\n",
              "    .dataframe tbody tr th:only-of-type {\n",
              "        vertical-align: middle;\n",
              "    }\n",
              "\n",
              "    .dataframe tbody tr th {\n",
              "        vertical-align: top;\n",
              "    }\n",
              "\n",
              "    .dataframe thead th {\n",
              "        text-align: right;\n",
              "    }\n",
              "</style>\n",
              "<table border=\"1\" class=\"dataframe\">\n",
              "  <thead>\n",
              "    <tr style=\"text-align: right;\">\n",
              "      <th></th>\n",
              "      <th>mean_fit_time</th>\n",
              "      <th>std_fit_time</th>\n",
              "      <th>mean_score_time</th>\n",
              "      <th>std_score_time</th>\n",
              "      <th>param_alpha</th>\n",
              "      <th>params</th>\n",
              "      <th>split0_test_score</th>\n",
              "      <th>split1_test_score</th>\n",
              "      <th>split2_test_score</th>\n",
              "      <th>split3_test_score</th>\n",
              "      <th>split4_test_score</th>\n",
              "      <th>mean_test_score</th>\n",
              "      <th>std_test_score</th>\n",
              "      <th>rank_test_score</th>\n",
              "    </tr>\n",
              "  </thead>\n",
              "  <tbody>\n",
              "    <tr>\n",
              "      <th>0</th>\n",
              "      <td>1.666770</td>\n",
              "      <td>0.053815</td>\n",
              "      <td>0.055952</td>\n",
              "      <td>0.006796</td>\n",
              "      <td>0.1</td>\n",
              "      <td>{'alpha': 0.1}</td>\n",
              "      <td>-7.632052</td>\n",
              "      <td>-7.531566</td>\n",
              "      <td>-7.626876</td>\n",
              "      <td>-7.612720</td>\n",
              "      <td>-7.611521</td>\n",
              "      <td>-7.602947</td>\n",
              "      <td>0.036562</td>\n",
              "      <td>1</td>\n",
              "    </tr>\n",
              "    <tr>\n",
              "      <th>1</th>\n",
              "      <td>1.149133</td>\n",
              "      <td>0.019625</td>\n",
              "      <td>0.055475</td>\n",
              "      <td>0.003881</td>\n",
              "      <td>1</td>\n",
              "      <td>{'alpha': 1}</td>\n",
              "      <td>-7.771868</td>\n",
              "      <td>-7.671554</td>\n",
              "      <td>-7.776066</td>\n",
              "      <td>-7.755901</td>\n",
              "      <td>-7.753240</td>\n",
              "      <td>-7.745726</td>\n",
              "      <td>0.038120</td>\n",
              "      <td>2</td>\n",
              "    </tr>\n",
              "    <tr>\n",
              "      <th>2</th>\n",
              "      <td>1.157272</td>\n",
              "      <td>0.298446</td>\n",
              "      <td>0.052411</td>\n",
              "      <td>0.005089</td>\n",
              "      <td>5</td>\n",
              "      <td>{'alpha': 5}</td>\n",
              "      <td>-8.034432</td>\n",
              "      <td>-7.932729</td>\n",
              "      <td>-8.035819</td>\n",
              "      <td>-8.017906</td>\n",
              "      <td>-8.013023</td>\n",
              "      <td>-8.006782</td>\n",
              "      <td>0.038090</td>\n",
              "      <td>3</td>\n",
              "    </tr>\n",
              "    <tr>\n",
              "      <th>3</th>\n",
              "      <td>0.814569</td>\n",
              "      <td>0.046338</td>\n",
              "      <td>0.053106</td>\n",
              "      <td>0.005320</td>\n",
              "      <td>10</td>\n",
              "      <td>{'alpha': 10}</td>\n",
              "      <td>-8.036234</td>\n",
              "      <td>-7.934421</td>\n",
              "      <td>-8.037379</td>\n",
              "      <td>-8.019712</td>\n",
              "      <td>-8.015015</td>\n",
              "      <td>-8.008552</td>\n",
              "      <td>0.038102</td>\n",
              "      <td>4</td>\n",
              "    </tr>\n",
              "    <tr>\n",
              "      <th>4</th>\n",
              "      <td>0.771511</td>\n",
              "      <td>0.060108</td>\n",
              "      <td>0.049452</td>\n",
              "      <td>0.005087</td>\n",
              "      <td>20</td>\n",
              "      <td>{'alpha': 20}</td>\n",
              "      <td>-8.043358</td>\n",
              "      <td>-7.941383</td>\n",
              "      <td>-8.044033</td>\n",
              "      <td>-8.026846</td>\n",
              "      <td>-8.022530</td>\n",
              "      <td>-8.015630</td>\n",
              "      <td>0.038109</td>\n",
              "      <td>5</td>\n",
              "    </tr>\n",
              "    <tr>\n",
              "      <th>5</th>\n",
              "      <td>0.702246</td>\n",
              "      <td>0.062719</td>\n",
              "      <td>0.050876</td>\n",
              "      <td>0.007348</td>\n",
              "      <td>50</td>\n",
              "      <td>{'alpha': 50}</td>\n",
              "      <td>-8.056427</td>\n",
              "      <td>-7.954652</td>\n",
              "      <td>-8.056928</td>\n",
              "      <td>-8.040267</td>\n",
              "      <td>-8.035954</td>\n",
              "      <td>-8.028845</td>\n",
              "      <td>0.038039</td>\n",
              "      <td>6</td>\n",
              "    </tr>\n",
              "    <tr>\n",
              "      <th>6</th>\n",
              "      <td>0.700476</td>\n",
              "      <td>0.050953</td>\n",
              "      <td>0.051343</td>\n",
              "      <td>0.004079</td>\n",
              "      <td>100</td>\n",
              "      <td>{'alpha': 100}</td>\n",
              "      <td>-8.056684</td>\n",
              "      <td>-7.955093</td>\n",
              "      <td>-8.057299</td>\n",
              "      <td>-8.041071</td>\n",
              "      <td>-8.036426</td>\n",
              "      <td>-8.029314</td>\n",
              "      <td>0.038026</td>\n",
              "      <td>7</td>\n",
              "    </tr>\n",
              "  </tbody>\n",
              "</table>\n",
              "</div>\n",
              "      <button class=\"colab-df-convert\" onclick=\"convertToInteractive('df-f08f9336-d968-4629-8eb3-8e00f87ed896')\"\n",
              "              title=\"Convert this dataframe to an interactive table.\"\n",
              "              style=\"display:none;\">\n",
              "        \n",
              "  <svg xmlns=\"http://www.w3.org/2000/svg\" height=\"24px\"viewBox=\"0 0 24 24\"\n",
              "       width=\"24px\">\n",
              "    <path d=\"M0 0h24v24H0V0z\" fill=\"none\"/>\n",
              "    <path d=\"M18.56 5.44l.94 2.06.94-2.06 2.06-.94-2.06-.94-.94-2.06-.94 2.06-2.06.94zm-11 1L8.5 8.5l.94-2.06 2.06-.94-2.06-.94L8.5 2.5l-.94 2.06-2.06.94zm10 10l.94 2.06.94-2.06 2.06-.94-2.06-.94-.94-2.06-.94 2.06-2.06.94z\"/><path d=\"M17.41 7.96l-1.37-1.37c-.4-.4-.92-.59-1.43-.59-.52 0-1.04.2-1.43.59L10.3 9.45l-7.72 7.72c-.78.78-.78 2.05 0 2.83L4 21.41c.39.39.9.59 1.41.59.51 0 1.02-.2 1.41-.59l7.78-7.78 2.81-2.81c.8-.78.8-2.07 0-2.86zM5.41 20L4 18.59l7.72-7.72 1.47 1.35L5.41 20z\"/>\n",
              "  </svg>\n",
              "      </button>\n",
              "      \n",
              "  <style>\n",
              "    .colab-df-container {\n",
              "      display:flex;\n",
              "      flex-wrap:wrap;\n",
              "      gap: 12px;\n",
              "    }\n",
              "\n",
              "    .colab-df-convert {\n",
              "      background-color: #E8F0FE;\n",
              "      border: none;\n",
              "      border-radius: 50%;\n",
              "      cursor: pointer;\n",
              "      display: none;\n",
              "      fill: #1967D2;\n",
              "      height: 32px;\n",
              "      padding: 0 0 0 0;\n",
              "      width: 32px;\n",
              "    }\n",
              "\n",
              "    .colab-df-convert:hover {\n",
              "      background-color: #E2EBFA;\n",
              "      box-shadow: 0px 1px 2px rgba(60, 64, 67, 0.3), 0px 1px 3px 1px rgba(60, 64, 67, 0.15);\n",
              "      fill: #174EA6;\n",
              "    }\n",
              "\n",
              "    [theme=dark] .colab-df-convert {\n",
              "      background-color: #3B4455;\n",
              "      fill: #D2E3FC;\n",
              "    }\n",
              "\n",
              "    [theme=dark] .colab-df-convert:hover {\n",
              "      background-color: #434B5C;\n",
              "      box-shadow: 0px 1px 3px 1px rgba(0, 0, 0, 0.15);\n",
              "      filter: drop-shadow(0px 1px 2px rgba(0, 0, 0, 0.3));\n",
              "      fill: #FFFFFF;\n",
              "    }\n",
              "  </style>\n",
              "\n",
              "      <script>\n",
              "        const buttonEl =\n",
              "          document.querySelector('#df-f08f9336-d968-4629-8eb3-8e00f87ed896 button.colab-df-convert');\n",
              "        buttonEl.style.display =\n",
              "          google.colab.kernel.accessAllowed ? 'block' : 'none';\n",
              "\n",
              "        async function convertToInteractive(key) {\n",
              "          const element = document.querySelector('#df-f08f9336-d968-4629-8eb3-8e00f87ed896');\n",
              "          const dataTable =\n",
              "            await google.colab.kernel.invokeFunction('convertToInteractive',\n",
              "                                                     [key], {});\n",
              "          if (!dataTable) return;\n",
              "\n",
              "          const docLinkHtml = 'Like what you see? Visit the ' +\n",
              "            '<a target=\"_blank\" href=https://colab.research.google.com/notebooks/data_table.ipynb>data table notebook</a>'\n",
              "            + ' to learn more about interactive tables.';\n",
              "          element.innerHTML = '';\n",
              "          dataTable['output_type'] = 'display_data';\n",
              "          await google.colab.output.renderOutput(dataTable, element);\n",
              "          const docLink = document.createElement('div');\n",
              "          docLink.innerHTML = docLinkHtml;\n",
              "          element.appendChild(docLink);\n",
              "        }\n",
              "      </script>\n",
              "    </div>\n",
              "  </div>\n",
              "  "
            ]
          },
          "metadata": {},
          "execution_count": 86
        }
      ]
    },
    {
      "cell_type": "code",
      "metadata": {
        "colab": {
          "base_uri": "https://localhost:8080/",
          "height": 269
        },
        "outputId": "16d9d952-f714-4212-f04f-4d120a6e8a05",
        "id": "QLPwHRgOGfoC"
      },
      "source": [
        "# only show the most important columns\n",
        "retain_cols_lasso = ['params','mean_test_score','rank_test_score']\n",
        "cv_result_lasso = pd.DataFrame(lasso_reg_gridcv.cv_results_)\n",
        "cv_result_lasso[retain_cols]"
      ],
      "execution_count": null,
      "outputs": [
        {
          "output_type": "execute_result",
          "data": {
            "text/plain": [
              "           params  mean_test_score  rank_test_score\n",
              "0  {'alpha': 0.1}        -7.602947                1\n",
              "1    {'alpha': 1}        -7.745726                2\n",
              "2    {'alpha': 5}        -8.006782                3\n",
              "3   {'alpha': 10}        -8.008552                4\n",
              "4   {'alpha': 20}        -8.015630                5\n",
              "5   {'alpha': 50}        -8.028845                6\n",
              "6  {'alpha': 100}        -8.029314                7"
            ],
            "text/html": [
              "\n",
              "  <div id=\"df-442ad940-0a61-4c3d-a1b1-150293d9ee6c\">\n",
              "    <div class=\"colab-df-container\">\n",
              "      <div>\n",
              "<style scoped>\n",
              "    .dataframe tbody tr th:only-of-type {\n",
              "        vertical-align: middle;\n",
              "    }\n",
              "\n",
              "    .dataframe tbody tr th {\n",
              "        vertical-align: top;\n",
              "    }\n",
              "\n",
              "    .dataframe thead th {\n",
              "        text-align: right;\n",
              "    }\n",
              "</style>\n",
              "<table border=\"1\" class=\"dataframe\">\n",
              "  <thead>\n",
              "    <tr style=\"text-align: right;\">\n",
              "      <th></th>\n",
              "      <th>params</th>\n",
              "      <th>mean_test_score</th>\n",
              "      <th>rank_test_score</th>\n",
              "    </tr>\n",
              "  </thead>\n",
              "  <tbody>\n",
              "    <tr>\n",
              "      <th>0</th>\n",
              "      <td>{'alpha': 0.1}</td>\n",
              "      <td>-7.602947</td>\n",
              "      <td>1</td>\n",
              "    </tr>\n",
              "    <tr>\n",
              "      <th>1</th>\n",
              "      <td>{'alpha': 1}</td>\n",
              "      <td>-7.745726</td>\n",
              "      <td>2</td>\n",
              "    </tr>\n",
              "    <tr>\n",
              "      <th>2</th>\n",
              "      <td>{'alpha': 5}</td>\n",
              "      <td>-8.006782</td>\n",
              "      <td>3</td>\n",
              "    </tr>\n",
              "    <tr>\n",
              "      <th>3</th>\n",
              "      <td>{'alpha': 10}</td>\n",
              "      <td>-8.008552</td>\n",
              "      <td>4</td>\n",
              "    </tr>\n",
              "    <tr>\n",
              "      <th>4</th>\n",
              "      <td>{'alpha': 20}</td>\n",
              "      <td>-8.015630</td>\n",
              "      <td>5</td>\n",
              "    </tr>\n",
              "    <tr>\n",
              "      <th>5</th>\n",
              "      <td>{'alpha': 50}</td>\n",
              "      <td>-8.028845</td>\n",
              "      <td>6</td>\n",
              "    </tr>\n",
              "    <tr>\n",
              "      <th>6</th>\n",
              "      <td>{'alpha': 100}</td>\n",
              "      <td>-8.029314</td>\n",
              "      <td>7</td>\n",
              "    </tr>\n",
              "  </tbody>\n",
              "</table>\n",
              "</div>\n",
              "      <button class=\"colab-df-convert\" onclick=\"convertToInteractive('df-442ad940-0a61-4c3d-a1b1-150293d9ee6c')\"\n",
              "              title=\"Convert this dataframe to an interactive table.\"\n",
              "              style=\"display:none;\">\n",
              "        \n",
              "  <svg xmlns=\"http://www.w3.org/2000/svg\" height=\"24px\"viewBox=\"0 0 24 24\"\n",
              "       width=\"24px\">\n",
              "    <path d=\"M0 0h24v24H0V0z\" fill=\"none\"/>\n",
              "    <path d=\"M18.56 5.44l.94 2.06.94-2.06 2.06-.94-2.06-.94-.94-2.06-.94 2.06-2.06.94zm-11 1L8.5 8.5l.94-2.06 2.06-.94-2.06-.94L8.5 2.5l-.94 2.06-2.06.94zm10 10l.94 2.06.94-2.06 2.06-.94-2.06-.94-.94-2.06-.94 2.06-2.06.94z\"/><path d=\"M17.41 7.96l-1.37-1.37c-.4-.4-.92-.59-1.43-.59-.52 0-1.04.2-1.43.59L10.3 9.45l-7.72 7.72c-.78.78-.78 2.05 0 2.83L4 21.41c.39.39.9.59 1.41.59.51 0 1.02-.2 1.41-.59l7.78-7.78 2.81-2.81c.8-.78.8-2.07 0-2.86zM5.41 20L4 18.59l7.72-7.72 1.47 1.35L5.41 20z\"/>\n",
              "  </svg>\n",
              "      </button>\n",
              "      \n",
              "  <style>\n",
              "    .colab-df-container {\n",
              "      display:flex;\n",
              "      flex-wrap:wrap;\n",
              "      gap: 12px;\n",
              "    }\n",
              "\n",
              "    .colab-df-convert {\n",
              "      background-color: #E8F0FE;\n",
              "      border: none;\n",
              "      border-radius: 50%;\n",
              "      cursor: pointer;\n",
              "      display: none;\n",
              "      fill: #1967D2;\n",
              "      height: 32px;\n",
              "      padding: 0 0 0 0;\n",
              "      width: 32px;\n",
              "    }\n",
              "\n",
              "    .colab-df-convert:hover {\n",
              "      background-color: #E2EBFA;\n",
              "      box-shadow: 0px 1px 2px rgba(60, 64, 67, 0.3), 0px 1px 3px 1px rgba(60, 64, 67, 0.15);\n",
              "      fill: #174EA6;\n",
              "    }\n",
              "\n",
              "    [theme=dark] .colab-df-convert {\n",
              "      background-color: #3B4455;\n",
              "      fill: #D2E3FC;\n",
              "    }\n",
              "\n",
              "    [theme=dark] .colab-df-convert:hover {\n",
              "      background-color: #434B5C;\n",
              "      box-shadow: 0px 1px 3px 1px rgba(0, 0, 0, 0.15);\n",
              "      filter: drop-shadow(0px 1px 2px rgba(0, 0, 0, 0.3));\n",
              "      fill: #FFFFFF;\n",
              "    }\n",
              "  </style>\n",
              "\n",
              "      <script>\n",
              "        const buttonEl =\n",
              "          document.querySelector('#df-442ad940-0a61-4c3d-a1b1-150293d9ee6c button.colab-df-convert');\n",
              "        buttonEl.style.display =\n",
              "          google.colab.kernel.accessAllowed ? 'block' : 'none';\n",
              "\n",
              "        async function convertToInteractive(key) {\n",
              "          const element = document.querySelector('#df-442ad940-0a61-4c3d-a1b1-150293d9ee6c');\n",
              "          const dataTable =\n",
              "            await google.colab.kernel.invokeFunction('convertToInteractive',\n",
              "                                                     [key], {});\n",
              "          if (!dataTable) return;\n",
              "\n",
              "          const docLinkHtml = 'Like what you see? Visit the ' +\n",
              "            '<a target=\"_blank\" href=https://colab.research.google.com/notebooks/data_table.ipynb>data table notebook</a>'\n",
              "            + ' to learn more about interactive tables.';\n",
              "          element.innerHTML = '';\n",
              "          dataTable['output_type'] = 'display_data';\n",
              "          await google.colab.output.renderOutput(dataTable, element);\n",
              "          const docLink = document.createElement('div');\n",
              "          docLink.innerHTML = docLinkHtml;\n",
              "          element.appendChild(docLink);\n",
              "        }\n",
              "      </script>\n",
              "    </div>\n",
              "  </div>\n",
              "  "
            ]
          },
          "metadata": {},
          "execution_count": 87
        }
      ]
    },
    {
      "cell_type": "markdown",
      "metadata": {
        "id": "6EDWMOkTGfoD"
      },
      "source": [
        "**Finding: the best alpha (lambda) for Lasso is 0,1**"
      ]
    },
    {
      "cell_type": "code",
      "metadata": {
        "colab": {
          "base_uri": "https://localhost:8080/"
        },
        "outputId": "081ce87d-b108-4285-ee13-b71529fddc03",
        "id": "s-v6-_VxGfoE"
      },
      "source": [
        "# the best model\n",
        "lasso_reg_gridcv.best_estimator_"
      ],
      "execution_count": null,
      "outputs": [
        {
          "output_type": "execute_result",
          "data": {
            "text/plain": [
              "Lasso(alpha=0.1, random_state=42)"
            ]
          },
          "metadata": {},
          "execution_count": 88
        }
      ]
    },
    {
      "cell_type": "code",
      "execution_count": null,
      "metadata": {
        "id": "utcAvMeBGfoE"
      },
      "outputs": [],
      "source": [
        "# Putting Best possible paramteres into model\n",
        "\n",
        "lasso_optimal_model = lasso_reg_gridcv.best_estimator_"
      ]
    },
    {
      "cell_type": "code",
      "execution_count": null,
      "metadata": {
        "id": "-5vNj2byGfoF"
      },
      "outputs": [],
      "source": [
        "# Making predictions on train and test data\n",
        "\n",
        "y_pred_trainLasso = lasso_optimal_model.predict(X_train_nump)\n",
        "y_predLasso= lasso_optimal_model.predict(X_test_nump)"
      ]
    },
    {
      "cell_type": "code",
      "source": [],
      "metadata": {
        "id": "c1gJLyK1GfoF"
      },
      "execution_count": null,
      "outputs": []
    },
    {
      "cell_type": "markdown",
      "source": [
        "### Evaluation"
      ],
      "metadata": {
        "id": "YrKCh-cGGfoG"
      }
    },
    {
      "cell_type": "code",
      "source": [
        "# Calculate RMSE, MAE, R2 for training data\n",
        "\n",
        "RMSEL = (np.sqrt(mean_squared_error((y_train_nump), (y_pred_trainLasso))))\n",
        "MAEL = mean_absolute_error(y_train_nump, y_pred_trainLasso)\n",
        "MAPEL = mean_absolute_percentage_error(y_train_nump, y_pred_trainLasso)\n",
        "R2L = r2_score(y_train_nump, y_pred_trainLasso)"
      ],
      "metadata": {
        "id": "7FU5ayyhGfoG"
      },
      "execution_count": null,
      "outputs": []
    },
    {
      "cell_type": "code",
      "source": [
        "# Calculate RMSE, MAE, R2 for testing data\n",
        "\n",
        "RMSEtestL = (np.sqrt(mean_squared_error((y_test_nump), (y_predLasso))))\n",
        "MAEtestL = mean_absolute_error(y_test_nump, y_predLasso)\n",
        "MAPEtestL = mean_absolute_percentage_error(y_test_nump, y_predLasso)\n",
        "R2testL = r2_score(y_test_nump, y_predLasso)"
      ],
      "metadata": {
        "id": "8eJ4IQsbGfoH"
      },
      "execution_count": null,
      "outputs": []
    },
    {
      "cell_type": "code",
      "source": [
        "# Printing Errors\n",
        "\n",
        "print('Training Errors\\nRMSE:', RMSEL , '\\nMAE:' , MAEL ,'\\nMAPE:' , MAPEL , '\\nR2:',round((R2L),3))\n",
        "print('\\n\\nTesting Errors\\nRMSE:', RMSEtestL , '\\nMAE:' , MAEtestL , '\\nMAPE:' , MAPEtestL ,'\\nR2:',round((R2testL),3))"
      ],
      "metadata": {
        "colab": {
          "base_uri": "https://localhost:8080/"
        },
        "outputId": "0ad4a5ae-206c-49a4-b80f-ddedf65c4be1",
        "id": "1fIEv_pYGfoH"
      },
      "execution_count": null,
      "outputs": [
        {
          "output_type": "stream",
          "name": "stdout",
          "text": [
            "Training Errors\n",
            "RMSE: 7.602908906324834 \n",
            "MAE: 3.789040110541222 \n",
            "MAPE: 1.1618420606120161 \n",
            "R2: 0.107\n",
            "\n",
            "\n",
            "Testing Errors\n",
            "RMSE: 7.572401512718442 \n",
            "MAE: 3.7808027157324338 \n",
            "MAPE: 1.1613155754795086 \n",
            "R2: 0.108\n"
          ]
        }
      ]
    },
    {
      "cell_type": "markdown",
      "source": [
        "Observasi:\n",
        "\n",
        "- Secara rata-rata, penyimpangan model (Lasso) prediksi dari data aktual `Length of Stay` adalah sebesar 3.8 satuan (MAE).\n",
        "\n",
        "- Penyimpangan sebesar 3.8 satuan tesebut setara dengan penyimpangan sebesar 1.16% (pada MAPE) dari data aktual `Length of Stay`.\n",
        "\n",
        "- Model (Lasso) yang dibuat, tidak under-fitting ataupun over-fitting karena selisih MAPE pada testing & training error yang kecil dan masih di bawah 30%."
      ],
      "metadata": {
        "id": "MW_7oWKUGfoI"
      }
    },
    {
      "cell_type": "code",
      "metadata": {
        "colab": {
          "base_uri": "https://localhost:8080/"
        },
        "outputId": "0ee36cb9-22af-4ee9-9cd3-15bd7c422934",
        "id": "VfatOaZzGfoI"
      },
      "source": [
        "# the coefficients of the best estimator (exclude intercept)\n",
        "lasso_reg_gridcv.best_estimator_.coef_"
      ],
      "execution_count": null,
      "outputs": [
        {
          "output_type": "execute_result",
          "data": {
            "text/plain": [
              "array([ 0.00000000e+00,  5.08829097e-03, -6.89495086e-04,  2.13033997e-01,\n",
              "        5.24255293e-01, -2.73994528e-01, -0.00000000e+00,  8.41969804e-02,\n",
              "        2.53693970e-01,  4.20761834e-03,  5.07011784e-03, -2.25412218e-03,\n",
              "        5.45679925e-02, -1.57572374e+00, -9.50079130e-01, -2.70172631e-01,\n",
              "        1.02273249e-02, -3.51384585e-04, -0.00000000e+00])"
            ]
          },
          "metadata": {},
          "execution_count": 94
        }
      ]
    },
    {
      "cell_type": "code",
      "metadata": {
        "colab": {
          "base_uri": "https://localhost:8080/"
        },
        "outputId": "54152945-46fc-46f3-fb6f-78f5a62fc615",
        "id": "n3hFLGK9GfoJ"
      },
      "source": [
        "# the intercept of the best estimator\n",
        "lasso_reg_gridcv.best_estimator_.intercept_"
      ],
      "execution_count": null,
      "outputs": [
        {
          "output_type": "execute_result",
          "data": {
            "text/plain": [
              "6.847982123730136"
            ]
          },
          "metadata": {},
          "execution_count": 95
        }
      ]
    },
    {
      "cell_type": "code",
      "metadata": {
        "colab": {
          "base_uri": "https://localhost:8080/",
          "height": 677
        },
        "outputId": "ffaf0896-2824-4f17-bb03-eccdb63ce1d3",
        "id": "bYii37ThGfoK"
      },
      "source": [
        "# show as a nice dataframe\n",
        "coef_df = pd.DataFrame({\n",
        "    'feature':['intercept'] + data.drop(columns=['Length of Stay','Total Charges']).columns.tolist(),\n",
        "    'coefficient':[lasso_reg_gridcv.best_estimator_.intercept_] + list(lasso_reg_gridcv.best_estimator_.coef_)\n",
        "})\n",
        "\n",
        "coef_df = coef_df.sort_values('coefficient', ascending=False)\n",
        "coef_df\n"
      ],
      "execution_count": null,
      "outputs": [
        {
          "output_type": "execute_result",
          "data": {
            "text/plain": [
              "                                feature  coefficient\n",
              "0                             intercept     6.847982\n",
              "5                                Gender     0.524255\n",
              "9                   Patient Disposition     0.253694\n",
              "4                             Age Group     0.213034\n",
              "8                     Type of Admission     0.084197\n",
              "13                  APR MDC Description     0.054568\n",
              "17                   Payment Typology 1     0.010227\n",
              "2                       Hospital County     0.005088\n",
              "11            CCS Procedure Description     0.005070\n",
              "10            CCS Diagnosis Description     0.004208\n",
              "1                   Health Service Area     0.000000\n",
              "7                             Ethnicity    -0.000000\n",
              "19       Emergency Department Indicator    -0.000000\n",
              "18                         Birth Weight    -0.000351\n",
              "3                         Facility Name    -0.000689\n",
              "12                  APR DRG Description    -0.002254\n",
              "16     APR Medical Surgical Description    -0.270173\n",
              "6                                  Race    -0.273995\n",
              "15                APR Risk of Mortality    -0.950079\n",
              "14  APR Severity of Illness Description    -1.575724"
            ],
            "text/html": [
              "\n",
              "  <div id=\"df-b4897e3b-ea6e-4235-9017-d391737ca4bb\">\n",
              "    <div class=\"colab-df-container\">\n",
              "      <div>\n",
              "<style scoped>\n",
              "    .dataframe tbody tr th:only-of-type {\n",
              "        vertical-align: middle;\n",
              "    }\n",
              "\n",
              "    .dataframe tbody tr th {\n",
              "        vertical-align: top;\n",
              "    }\n",
              "\n",
              "    .dataframe thead th {\n",
              "        text-align: right;\n",
              "    }\n",
              "</style>\n",
              "<table border=\"1\" class=\"dataframe\">\n",
              "  <thead>\n",
              "    <tr style=\"text-align: right;\">\n",
              "      <th></th>\n",
              "      <th>feature</th>\n",
              "      <th>coefficient</th>\n",
              "    </tr>\n",
              "  </thead>\n",
              "  <tbody>\n",
              "    <tr>\n",
              "      <th>0</th>\n",
              "      <td>intercept</td>\n",
              "      <td>6.847982</td>\n",
              "    </tr>\n",
              "    <tr>\n",
              "      <th>5</th>\n",
              "      <td>Gender</td>\n",
              "      <td>0.524255</td>\n",
              "    </tr>\n",
              "    <tr>\n",
              "      <th>9</th>\n",
              "      <td>Patient Disposition</td>\n",
              "      <td>0.253694</td>\n",
              "    </tr>\n",
              "    <tr>\n",
              "      <th>4</th>\n",
              "      <td>Age Group</td>\n",
              "      <td>0.213034</td>\n",
              "    </tr>\n",
              "    <tr>\n",
              "      <th>8</th>\n",
              "      <td>Type of Admission</td>\n",
              "      <td>0.084197</td>\n",
              "    </tr>\n",
              "    <tr>\n",
              "      <th>13</th>\n",
              "      <td>APR MDC Description</td>\n",
              "      <td>0.054568</td>\n",
              "    </tr>\n",
              "    <tr>\n",
              "      <th>17</th>\n",
              "      <td>Payment Typology 1</td>\n",
              "      <td>0.010227</td>\n",
              "    </tr>\n",
              "    <tr>\n",
              "      <th>2</th>\n",
              "      <td>Hospital County</td>\n",
              "      <td>0.005088</td>\n",
              "    </tr>\n",
              "    <tr>\n",
              "      <th>11</th>\n",
              "      <td>CCS Procedure Description</td>\n",
              "      <td>0.005070</td>\n",
              "    </tr>\n",
              "    <tr>\n",
              "      <th>10</th>\n",
              "      <td>CCS Diagnosis Description</td>\n",
              "      <td>0.004208</td>\n",
              "    </tr>\n",
              "    <tr>\n",
              "      <th>1</th>\n",
              "      <td>Health Service Area</td>\n",
              "      <td>0.000000</td>\n",
              "    </tr>\n",
              "    <tr>\n",
              "      <th>7</th>\n",
              "      <td>Ethnicity</td>\n",
              "      <td>-0.000000</td>\n",
              "    </tr>\n",
              "    <tr>\n",
              "      <th>19</th>\n",
              "      <td>Emergency Department Indicator</td>\n",
              "      <td>-0.000000</td>\n",
              "    </tr>\n",
              "    <tr>\n",
              "      <th>18</th>\n",
              "      <td>Birth Weight</td>\n",
              "      <td>-0.000351</td>\n",
              "    </tr>\n",
              "    <tr>\n",
              "      <th>3</th>\n",
              "      <td>Facility Name</td>\n",
              "      <td>-0.000689</td>\n",
              "    </tr>\n",
              "    <tr>\n",
              "      <th>12</th>\n",
              "      <td>APR DRG Description</td>\n",
              "      <td>-0.002254</td>\n",
              "    </tr>\n",
              "    <tr>\n",
              "      <th>16</th>\n",
              "      <td>APR Medical Surgical Description</td>\n",
              "      <td>-0.270173</td>\n",
              "    </tr>\n",
              "    <tr>\n",
              "      <th>6</th>\n",
              "      <td>Race</td>\n",
              "      <td>-0.273995</td>\n",
              "    </tr>\n",
              "    <tr>\n",
              "      <th>15</th>\n",
              "      <td>APR Risk of Mortality</td>\n",
              "      <td>-0.950079</td>\n",
              "    </tr>\n",
              "    <tr>\n",
              "      <th>14</th>\n",
              "      <td>APR Severity of Illness Description</td>\n",
              "      <td>-1.575724</td>\n",
              "    </tr>\n",
              "  </tbody>\n",
              "</table>\n",
              "</div>\n",
              "      <button class=\"colab-df-convert\" onclick=\"convertToInteractive('df-b4897e3b-ea6e-4235-9017-d391737ca4bb')\"\n",
              "              title=\"Convert this dataframe to an interactive table.\"\n",
              "              style=\"display:none;\">\n",
              "        \n",
              "  <svg xmlns=\"http://www.w3.org/2000/svg\" height=\"24px\"viewBox=\"0 0 24 24\"\n",
              "       width=\"24px\">\n",
              "    <path d=\"M0 0h24v24H0V0z\" fill=\"none\"/>\n",
              "    <path d=\"M18.56 5.44l.94 2.06.94-2.06 2.06-.94-2.06-.94-.94-2.06-.94 2.06-2.06.94zm-11 1L8.5 8.5l.94-2.06 2.06-.94-2.06-.94L8.5 2.5l-.94 2.06-2.06.94zm10 10l.94 2.06.94-2.06 2.06-.94-2.06-.94-.94-2.06-.94 2.06-2.06.94z\"/><path d=\"M17.41 7.96l-1.37-1.37c-.4-.4-.92-.59-1.43-.59-.52 0-1.04.2-1.43.59L10.3 9.45l-7.72 7.72c-.78.78-.78 2.05 0 2.83L4 21.41c.39.39.9.59 1.41.59.51 0 1.02-.2 1.41-.59l7.78-7.78 2.81-2.81c.8-.78.8-2.07 0-2.86zM5.41 20L4 18.59l7.72-7.72 1.47 1.35L5.41 20z\"/>\n",
              "  </svg>\n",
              "      </button>\n",
              "      \n",
              "  <style>\n",
              "    .colab-df-container {\n",
              "      display:flex;\n",
              "      flex-wrap:wrap;\n",
              "      gap: 12px;\n",
              "    }\n",
              "\n",
              "    .colab-df-convert {\n",
              "      background-color: #E8F0FE;\n",
              "      border: none;\n",
              "      border-radius: 50%;\n",
              "      cursor: pointer;\n",
              "      display: none;\n",
              "      fill: #1967D2;\n",
              "      height: 32px;\n",
              "      padding: 0 0 0 0;\n",
              "      width: 32px;\n",
              "    }\n",
              "\n",
              "    .colab-df-convert:hover {\n",
              "      background-color: #E2EBFA;\n",
              "      box-shadow: 0px 1px 2px rgba(60, 64, 67, 0.3), 0px 1px 3px 1px rgba(60, 64, 67, 0.15);\n",
              "      fill: #174EA6;\n",
              "    }\n",
              "\n",
              "    [theme=dark] .colab-df-convert {\n",
              "      background-color: #3B4455;\n",
              "      fill: #D2E3FC;\n",
              "    }\n",
              "\n",
              "    [theme=dark] .colab-df-convert:hover {\n",
              "      background-color: #434B5C;\n",
              "      box-shadow: 0px 1px 3px 1px rgba(0, 0, 0, 0.15);\n",
              "      filter: drop-shadow(0px 1px 2px rgba(0, 0, 0, 0.3));\n",
              "      fill: #FFFFFF;\n",
              "    }\n",
              "  </style>\n",
              "\n",
              "      <script>\n",
              "        const buttonEl =\n",
              "          document.querySelector('#df-b4897e3b-ea6e-4235-9017-d391737ca4bb button.colab-df-convert');\n",
              "        buttonEl.style.display =\n",
              "          google.colab.kernel.accessAllowed ? 'block' : 'none';\n",
              "\n",
              "        async function convertToInteractive(key) {\n",
              "          const element = document.querySelector('#df-b4897e3b-ea6e-4235-9017-d391737ca4bb');\n",
              "          const dataTable =\n",
              "            await google.colab.kernel.invokeFunction('convertToInteractive',\n",
              "                                                     [key], {});\n",
              "          if (!dataTable) return;\n",
              "\n",
              "          const docLinkHtml = 'Like what you see? Visit the ' +\n",
              "            '<a target=\"_blank\" href=https://colab.research.google.com/notebooks/data_table.ipynb>data table notebook</a>'\n",
              "            + ' to learn more about interactive tables.';\n",
              "          element.innerHTML = '';\n",
              "          dataTable['output_type'] = 'display_data';\n",
              "          await google.colab.output.renderOutput(dataTable, element);\n",
              "          const docLink = document.createElement('div');\n",
              "          docLink.innerHTML = docLinkHtml;\n",
              "          element.appendChild(docLink);\n",
              "        }\n",
              "      </script>\n",
              "    </div>\n",
              "  </div>\n",
              "  "
            ]
          },
          "metadata": {},
          "execution_count": 96
        }
      ]
    },
    {
      "cell_type": "markdown",
      "source": [
        "# Exploratory Data Analysis"
      ],
      "metadata": {
        "id": "4dEP87V1bKoU"
      }
    },
    {
      "cell_type": "markdown",
      "source": [
        "***Continue to the [next colab](https://colab.research.google.com/drive/1Bgh2K9Jf0rY1btPhIAdcd4eIVYyS6jCs?usp=sharing)***"
      ],
      "metadata": {
        "id": "vOjbY5o-DXCq"
      }
    }
  ]
}